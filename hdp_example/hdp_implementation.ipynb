{
 "cells": [
  {
   "cell_type": "markdown",
   "metadata": {},
   "source": [
    "## Pre-reqs"
   ]
  },
  {
   "cell_type": "code",
   "execution_count": null,
   "metadata": {},
   "outputs": [],
   "source": [
    "#! pip3 install -U spacy\n",
    "#! pip3 install -U spacy-lookups-data\n",
    "#! python3 -m spacy download en_core_web_sm"
   ]
  },
  {
   "cell_type": "code",
   "execution_count": null,
   "metadata": {},
   "outputs": [],
   "source": [
    "#! pip3 install nltk\n",
    "#! pip3 install plotnine\n",
    "#! pip3 install tomotopy"
   ]
  },
  {
   "cell_type": "code",
   "execution_count": 1,
   "metadata": {},
   "outputs": [
    {
     "data": {
      "text/plain": [
       "True"
      ]
     },
     "execution_count": 1,
     "metadata": {},
     "output_type": "execute_result"
    }
   ],
   "source": [
    "import nltk\n",
    "\n",
    "nltk.download('stopwords', quiet=True)"
   ]
  },
  {
   "cell_type": "markdown",
   "metadata": {},
   "source": [
    "## Load packages"
   ]
  },
  {
   "cell_type": "code",
   "execution_count": 26,
   "metadata": {},
   "outputs": [],
   "source": [
    "import pandas as pd\n",
    "from pandas import option_context\n",
    "import numpy as np\n",
    "import string\n",
    "import re\n",
    "import sys\n",
    "\n",
    "# Tomotopy\n",
    "import tomotopy as tp\n",
    "\n",
    "# Spacy\n",
    "import spacy\n",
    "\n",
    "# Sklearn\n",
    "from sklearn.datasets import fetch_20newsgroups\n",
    "\n",
    "# Plotting\n",
    "from pprint import pprint\n",
    "from plotnine import ggplot, aes, geom_line, geom_histogram, labs, theme_bw, scale_x_continuous\n",
    "import matplotlib.pyplot as plt\n",
    "\n",
    "# Gensim\n",
    "import gensim\n",
    "import gensim.corpora as corpora\n",
    "from gensim.models import Phrases\n",
    "from gensim.models.phrases import Phraser\n",
    "from gensim.models.wrappers import LdaMallet\n",
    "\n",
    "import pyLDAvis.gensim\n"
   ]
  },
  {
   "cell_type": "markdown",
   "metadata": {},
   "source": [
    "### Prep stopwords"
   ]
  },
  {
   "cell_type": "code",
   "execution_count": 4,
   "metadata": {},
   "outputs": [],
   "source": [
    "from nltk.corpus import stopwords\n",
    "st_words = stopwords.words('english')\n",
    "st_words.extend(['from', 'subject', 're', 'edu', 'use'])"
   ]
  },
  {
   "cell_type": "markdown",
   "metadata": {},
   "source": [
    "### Read abstract data"
   ]
  },
  {
   "cell_type": "code",
   "execution_count": 3,
   "metadata": {},
   "outputs": [],
   "source": [
    "news = fetch_20newsgroups(subset='train')"
   ]
  },
  {
   "cell_type": "code",
   "execution_count": 5,
   "metadata": {},
   "outputs": [
    {
     "data": {
      "text/html": [
       "<div>\n",
       "<style scoped>\n",
       "    .dataframe tbody tr th:only-of-type {\n",
       "        vertical-align: middle;\n",
       "    }\n",
       "\n",
       "    .dataframe tbody tr th {\n",
       "        vertical-align: top;\n",
       "    }\n",
       "\n",
       "    .dataframe thead th {\n",
       "        text-align: right;\n",
       "    }\n",
       "</style>\n",
       "<table border=\"1\" class=\"dataframe\">\n",
       "  <thead>\n",
       "    <tr style=\"text-align: right;\">\n",
       "      <th></th>\n",
       "      <th>topic_id</th>\n",
       "      <th>content</th>\n",
       "      <th>topic_name</th>\n",
       "    </tr>\n",
       "  </thead>\n",
       "  <tbody>\n",
       "    <tr>\n",
       "      <th>0</th>\n",
       "      <td>7</td>\n",
       "      <td>From: lerxst@wam.umd.edu (where's my thing)\\nS...</td>\n",
       "      <td>rec.autos</td>\n",
       "    </tr>\n",
       "    <tr>\n",
       "      <th>1</th>\n",
       "      <td>4</td>\n",
       "      <td>From: guykuo@carson.u.washington.edu (Guy Kuo)...</td>\n",
       "      <td>comp.sys.mac.hardware</td>\n",
       "    </tr>\n",
       "    <tr>\n",
       "      <th>2</th>\n",
       "      <td>4</td>\n",
       "      <td>From: twillis@ec.ecn.purdue.edu (Thomas E Will...</td>\n",
       "      <td>comp.sys.mac.hardware</td>\n",
       "    </tr>\n",
       "    <tr>\n",
       "      <th>3</th>\n",
       "      <td>1</td>\n",
       "      <td>From: jgreen@amber (Joe Green)\\nSubject: Re: W...</td>\n",
       "      <td>comp.graphics</td>\n",
       "    </tr>\n",
       "    <tr>\n",
       "      <th>4</th>\n",
       "      <td>14</td>\n",
       "      <td>From: jcm@head-cfa.harvard.edu (Jonathan McDow...</td>\n",
       "      <td>sci.space</td>\n",
       "    </tr>\n",
       "  </tbody>\n",
       "</table>\n",
       "</div>"
      ],
      "text/plain": [
       "   topic_id                                            content  \\\n",
       "0         7  From: lerxst@wam.umd.edu (where's my thing)\\nS...   \n",
       "1         4  From: guykuo@carson.u.washington.edu (Guy Kuo)...   \n",
       "2         4  From: twillis@ec.ecn.purdue.edu (Thomas E Will...   \n",
       "3         1  From: jgreen@amber (Joe Green)\\nSubject: Re: W...   \n",
       "4        14  From: jcm@head-cfa.harvard.edu (Jonathan McDow...   \n",
       "\n",
       "              topic_name  \n",
       "0              rec.autos  \n",
       "1  comp.sys.mac.hardware  \n",
       "2  comp.sys.mac.hardware  \n",
       "3          comp.graphics  \n",
       "4              sci.space  "
      ]
     },
     "execution_count": 5,
     "metadata": {},
     "output_type": "execute_result"
    }
   ],
   "source": [
    "\n",
    "news_df = pd.DataFrame([news.target, news.data]).T\n",
    "news_df = news_df.set_index(0)\n",
    "\n",
    "news_df = pd.concat([news_df, pd.Series(news.target_names)],axis=1, join=\"inner\")\n",
    "news_df.reset_index(inplace=True)\n",
    "news_df.columns = [\"topic_id\", \"content\", \"topic_name\"]\n",
    "\n",
    "news_df.head()"
   ]
  },
  {
   "cell_type": "code",
   "execution_count": 6,
   "metadata": {},
   "outputs": [],
   "source": [
    "doc_list = news_df.content.values.tolist()"
   ]
  },
  {
   "cell_type": "code",
   "execution_count": 7,
   "metadata": {},
   "outputs": [
    {
     "data": {
      "text/plain": [
       "\"From: lerxst@wam.umd.edu (where's my thing)\\nSubject: WHAT car is this!?\\nNntp-Posting-Host: rac3.wam.umd.edu\\nOrganization: University of Maryland, College Park\\nLines: 15\\n\\n I was wondering if anyone out there could enlighten me on this car I saw\\nthe other day. It was a 2-door sports car, looked to be from the late 60s/\\nearly 70s. It was called a Bricklin. The doors were really small. In addition,\\nthe front bumper was separate from the rest of the body. This is \\nall I know. If anyone can tellme a model name, engine specs, years\\nof production, where this car is made, history, or whatever info you\\nhave on this funky looking car, please e-mail.\\n\\nThanks,\\n- IL\\n   ---- brought to you by your neighborhood Lerxst ----\\n\\n\\n\\n\\n\""
      ]
     },
     "execution_count": 7,
     "metadata": {},
     "output_type": "execute_result"
    }
   ],
   "source": [
    "doc_list[0]"
   ]
  },
  {
   "cell_type": "markdown",
   "metadata": {},
   "source": [
    "### Removing @s, new lines and single quotes"
   ]
  },
  {
   "cell_type": "code",
   "execution_count": 8,
   "metadata": {},
   "outputs": [],
   "source": [
    "# Remove Emails\n",
    "doc_list = [re.sub(r'\\S*@\\S*\\s?', '', sent) for sent in doc_list]\n",
    "\n",
    "# Remove new line characters\n",
    "doc_list = [re.sub(r'\\s+', ' ', sent) for sent in doc_list]\n",
    "\n",
    "# Remove distracting single quotes\n",
    "doc_list = [re.sub(r\"\\'\", \"\", sent) for sent in doc_list]\n"
   ]
  },
  {
   "cell_type": "markdown",
   "metadata": {},
   "source": [
    "### Removing punctuations, lowercasing and splitting abstracts into lists"
   ]
  },
  {
   "cell_type": "code",
   "execution_count": 9,
   "metadata": {},
   "outputs": [],
   "source": [
    "word_list = [gensim.utils.simple_preprocess(txt, deacc=True, min_len=3) for txt in doc_list]"
   ]
  },
  {
   "cell_type": "code",
   "execution_count": 10,
   "metadata": {},
   "outputs": [
    {
     "data": {
      "text/plain": [
       "['from', 'wheres', 'thing', 'subject', 'what', 'car']"
      ]
     },
     "execution_count": 10,
     "metadata": {},
     "output_type": "execute_result"
    }
   ],
   "source": [
    "word_list[0][:6]"
   ]
  },
  {
   "cell_type": "markdown",
   "metadata": {},
   "source": [
    "### Bigram model to capture co-occurent words"
   ]
  },
  {
   "cell_type": "code",
   "execution_count": 11,
   "metadata": {},
   "outputs": [],
   "source": [
    "bigram = Phrases(word_list, min_count=5, threshold=100)\n",
    "\n",
    "bigram_model = Phraser(bigram)\n"
   ]
  },
  {
   "cell_type": "markdown",
   "metadata": {},
   "source": [
    "### Remove standard and extended Stopwords"
   ]
  },
  {
   "cell_type": "code",
   "execution_count": 12,
   "metadata": {},
   "outputs": [
    {
     "name": "stdout",
     "output_type": "stream",
     "text": [
      "Kept ==> A\n",
      "Kept ==> letter\n",
      "Removed: has\n",
      "Removed: been\n",
      "Kept ==> written\n",
      "Kept ==> asking\n",
      "Removed: him\n",
      "Removed: to\n",
      "Removed: be\n",
      "Kept ==> released\n"
     ]
    }
   ],
   "source": [
    "sentence = \"A letter has been written asking him to be released\"\n",
    "for word in sentence.split():\n",
    "    if word not in st_words:\n",
    "        print(\"Kept ==> \" +word)\n",
    "    else:\n",
    "        print(\"Removed: \" +word)"
   ]
  },
  {
   "cell_type": "code",
   "execution_count": 13,
   "metadata": {},
   "outputs": [],
   "source": [
    "word_list_nostops = [[word for word in txt if word not in st_words] for txt in word_list]"
   ]
  },
  {
   "cell_type": "code",
   "execution_count": 17,
   "metadata": {},
   "outputs": [
    {
     "data": {
      "text/plain": [
       "['wheres', 'thing', 'car', 'nntp', 'posting', 'host', 'rac']"
      ]
     },
     "execution_count": 17,
     "metadata": {},
     "output_type": "execute_result"
    }
   ],
   "source": [
    "word_list_nostops[0][:7]"
   ]
  },
  {
   "cell_type": "markdown",
   "metadata": {},
   "source": [
    "### Create Bigrams"
   ]
  },
  {
   "cell_type": "code",
   "execution_count": 18,
   "metadata": {},
   "outputs": [],
   "source": [
    "word_bigrams = [bigram_model[w_vec] for w_vec in word_list_nostops]"
   ]
  },
  {
   "cell_type": "code",
   "execution_count": 20,
   "metadata": {},
   "outputs": [
    {
     "data": {
      "text/plain": [
       "['wheres', 'thing', 'car', 'nntp_posting', 'host', 'rac_wam', 'umd']"
      ]
     },
     "execution_count": 20,
     "metadata": {},
     "output_type": "execute_result"
    }
   ],
   "source": [
    "word_bigrams[0][:7]"
   ]
  },
  {
   "cell_type": "markdown",
   "metadata": {},
   "source": [
    "### Word Lemmatization"
   ]
  },
  {
   "cell_type": "code",
   "execution_count": 21,
   "metadata": {},
   "outputs": [
    {
     "name": "stdout",
     "output_type": "stream",
     "text": [
      "A ==> a, DET\n",
      "letter ==> letter, NOUN\n",
      "has ==> have, AUX\n",
      "been ==> be, AUX\n",
      "written ==> write, VERB\n",
      "asking ==> ask, VERB\n",
      "him ==> -PRON-, PRON\n",
      "to ==> to, PART\n",
      "be ==> be, AUX\n",
      "released ==> release, VERB\n"
     ]
    }
   ],
   "source": [
    "## Example\n",
    "sentence = \"A letter has been written asking him to be released\"\n",
    "\n",
    "spC = spacy.load('en_core_web_sm')\n",
    "\n",
    "lemma_sentence = spC(sentence)\n",
    "for token in lemma_sentence:\n",
    "    print(token.text + \" ==> \" +token.lemma_ + \", \" + token.pos_)"
   ]
  },
  {
   "cell_type": "code",
   "execution_count": 22,
   "metadata": {},
   "outputs": [],
   "source": [
    "\n",
    "spC = spacy.load('en_core_web_sm')\n",
    "postags = ['NOUN','VERB', 'ADV', 'ADJ']\n",
    "\n",
    "\n",
    "def lemmatize(word_list, ptags = postags ):\n",
    "    '''Lemmatizes words based on allowed postags, input format is list of sublists \n",
    "       with strings'''\n",
    "    \n",
    "    lem_lists =[]\n",
    "    for vec in word_list:\n",
    "        sentence = spC(\" \".join(vec))\n",
    "        lem_lists.append([token.lemma_ for token in sentence if token.pos_ in ptags])\n",
    "    \n",
    "    return lem_lists\n"
   ]
  },
  {
   "cell_type": "code",
   "execution_count": 23,
   "metadata": {},
   "outputs": [],
   "source": [
    "\n",
    "word_list_lemmatized = lemmatize(word_bigrams)\n"
   ]
  },
  {
   "cell_type": "code",
   "execution_count": 24,
   "metadata": {},
   "outputs": [
    {
     "name": "stdout",
     "output_type": "stream",
     "text": [
      "wheres ==> where\n",
      "thing ==> thing\n",
      "car ==> car\n",
      "nntp_posting ==> nntp_poste\n",
      "host ==> host\n"
     ]
    }
   ],
   "source": [
    "# Lemmatization in action\n",
    "for i, j in zip(word_bigrams[0][:5], word_list_lemmatized[0][:5]):\n",
    "    print(i + \" ==> \" + j )"
   ]
  },
  {
   "cell_type": "markdown",
   "metadata": {},
   "source": [
    "### Tomotopy"
   ]
  },
  {
   "cell_type": "code",
   "execution_count": 317,
   "metadata": {},
   "outputs": [],
   "source": [
    "from sklearn.model_selection import train_test_split"
   ]
  },
  {
   "cell_type": "code",
   "execution_count": 328,
   "metadata": {},
   "outputs": [],
   "source": [
    "indices = np.arange(len(word_list_lemmatized))\n",
    "train_set, test_set, train_idx, test_idx = train_test_split(word_list_lemmatized, indices,  test_size=0.2, random_state=1)"
   ]
  },
  {
   "cell_type": "code",
   "execution_count": 320,
   "metadata": {},
   "outputs": [],
   "source": [
    "hdp = tp.HDPModel(tw=tp.TermWeight.IDF, min_cf=5,\n",
    "                  rm_top=7, gamma=1, alpha=0.1, initial_k=10, seed=99999)\n",
    "\n",
    "for vec in word_list_lemmatized:\n",
    "    hdp.add_doc(vec)"
   ]
  },
  {
   "cell_type": "code",
   "execution_count": null,
   "metadata": {},
   "outputs": [],
   "source": []
  },
  {
   "cell_type": "code",
   "execution_count": 364,
   "metadata": {},
   "outputs": [],
   "source": [
    "hdp = tp.HDPModel(tw=tp.TermWeight.IDF, min_cf=10,\n",
    "                  rm_top=7, gamma=1, alpha=0.1, initial_k=10, seed=99999)"
   ]
  },
  {
   "cell_type": "code",
   "execution_count": 365,
   "metadata": {},
   "outputs": [],
   "source": [
    "for vec in train_set:\n",
    "    hdp.add_doc(vec)"
   ]
  },
  {
   "cell_type": "code",
   "execution_count": 308,
   "metadata": {},
   "outputs": [],
   "source": []
  },
  {
   "cell_type": "code",
   "execution_count": 366,
   "metadata": {},
   "outputs": [
    {
     "name": "stderr",
     "output_type": "stream",
     "text": [
      "Training...\n"
     ]
    },
    {
     "name": "stdout",
     "output_type": "stream",
     "text": [
      "Num docs: 9051 , Vocab size: 6850 , Num words: 768269\n",
      "Removed top words: ['line', 'would', 'write', 'say', 'know', 'article', 'people']\n"
     ]
    }
   ],
   "source": [
    "hdp.burn_in = 100\n",
    "hdp.train(0)\n",
    "print('Num docs:', len(hdp.docs), ', Vocab size:', hdp.num_vocabs, ', Num words:', hdp.num_words)\n",
    "print('Removed top words:', hdp.removed_top_words)\n",
    "print('Training...', file=sys.stderr, flush=True)"
   ]
  },
  {
   "cell_type": "code",
   "execution_count": 367,
   "metadata": {},
   "outputs": [
    {
     "name": "stdout",
     "output_type": "stream",
     "text": [
      "Iteration: 0\tLog-likelihood: -28.121250503037984\tNum. of topics: 14\n",
      "Iteration: 100\tLog-likelihood: -28.114680163930686\tNum. of topics: 14\n",
      "Iteration: 200\tLog-likelihood: -28.114330701922498\tNum. of topics: 14\n",
      "Iteration: 300\tLog-likelihood: -28.11424202512098\tNum. of topics: 14\n",
      "Iteration: 400\tLog-likelihood: -28.115250289374806\tNum. of topics: 14\n",
      "Iteration: 500\tLog-likelihood: -28.111427594161693\tNum. of topics: 15\n",
      "Iteration: 600\tLog-likelihood: -28.1117555238635\tNum. of topics: 14\n",
      "Iteration: 700\tLog-likelihood: -28.111880854704747\tNum. of topics: 14\n",
      "Iteration: 800\tLog-likelihood: -28.11056207379142\tNum. of topics: 14\n",
      "Iteration: 900\tLog-likelihood: -28.111186114717214\tNum. of topics: 14\n"
     ]
    }
   ],
   "source": [
    "for i in range(0, 1000, 100):\n",
    "    hdp.train(100, workers=3)\n",
    "    print('Iteration: {}\\tLog-likelihood: {}\\tNum. of topics: {}'.format(i, hdp.ll_per_word, hdp.live_k))"
   ]
  },
  {
   "cell_type": "code",
   "execution_count": 369,
   "metadata": {},
   "outputs": [
    {
     "name": "stdout",
     "output_type": "stream",
     "text": [
      "Topic #0\n",
      "\t\tbelieve\t0.0029054332990199327\n",
      "\t\treligion\t0.002671332098543644\n",
      "\t\tthink\t0.0024655803572386503\n",
      "\t\tatheist\t0.002413469599559903\n",
      "\t\tmay\t0.0022393891122192144\n",
      "\t\tmany\t0.0022024973295629025\n",
      "\t\tfaith\t0.0021962944883853197\n",
      "\t\tman\t0.002190355444326997\n",
      "\t\tsee\t0.002165014622732997\n",
      "\t\tmake\t0.0021605300717055798\n",
      "Topic #7\n",
      "\t\tgun\t0.004300170112401247\n",
      "\t\tgovernment\t0.003760718507692218\n",
      "\t\tgo\t0.0027496840339154005\n",
      "\t\tright\t0.0026529834140092134\n",
      "\t\tmake\t0.0026041867677122355\n",
      "\t\tlaw\t0.0025736894458532333\n",
      "\t\tthink\t0.0025134331081062555\n",
      "\t\ts\t0.002277219668030739\n",
      "\t\tkill\t0.0021818014793097973\n",
      "\t\tstate\t0.0021662507206201553\n",
      "Topic #5\n",
      "\t\tcard\t0.006398941855877638\n",
      "\t\tdrive\t0.006046635564416647\n",
      "\t\tscsi\t0.005567584186792374\n",
      "\t\twindow\t0.00503903953358531\n",
      "\t\tsystem\t0.004496137145906687\n",
      "\t\tdriver\t0.004463881719857454\n",
      "\t\tproblem\t0.004331712145358324\n",
      "\t\tuse\t0.003910976927727461\n",
      "\t\tmonitor\t0.003746643429622054\n",
      "\t\tdisk\t0.0036858583334833384\n",
      "Topic #9\n",
      "\t\tfile\t0.007420816924422979\n",
      "\t\tkey\t0.007028989959508181\n",
      "\t\tserver\t0.005387996323406696\n",
      "\t\timage\t0.005214019678533077\n",
      "\t\twindow\t0.005018201656639576\n",
      "\t\tprogram\t0.004856127314269543\n",
      "\t\tavailable\t0.004703505430370569\n",
      "\t\tsystem\t0.003824020503088832\n",
      "\t\tuse\t0.0037909948732703924\n",
      "\t\twidget\t0.003595491871237755\n",
      "Topic #2\n",
      "\t\tcar\t0.009326497092843056\n",
      "\t\tbike\t0.0061454144306480885\n",
      "\t\tride\t0.00366770732216537\n",
      "\t\tengine\t0.0036119860596954823\n",
      "\t\twire\t0.003428971627727151\n",
      "\t\tground\t0.0028219965752214193\n",
      "\t\tpower\t0.002717256313189864\n",
      "\t\tget\t0.0026738320011645555\n",
      "\t\ttire\t0.002602060092613101\n",
      "\t\tgood\t0.002592046745121479\n",
      "Topic #1\n",
      "\t\tteam\t0.013386467471718788\n",
      "\t\tgame\t0.012911168858408928\n",
      "\t\tplayer\t0.01009969599545002\n",
      "\t\tplay\t0.008257373236119747\n",
      "\t\tseason\t0.007778546307235956\n",
      "\t\tyear\t0.00715975183993578\n",
      "\t\twin\t0.005966620519757271\n",
      "\t\tscore\t0.005910201463848352\n",
      "\t\thockey\t0.005607039667665958\n",
      "\t\tplayoff\t0.0047197118401527405\n",
      "Topic #6\n",
      "\t\tlaunch\t0.011445638723671436\n",
      "\t\tspace\t0.008857767097651958\n",
      "\t\tsatellite\t0.008807712234556675\n",
      "\t\tmission\t0.008184432052075863\n",
      "\t\torbit\t0.007310654502362013\n",
      "\t\tspacecraft\t0.005758959334343672\n",
      "\t\tprobe\t0.005424801260232925\n",
      "\t\tlunar\t0.0042201741598546505\n",
      "\t\tproject\t0.003578689182177186\n",
      "\t\tprogram\t0.0035741301253437996\n",
      "Topic #4\n",
      "\t\tentry\t0.08049263805150986\n",
      "\t\tfile\t0.018263427540659904\n",
      "\t\tprogram\t0.014324511401355267\n",
      "\t\tsection\t0.014234435744583607\n",
      "\t\trule\t0.011810289695858955\n",
      "\t\tguideline\t0.0116182342171669\n",
      "\t\tinfo\t0.011256755329668522\n",
      "\t\tbuild\t0.010603654198348522\n",
      "\t\twinner\t0.01048724539577961\n",
      "\t\tjudge\t0.009492093697190285\n",
      "Topic #8\n",
      "\t\tfile\t0.03195805847644806\n",
      "\t\toutput\t0.025496458634734154\n",
      "\t\tentry\t0.024876371026039124\n",
      "\t\tprintf\t0.018804751336574554\n",
      "\t\tvote\t0.017628656700253487\n",
      "\t\tcontest\t0.016558440402150154\n",
      "\t\tprogram\t0.015699677169322968\n",
      "\t\tnull\t0.015454367734491825\n",
      "\t\treturn\t0.013072054833173752\n",
      "\t\tuuencode\t0.012327391654253006\n",
      "Topic #3\n",
      "\t\trevolver\t0.0313015952706337\n",
      "\t\tglock\t0.023806694895029068\n",
      "\t\tsafety\t0.016794444993138313\n",
      "\t\tgun\t0.012063734233379364\n",
      "\t\ttrigger\t0.010934069752693176\n",
      "\t\tjapanese\t0.010685020126402378\n",
      "\t\tmov\t0.010137124918401241\n",
      "\t\tcop\t0.009484718553721905\n",
      "\t\tbit\t0.008904888294637203\n",
      "\t\tuccxkvb\t0.008870071731507778\n",
      "Topic #12\n",
      "\t\tneedle\t0.0959591194987297\n",
      "\t\tpractitioner\t0.035337988287210464\n",
      "\t\tregional\t0.028272578492760658\n",
      "\t\tpropagation\t0.015363680198788643\n",
      "\t\tcart\t0.014668328687548637\n",
      "\t\tcut\t0.014579727314412594\n",
      "\t\tlight\t0.01448580902069807\n",
      "\t\timmune\t0.014303562231361866\n",
      "\t\tconceivable\t0.013474938459694386\n",
      "\t\tcow\t0.013256404548883438\n",
      "Topic #11\n",
      "\t\tscx\t0.1159895732998848\n",
      "\t\trchz\t0.11040297150611877\n",
      "\t\tgcx\t0.11040297150611877\n",
      "\t\tshzd\t0.09200439602136612\n",
      "\t\tchz\t0.07752640545368195\n",
      "\t\trcs\t0.0430753268301487\n",
      "\t\twallpaper\t0.022303204983472824\n",
      "\t\tpart\t0.02135777473449707\n",
      "\t\tfile\t0.015256139449775219\n",
      "\t\tbmp\t0.014295518398284912\n",
      "Topic #13\n",
      "\t\tcompartment\t0.09083284437656403\n",
      "\t\tdie\t0.05652301385998726\n",
      "\t\tgordon_bank\t0.043542101979255676\n",
      "\t\tsyndrome\t0.037880800664424896\n",
      "\t\tblood\t0.035301677882671356\n",
      "\t\tshameful_surrender\t0.034606512635946274\n",
      "\t\tchastity\t0.034274373203516006\n",
      "\t\tintellect\t0.03365442529320717\n",
      "\t\tfry\t0.032291945070028305\n",
      "\t\tsoon\t0.02327094040811062\n",
      "Topic #10\n",
      "\t\tqax_max\t0.30051517486572266\n",
      "\t\tmax_max\t0.24587827920913696\n",
      "\t\tbxn_bxn\t0.15710794925689697\n",
      "\t\teqtm\t0.09107385575771332\n",
      "\t\tmax\t0.03475219011306763\n",
      "\t\tpart\t0.03181799501180649\n",
      "\t\tchz\t0.018678413704037666\n",
      "\t\tend\t0.018340934067964554\n",
      "\t\tahl\t0.007822806015610695\n",
      "\t\tfax\t0.0048868125304579735\n"
     ]
    }
   ],
   "source": [
    "important_topics = [k for k, v in sorted(enumerate(hdp.get_count_by_topics()), key=lambda x:x[1], reverse=True)]\n",
    "cnt=0\n",
    "topic_list= []\n",
    "for k in important_topics:\n",
    "    if not hdp.is_live_topic(k): continue\n",
    "    print('Topic #{}'.format(k))\n",
    "    cnt+=1\n",
    "    tmp =[]\n",
    "    for word, prob in hdp.get_topic_words(k):\n",
    "        print('\\t', word, prob, sep='\\t')\n",
    "        tmp.append(word)\n",
    "    \n",
    "    topic_list.append(tmp)"
   ]
  },
  {
   "cell_type": "code",
   "execution_count": 377,
   "metadata": {},
   "outputs": [],
   "source": [
    "doc_inst = hdp.make_doc(test_set[0])"
   ]
  },
  {
   "cell_type": "code",
   "execution_count": 378,
   "metadata": {},
   "outputs": [],
   "source": [
    "topic_dist, ll = hdp.infer(doc_inst)"
   ]
  },
  {
   "cell_type": "code",
   "execution_count": 379,
   "metadata": {},
   "outputs": [
    {
     "data": {
      "text/plain": [
       "2"
      ]
     },
     "execution_count": 379,
     "metadata": {},
     "output_type": "execute_result"
    }
   ],
   "source": [
    "np.array(topic_dist).argmax()"
   ]
  },
  {
   "cell_type": "code",
   "execution_count": 381,
   "metadata": {},
   "outputs": [
    {
     "data": {
      "text/plain": [
       "'rec.motorcycles'"
      ]
     },
     "execution_count": 381,
     "metadata": {},
     "output_type": "execute_result"
    }
   ],
   "source": [
    "news_df.iloc[test_idx[0],:].topic_name"
   ]
  },
  {
   "cell_type": "code",
   "execution_count": 325,
   "metadata": {},
   "outputs": [],
   "source": [
    "test_vocab = corpora.Dictionary(train_set)\n",
    "test_corpus = [test_vocab.doc2bow(words) for words in train_set]"
   ]
  },
  {
   "cell_type": "code",
   "execution_count": 382,
   "metadata": {},
   "outputs": [],
   "source": [
    "cm = CoherenceModel(topics=topic_list, corpus=test_corpus, dictionary=test_vocab, texts=train_set, \n",
    "                    coherence='c_v')"
   ]
  },
  {
   "cell_type": "code",
   "execution_count": 383,
   "metadata": {},
   "outputs": [
    {
     "data": {
      "text/plain": [
       "0.6065992825965966"
      ]
     },
     "execution_count": 383,
     "metadata": {},
     "output_type": "execute_result"
    }
   ],
   "source": [
    "cm.get_coherence()"
   ]
  },
  {
   "cell_type": "markdown",
   "metadata": {},
   "source": [
    "### Modeling\n"
   ]
  },
  {
   "cell_type": "code",
   "execution_count": 235,
   "metadata": {},
   "outputs": [
    {
     "name": "stdout",
     "output_type": "stream",
     "text": [
      "0: addition\n",
      "1: body\n",
      "2: bring\n",
      "3: call\n",
      "4: car\n",
      "5: could\n",
      "6: day\n",
      "7: door\n",
      "8: early\n",
      "9: engine\n"
     ]
    }
   ],
   "source": [
    "# Create vocab dictionary, compact the vocabulary to about 11000 words\n",
    "vocab = corpora.Dictionary(word_list_lemmatized)\n",
    "vocab.filter_extremes(no_below=5, no_above=0.5)\n",
    "vocab.compactify()\n",
    "\n",
    "it = 0\n",
    "for k,v in vocab.items():\n",
    "    print(str(k) + \": \"+ v) \n",
    "    it +=1\n",
    "    if it == 10:\n",
    "        break"
   ]
  },
  {
   "cell_type": "code",
   "execution_count": null,
   "metadata": {},
   "outputs": [],
   "source": []
  },
  {
   "cell_type": "code",
   "execution_count": 237,
   "metadata": {},
   "outputs": [],
   "source": [
    "corpus = [vocab.doc2bow(words) for words in word_list_lemmatized]"
   ]
  },
  {
   "cell_type": "code",
   "execution_count": 238,
   "metadata": {},
   "outputs": [
    {
     "data": {
      "text/plain": [
       "11254"
      ]
     },
     "execution_count": 238,
     "metadata": {},
     "output_type": "execute_result"
    }
   ],
   "source": [
    "len(vocab)"
   ]
  },
  {
   "cell_type": "code",
   "execution_count": 239,
   "metadata": {},
   "outputs": [
    {
     "data": {
      "text/plain": [
       "11314"
      ]
     },
     "execution_count": 239,
     "metadata": {},
     "output_type": "execute_result"
    }
   ],
   "source": [
    "len(corpus)"
   ]
  },
  {
   "cell_type": "code",
   "execution_count": 240,
   "metadata": {},
   "outputs": [
    {
     "data": {
      "text/plain": [
       "[[('addition', 1),\n",
       "  ('body', 1),\n",
       "  ('bring', 1),\n",
       "  ('call', 1),\n",
       "  ('car', 5),\n",
       "  ('could', 1),\n",
       "  ('day', 1),\n",
       "  ('door', 2),\n",
       "  ('early', 1),\n",
       "  ('engine', 1),\n",
       "  ('enlighten', 1),\n",
       "  ('funky', 1),\n",
       "  ('history', 1),\n",
       "  ('host', 1),\n",
       "  ('info', 1),\n",
       "  ('know', 1),\n",
       "  ('late', 1),\n",
       "  ('look', 2),\n",
       "  ('mail', 1),\n",
       "  ('make', 1),\n",
       "  ('model', 1),\n",
       "  ('name', 1),\n",
       "  ('neighborhood', 1),\n",
       "  ('nntp_poste', 1),\n",
       "  ('park', 1),\n",
       "  ('production', 1),\n",
       "  ('really', 1),\n",
       "  ('rest', 1),\n",
       "  ('see', 1),\n",
       "  ('separate', 1),\n",
       "  ('small', 1),\n",
       "  ('sport', 1),\n",
       "  ('thank', 1),\n",
       "  ('thing', 1),\n",
       "  ('where', 1),\n",
       "  ('wonder', 1),\n",
       "  ('year', 1)]]"
      ]
     },
     "execution_count": 240,
     "metadata": {},
     "output_type": "execute_result"
    }
   ],
   "source": [
    "[[(vocab[key], freq) for key, freq in doc] for doc in corpus[:1]]"
   ]
  },
  {
   "cell_type": "code",
   "execution_count": null,
   "metadata": {},
   "outputs": [],
   "source": []
  },
  {
   "cell_type": "code",
   "execution_count": null,
   "metadata": {},
   "outputs": [],
   "source": []
  },
  {
   "cell_type": "code",
   "execution_count": null,
   "metadata": {},
   "outputs": [],
   "source": []
  },
  {
   "cell_type": "code",
   "execution_count": null,
   "metadata": {},
   "outputs": [],
   "source": []
  },
  {
   "cell_type": "code",
   "execution_count": 31,
   "metadata": {},
   "outputs": [],
   "source": [
    "from gensim.models import LdaModel"
   ]
  },
  {
   "cell_type": "code",
   "execution_count": 105,
   "metadata": {},
   "outputs": [],
   "source": [
    "lda_not_mallet = LdaModel(corpus=corpus, id2word=vocab, num_topics=2)"
   ]
  },
  {
   "cell_type": "code",
   "execution_count": 106,
   "metadata": {},
   "outputs": [
    {
     "data": {
      "text/plain": [
       "0.3073462673692767"
      ]
     },
     "execution_count": 106,
     "metadata": {},
     "output_type": "execute_result"
    }
   ],
   "source": [
    "clda = CoherenceModel(model=lda_not_mallet, dictionary=vocab, texts=word_list_lemmatized, coherence='c_v')\n",
    "clda.get_coherence()"
   ]
  },
  {
   "cell_type": "code",
   "execution_count": 119,
   "metadata": {},
   "outputs": [
    {
     "data": {
      "text/plain": [
       "[(0, 0.9662923), (1, 0.03370771)]"
      ]
     },
     "execution_count": 119,
     "metadata": {},
     "output_type": "execute_result"
    }
   ],
   "source": [
    "lda_not_mallet[corpus[7]]"
   ]
  },
  {
   "cell_type": "code",
   "execution_count": 120,
   "metadata": {},
   "outputs": [
    {
     "data": {
      "text/plain": [
       "[('would', 0.029727804),\n",
       " ('car', 0.027772374),\n",
       " ('may', 0.015006075),\n",
       " ('article', 0.01479867),\n",
       " ('get', 0.014543704),\n",
       " ('space', 0.013753302),\n",
       " ('make', 0.012164336),\n",
       " ('think', 0.011653439),\n",
       " ('year', 0.011387037),\n",
       " ('say', 0.010959833),\n",
       " ('know', 0.010458179),\n",
       " ('time', 0.010107627),\n",
       " ('good', 0.0098372465),\n",
       " ('go', 0.009629875),\n",
       " ('could', 0.009613588),\n",
       " ('also', 0.0092494),\n",
       " ('system', 0.008733391),\n",
       " ('much', 0.008417269),\n",
       " ('use', 0.008136761),\n",
       " ('first', 0.007881667)]"
      ]
     },
     "execution_count": 120,
     "metadata": {},
     "output_type": "execute_result"
    }
   ],
   "source": [
    "lda_not_mallet.show_topic(0, topn=20)"
   ]
  },
  {
   "cell_type": "code",
   "execution_count": 468,
   "metadata": {},
   "outputs": [
    {
     "data": {
      "text/plain": [
       "0.579349871122813"
      ]
     },
     "execution_count": 468,
     "metadata": {},
     "output_type": "execute_result"
    }
   ],
   "source": [
    "hdp0 = HdpModel(corpus=corpus, id2word=vocab, alpha=0.1,  gamma=1, T=20, K=8)\n",
    "cm = CoherenceModel(model=hdp0, dictionary=vocab, texts=word_list_lemmatized, coherence='c_v')\n",
    "cm.get_coherence()"
   ]
  },
  {
   "cell_type": "code",
   "execution_count": 45,
   "metadata": {},
   "outputs": [
    {
     "data": {
      "text/plain": [
       "0.20462505897911623"
      ]
     },
     "execution_count": 45,
     "metadata": {},
     "output_type": "execute_result"
    }
   ],
   "source": []
  },
  {
   "cell_type": "code",
   "execution_count": 71,
   "metadata": {},
   "outputs": [
    {
     "data": {
      "text/plain": [
       "[(0, 0.011398457873277217), (1, 0.9886015421267228)]"
      ]
     },
     "execution_count": 71,
     "metadata": {},
     "output_type": "execute_result"
    }
   ],
   "source": [
    "hdp0[corpus[9]]"
   ]
  },
  {
   "cell_type": "code",
   "execution_count": 69,
   "metadata": {},
   "outputs": [
    {
     "data": {
      "text/plain": [
       "[('include', 0.011732284330441671),\n",
       " ('sit', 0.008939937279261245),\n",
       " ('likely', 0.008321108301470629),\n",
       " ('end', 0.008032085943254153),\n",
       " ('auto', 0.00802295620058954),\n",
       " ('break', 0.007834643890047337),\n",
       " ('run', 0.007715152630154296),\n",
       " ('keep', 0.007336516770048001),\n",
       " ('article', 0.006970191383604304),\n",
       " ('rather', 0.006934336197686227),\n",
       " ('similar', 0.006801655901483267),\n",
       " ('owner', 0.006570800128752089),\n",
       " ('early', 0.006505415517180173),\n",
       " ('development', 0.006500571102041467),\n",
       " ('small', 0.0064590561303098214),\n",
       " ('around', 0.006310180993571985),\n",
       " ('change', 0.006288244779010798),\n",
       " ('learn', 0.0059940870563033625),\n",
       " ('self', 0.0059427472521371314),\n",
       " ('truck', 0.005936812818376073)]"
      ]
     },
     "execution_count": 69,
     "metadata": {},
     "output_type": "execute_result"
    }
   ],
   "source": [
    "hdp0.show_topic(1)"
   ]
  },
  {
   "cell_type": "code",
   "execution_count": 465,
   "metadata": {},
   "outputs": [],
   "source": [
    "py_corpus = [x for x in corpus if len(x) > 0]"
   ]
  },
  {
   "cell_type": "code",
   "execution_count": 469,
   "metadata": {},
   "outputs": [
    {
     "data": {
      "text/html": [
       "\n",
       "<link rel=\"stylesheet\" type=\"text/css\" href=\"https://cdn.rawgit.com/bmabey/pyLDAvis/files/ldavis.v1.0.0.css\">\n",
       "\n",
       "\n",
       "<div id=\"ldavis_el5156656731351848938688298\"></div>\n",
       "<script type=\"text/javascript\">\n",
       "\n",
       "var ldavis_el5156656731351848938688298_data = {\"mdsDat\": {\"x\": [0.14917580592590132, 0.06108655093315129, 0.03965132182775048, 0.029167758099716837, 0.002764118215273839, -0.010917195453788086, 0.00023361774829920072, -0.002264183741861022, -0.010263167060701356, -0.007838438481288543, -0.0142615746319634, -0.018052513491089533, -0.028328765178208336, -0.02301041765699748, -0.019095959699325177, -0.026166562671945927, -0.025388434082465612, -0.0342028177661412, -0.030814555415320716, -0.03147458741899667], \"y\": [-0.00231593624858017, -0.008572769318197795, 0.028743739748833597, -0.031161687058701835, 0.02149145672390057, 0.015028591952121058, -0.0429860230102633, 0.02751047949891843, 0.020782106220341948, -0.029098105552729507, 0.07520741379735238, -0.05950881356428558, -0.012909912786355627, 0.06292037546378815, -0.009515551910782544, 0.007862585139010808, -0.02054607437089577, -0.019708337244958803, -0.0328575738758453, 0.00963403639732948], \"topics\": [1, 2, 3, 4, 5, 6, 7, 8, 9, 10, 11, 12, 13, 14, 15, 16, 17, 18, 19, 20], \"cluster\": [1, 1, 1, 1, 1, 1, 1, 1, 1, 1, 1, 1, 1, 1, 1, 1, 1, 1, 1, 1], \"Freq\": [99.85922198824865, 0.029579517596754864, 0.027378193877547658, 0.022196991344497128, 0.007900897834387218, 0.006344027804141459, 0.006213488599926795, 0.005978259554769021, 0.005824822205170895, 0.004269828922729749, 0.004152102830856638, 0.003205950209968056, 0.0030375710930383108, 0.0030218723006817413, 0.002383363258608187, 0.002173948788675652, 0.0020334031762796797, 0.0019906832880708094, 0.0016516211360024873, 0.0014414679292427718]}, \"tinfo\": {\"Term\": [\"info\", \"separate\", \"news\", \"late\", \"anymore\", \"model\", \"next\", \"sorry\", \"engineering\", \"market\", \"call\", \"drop\", \"name\", \"cpu\", \"body\", \"host\", \"network\", \"enlighten\", \"s\", \"oscillator\", \"engine\", \"small\", \"access\", \"advance\", \"experience\", \"start\", \"functionality\", \"active\", \"doubt\", \"may\", \"news\", \"right\", \"radioactive\", \"may\", \"call\", \"individual\", \"price\", \"name\", \"module\", \"impression\", \"size\", \"article\", \"have\", \"governmental\", \"relationship\", \"meaning\", \"anymore\", \"experience\", \"shade\", \"verify\", \"launch\", \"use\", \"sorry\", \"meat\", \"death\", \"philosophy\", \"introduce\", \"abuse\", \"do\", \"shipping\", \"info\", \"separate\", \"late\", \"model\", \"market\", \"drop\", \"next\", \"engineering\", \"body\", \"cpu\", \"access\", \"advance\", \"engine\", \"host\", \"network\", \"enlighten\", \"small\", \"oscillator\", \"active\", \"start\", \"s\", \"disclose\", \"legality\", \"differently\", \"receipt\", \"forward\", \"mixture\", \"structure\", \"impact\", \"thought\", \"enhancement\", \"divert\", \"never\", \"literature\", \"comply\", \"deadly\", \"ozone\", \"evangelical\", \"talk_politic\", \"injure\", \"freenet\", \"worldwide\", \"compute\", \"acknowledge\", \"continuous\", \"monitoring\", \"feed\", \"terminate\", \"breast\", \"aware\", \"adjustable\", \"rodney_ke\", \"simms\", \"motto\", \"poorly\", \"nntp_posting\", \"mutual\", \"depth\", \"rack\", \"amp\", \"transform\", \"liner\", \"consistent\", \"hypothesis\", \"homicide\", \"duplicate\", \"discharge\", \"separate\", \"recognition\", \"conversation\", \"injection\", \"fulfill\", \"prophet\", \"around\", \"lost\", \"small\", \"federal\", \"present\", \"rest\", \"ram\", \"chaos_intercon\", \"bring\", \"glory\", \"rumor\", \"info\", \"market\", \"late\", \"escrowed_key\", \"shotgun\", \"soul\", \"efficient\", \"model\", \"next\", \"oscillator\", \"network\", \"row\", \"enlighten\", \"sorry\", \"acknowledge\", \"toxic\", \"deadly\", \"basis\", \"orbit\", \"ozone\", \"literature\", \"comply\", \"aspect\", \"receipt\", \"freenet\", \"committee\", \"german\", \"unlawful\", \"remeber\", \"thus\", \"leafs\", \"disgusting\", \"never\", \"compute\", \"injure\", \"choice\", \"favorable\", \"sound\", \"organize\", \"volume\", \"default\", \"enhancement\", \"slap\", \"refresh\", \"adjustable\", \"enact\", \"force\", \"clarify\", \"legalize\", \"judgment\", \"portion\", \"israeli\", \"dash\", \"nervous\", \"hang\", \"cylinder\", \"palestinian\", \"sarcasm\", \"related\", \"target\", \"gem\", \"standpoint\", \"workaround\", \"dpi\", \"throw\", \"algorithm\", \"choose\", \"escrowed_key\", \"employ\", \"donate\", \"gather\", \"pride\", \"approve\", \"correctly\", \"movement\", \"architect\", \"piss\", \"body\", \"info\", \"drop\", \"late\", \"slash\", \"restriction\", \"network\", \"bring\", \"door\", \"art\", \"evangelical\", \"comply\", \"differently\", \"impact\", \"basis\", \"dryden\", \"copper\", \"disclose\", \"domain\", \"near\", \"spite\", \"establishment\", \"probe\", \"electronic\", \"nazi\", \"continuous\", \"alot\", \"descend\", \"flavor\", \"meal\", \"angry\", \"thus\", \"dragon\", \"terminate\", \"urban\", \"significance\", \"literature\", \"chop\", \"council\", \"presence\", \"endure\", \"satellite\", \"rhetoric\", \"depth\", \"option\", \"global\", \"feeling\", \"slide\", \"payment\", \"tear\", \"agent\", \"ide\", \"score\", \"nuke\", \"gross\", \"sympathy\", \"importance\", \"forgiveness\", \"severe\", \"throughput\", \"infection\", \"lawyer\", \"separate\", \"leather\", \"suffice\", \"xwindow\", \"belt\", \"info\", \"actually\", \"devise\", \"biological\", \"late\", \"mediocre\", \"rigorous\", \"engineering\", \"slip\", \"easily\", \"disgusting\", \"impact\", \"freenet\", \"basis\", \"meal\", \"differently\", \"revoke\", \"ozone\", \"chop\", \"literature\", \"indicator\", \"volume\", \"continuous\", \"fantasy\", \"domain\", \"thought\", \"wish\", \"flavor\", \"receipt\", \"whine\", \"law\", \"practitioner\", \"enhancement\", \"peer\", \"volt\", \"qualified\", \"aaa\", \"probe\", \"quite\", \"orbit\", \"unlawful\", \"straightforward\", \"stand\", \"rank\", \"wound\", \"let\", \"cheap\", \"intervention\", \"ambiguous\", \"feeling\", \"brake\", \"fellow\", \"bicycle\", \"batter\", \"preach\", \"terminal\", \"swell\", \"strive\", \"talking\", \"baku\", \"speculate\", \"alleviate\", \"projection\", \"win\", \"voltage\", \"mvp\", \"islamic\", \"awesome\", \"void\", \"operate\", \"attendee\", \"copyright\", \"surrounding\", \"bumper\", \"tech\", \"couple\", \"person\", \"home\", \"anymore\", \"islander\", \"shameful_surrender\", \"news\", \"probably\", \"next\", \"receipt\", \"deadly\", \"freenet\", \"never\", \"legality\", \"pad\", \"disclose\", \"leafs\", \"basis\", \"flavor\", \"probe\", \"toxic\", \"literature\", \"terminate\", \"evangelical\", \"ozone\", \"domain\", \"tobacco\", \"disgusting\", \"impact\", \"worldwide\", \"depth\", \"socialism\", \"extra\", \"revoke\", \"talk_politic\", \"council\", \"mixture\", \"descend\", \"compute\", \"worship\", \"disadvantage\", \"sound\", \"survey\", \"angry\", \"canadien\", \"land\", \"digitized\", \"shoulder\", \"calmly\", \"originator\", \"shortstop\", \"holocaust\", \"solid\", \"nervous\", \"kid\", \"bitch\", \"cheer\", \"rumour\", \"realise\", \"individually\", \"boat\", \"predict\", \"justice\", \"punch\", \"degree\", \"busy\", \"afraid\", \"noticeable\", \"prescribe\", \"sexual\", \"ysu\", \"flow\", \"lion\", \"tile\", \"outer\", \"debt\", \"info\", \"manually\", \"continuously\", \"convincing\", \"ignore\", \"forward\", \"comply\", \"ozone\", \"disclose\", \"significance\", \"freenet\", \"differently\", \"never\", \"descend\", \"choice\", \"mixture\", \"devote\", \"divert\", \"nazi\", \"gentile\", \"toxic\", \"probe\", \"favorable\", \"evangelical\", \"channel\", \"rodney_ke\", \"heaven\", \"forth\", \"digitized\", \"morally\", \"simms\", \"let\", \"presence\", \"impact\", \"block\", \"mine_relations\", \"fascinating\", \"drastically\", \"payment\", \"apart\", \"resistance\", \"processor\", \"associate\", \"brainwash\", \"vga\", \"discussion\", \"preach\", \"settlement\", \"background\", \"amendment\", \"precedent\", \"astronaut\", \"roster\", \"fuse\", \"approval\", \"odd\", \"watt\", \"efficient\", \"maintain\", \"deputy\", \"turn\", \"dictator\", \"intent\", \"region\", \"punishment\", \"civil_war\", \"supply\", \"sinus\", \"plug\", \"soul\", \"captain\", \"fascist\", \"slmr\", \"being\", \"distress\", \"drop\", \"host\", \"ozone\", \"never\", \"deadly\", \"disgusting\", \"wish\", \"ironic\", \"nasty\", \"freenet\", \"energy\", \"aaa\", \"witness\", \"basis\", \"talk_politic\", \"chop\", \"bank\", \"flavor\", \"injure\", \"impact\", \"let\", \"receipt\", \"devote\", \"shutout\", \"favorable\", \"structure\", \"focus\", \"practitioner\", \"revoke\", \"morally\", \"meal\", \"refresh\", \"elect\", \"smile\", \"opportunity\", \"independence\", \"apple\", \"theological\", \"elementary\", \"management\", \"representative\", \"outside\", \"smuggle\", \"march\", \"prohibit\", \"openwindow\", \"luck\", \"moderate\", \"search\", \"participant\", \"preferable\", \"assumption\", \"attack\", \"diagnosis\", \"chastity\", \"apostle\", \"envelope\", \"entity\", \"wording\", \"cbr\", \"however\", \"intermediate\", \"ugly\", \"fabrication\", \"consciousness\", \"bmp\", \"contend\", \"expectation\", \"true\", \"info\", \"upgrade\", \"reference\", \"overall\", \"bow\", \"sadly\", \"start\", \"choice\", \"comply\", \"differently\", \"never\", \"disgusting\", \"forward\", \"ozone\", \"evangelical\", \"ironic\", \"thought\", \"channel\", \"favorable\", \"wish\", \"forth\", \"tobacco\", \"chop\", \"accessible\", \"divert\", \"continuous\", \"practitioner\", \"fairly\", \"council\", \"camera\", \"mixture\", \"circumstance\", \"descend\", \"default\", \"spite\", \"basis\", \"dragon\", \"toy\", \"thus\", \"borrow\", \"simms\", \"law\", \"let\", \"advocate\", \"background\", \"unnecessary\", \"noticable\", \"restrictive\", \"ally\", \"defend\", \"denial\", \"gotten\", \"inform\", \"psychological\", \"bombing\", \"clarify\", \"widget\", \"finland\", \"picture\", \"gateway\", \"analogous\", \"chemistry\", \"crisis\", \"degree\", \"countless\", \"surgeon\", \"warp\", \"breaker\", \"international\", \"flaw\", \"group\", \"merely\", \"recover\", \"close\", \"violate\", \"firstly\", \"sometimes\", \"distribution_usa\", \"resist\", \"floppy\", \"genuine\", \"sync\", \"assume\", \"recovery\", \"prepare\", \"atmospheric\", \"forward\", \"never\", \"disclose\", \"comply\", \"worldwide\", \"orbit\", \"ozone\", \"receipt\", \"injure\", \"deadly\", \"goal\", \"channel\", \"basis\", \"nazi\", \"freenet\", \"flavor\", \"compute\", \"gentile\", \"evangelical\", \"thought\", \"indicator\", \"bank\", \"descend\", \"disgusting\", \"legality\", \"king\", \"electronic\", \"reform\", \"continuous\", \"transform\", \"organize\", \"toy\", \"plan\", \"block\", \"tray\", \"seriously\", \"angry\", \"firm\", \"mine_relations\", \"confident\", \"spin\", \"holocaust\", \"diff\", \"library\", \"stroke\", \"eff\", \"oracle\", \"trident\", \"european\", \"squad\", \"observation\", \"bis\", \"brake\", \"rotate\", \"age\", \"coincidence\", \"configuration\", \"architecture\", \"warranty\", \"expectation\", \"group\", \"remain\", \"principal\", \"sword\", \"crew\", \"composite\", \"keyboard\", \"cd\", \"skate\", \"guess\", \"comply\", \"receipt\", \"ironic\", \"basis\", \"thought\", \"never\", \"ozone\", \"choice\", \"meal\", \"favorable\", \"legality\", \"energy\", \"disgusting\", \"forward\", \"urban\", \"talk_politic\", \"bank\", \"channel\", \"barlow\", \"council\", \"witness\", \"dryden\", \"uuencode\", \"disclose\", \"mixture\", \"transform\", \"pad\", \"morally\", \"toxic\", \"king\", \"annual\", \"circuitry\", \"cheap\", \"fantasy\", \"masse\", \"legalize\", \"incoming\", \"librarie\", \"artillery\", \"preservation\", \"valentine\", \"competent\", \"regain\", \"emotionally\", \"systematic\", \"plug\", \"solve\", \"rectangular\", \"paste\", \"business\", \"wallet\", \"flow\", \"angel\", \"apparently\", \"counsel\", \"tree\", \"snake\", \"programmer\", \"recording\", \"kernel\", \"bleed\", \"trip\", \"preparation\", \"announcer\", \"learning\", \"persecute\", \"catch\", \"occasional\", \"overlap\", \"approach\", \"tooth\", \"oxygen\", \"extended\", \"documentation\", \"desk\", \"linux\", \"strict\", \"packet\", \"trend\", \"never\", \"impact\", \"disclose\", \"gentile\", \"ozone\", \"basis\", \"orbit\", \"dryden\", \"descend\", \"rhetoric\", \"bread\", \"ironic\", \"forward\", \"choice\", \"breast\", \"operational\", \"forth\", \"probe\", \"electronic\", \"energy\", \"reform\", \"aftermarket\", \"literature\", \"near\", \"spread\", \"response\", \"craft\", \"domain\", \"block\", \"skilled\", \"king\", \"infer\", \"ambiguous\", \"solid\", \"decent\", \"calmly\", \"barlow\", \"global\", \"cheat\", \"classical\", \"cousin\", \"hawk\", \"quietly\", \"problem\", \"disciple\", \"propaganda\", \"principal\", \"homicide\", \"mine\", \"output\", \"slander\", \"incorporate\", \"jump\", \"loading\", \"inclusion\", \"pound\", \"up\", \"unauthorized\", \"dry\", \"wagon\", \"specification\", \"secular\", \"tune\", \"innocence\", \"asshole\", \"dissolve\", \"sure\", \"revolutionary\", \"accommodate\", \"come\", \"become\", \"receipt\", \"witness\", \"compute\", \"never\", \"forward\", \"devote\", \"orbit\", \"basis\", \"energy\", \"endure\", \"refresh\", \"deadly\", \"talk_politic\", \"literature\", \"disclose\", \"ironic\", \"continuous\", \"cruncher\", \"digitized\", \"nazi\", \"presence\", \"independence\", \"freenet\", \"alot\", \"acknowledge\", \"comply\", \"practitioner\", \"impact\", \"sound\", \"induce\", \"taxis\", \"holding\", \"valentine\", \"publish\", \"outside\", \"throw\", \"nuke\", \"reveal\", \"unworthy\", \"isolate\", \"tend\", \"atf\", \"dpi\", \"dump\", \"exempt\", \"libertarian\", \"fulfillment\", \"gray\", \"stress\", \"accelerator\", \"service\", \"occupation\", \"admit\", \"tight\", \"usenet\", \"waste\", \"level\", \"initiative\", \"improve\", \"conviction\", \"duo\", \"proprietary\", \"point\", \"dram\", \"foreign\", \"translate\", \"weather\", \"disgusting\", \"ozone\", \"never\", \"receipt\", \"volume\", \"basis\", \"devote\", \"talk_politic\", \"domain\", \"witness\", \"dryden\", \"evangelical\", \"bank\", \"probe\", \"nasty\", \"differently\", \"urban\", \"gentile\", \"energy\", \"continuous\", \"flavor\", \"law\", \"disadvantage\", \"magazine\", \"committee\", \"acknowledge\", \"leafs\", \"ironic\", \"pad\", \"aspect\", \"thus\", \"resurrection\", \"aftermarket\", \"login\", \"smile\", \"fake\", \"ohm\", \"coffee\", \"rank\", \"cycle\", \"conceivable\", \"someone\", \"smuggle\", \"ship\", \"speaker\", \"repair\", \"controversial\", \"considering\", \"pizza\", \"ideally\", \"sharp\", \"rectangle\", \"newly\", \"desire\", \"gateway\", \"reserve\", \"omissions_excepted\", \"alt\", \"deploy\", \"infection\", \"brute_force\", \"note\", \"artificial\", \"expression\", \"isolation\", \"interesting\", \"purely\", \"polish\", \"chronicle\", \"close\", \"methodology\", \"undefined\", \"japanese\", \"restriction\", \"educational\", \"ozone\", \"choice\", \"orbit\", \"energy\", \"disgusting\", \"forward\", \"continuous\", \"mixture\", \"freenet\", \"chop\", \"camera\", \"talk_politic\", \"refresh\", \"practitioner\", \"wierd\", \"probe\", \"compute\", \"divert\", \"toxic\", \"simms\", \"committee\", \"socialism\", \"receipt\", \"skilled\", \"meal\", \"impact\", \"aaa\", \"fairly\", \"angry\", \"near\", \"holocaust\", \"canadien\", \"ohm\", \"liability\", \"font\", \"feeling\", \"magazine\", \"abandon\", \"complicated\", \"shower\", \"mailer\", \"conclude\", \"lean\", \"clipper_chip\", \"exploration\", \"inflict\", \"big\", \"coordinate\", \"offender\", \"style\", \"cooperate\", \"example\", \"guidance\", \"boot\", \"paul\", \"conform\", \"fancy\", \"verification\", \"division\", \"schedule\", \"radical\", \"neighborhood\", \"racism\", \"relation\", \"gently\", \"moreover\", \"husband\", \"architect\", \"bit\", \"authorization\", \"ozone\", \"differently\", \"forward\", \"comply\", \"domain\", \"choice\", \"wish\", \"receipt\", \"witness\", \"gentile\", \"king\", \"legality\", \"basis\", \"monitoring\", \"shutout\", \"symbolic\", \"descend\", \"flavor\", \"goal\", \"forth\", \"compute\", \"significance\", \"annual\", \"divert\", \"energy\", \"thought\", \"uuencode\", \"evangelical\", \"aaa\", \"generic\", \"structure\", \"circumstance\", \"german\", \"israeli\", \"dragon\", \"football\", \"feed\", \"responsibility\", \"judgment\", \"silence\", \"ease\", \"considerably\", \"practical\", \"arrangement\", \"xlib\", \"compress\", \"sharp\", \"segment\", \"specialist\", \"barely\", \"opinions_expresse\", \"successfully\", \"entail\", \"attention\", \"mom\", \"flow\", \"eternal\", \"district\", \"utter\", \"crossposte\", \"therapy\", \"downtown\", \"reactor\", \"afterwards\", \"understanding\", \"tight\", \"offence\", \"sleeve\", \"wet\", \"person\", \"lend\", \"never\", \"ozone\", \"energy\", \"devote\", \"comply\", \"forward\", \"meal\", \"impact\", \"deadly\", \"default\", \"legality\", \"ironic\", \"flavor\", \"injure\", \"disclose\", \"establishment\", \"thought\", \"indicator\", \"slap\", \"channel\", \"urban\", \"socialism\", \"acknowledge\", \"enhancement\", \"nazi\", \"evangelical\", \"tobacco\", \"enact\", \"blatantly\", \"orbit\", \"leafs\", \"distributor\", \"digitized\", \"temporarily\", \"available\", \"settlement\", \"firm\", \"sanction\", \"irregular\", \"fashion\", \"accurate\", \"abandon\", \"inflict\", \"long\", \"bat\", \"major\", \"tea\", \"motto\", \"kernel\", \"magazine\", \"sarcasm\", \"clause\", \"patrick\", \"diet\", \"unworthy\", \"reliable\", \"specialist\", \"partnership\", \"economically\", \"distorted\", \"stat\", \"unhappy\", \"stem\", \"vacation\", \"sincere\", \"potvin\", \"sort\", \"stock\", \"cultural\", \"supporter\", \"irrational\", \"accumulate\", \"vastly\", \"oscillator\", \"soft\", \"folk\", \"correction\", \"wallet\", \"differently\", \"literature\", \"domain\", \"never\", \"gentile\", \"deadly\", \"acknowledge\", \"devote\", \"practitioner\", \"talk_politic\", \"volume\", \"establishment\", \"receipt\", \"reform\", \"ozone\", \"injure\", \"elect\", \"toxic\", \"witness\", \"flavor\", \"probe\", \"sniper\", \"enhancement\", \"cal\", \"symbolic\", \"shoulder\", \"circuitry\", \"near\", \"continuous\", \"accessible\", \"digitized\", \"enact\", \"god\", \"author\", \"interpret\", \"eat\", \"option\", \"entirely\", \"superior\", \"temporarily\", \"roman_catholic\", \"coffee\", \"establish\", \"corrupt\", \"manifest\", \"lciii\", \"want\", \"sleep\", \"exact\", \"sanction\", \"bruise\", \"intellectual\", \"union\", \"express\", \"concerned\", \"love\", \"mask\", \"escalate\", \"scsi\", \"pot\", \"proceeding\", \"cream\", \"composite\", \"raytrace\", \"take\", \"wash\", \"animate\", \"announce\", \"deadly\", \"disclose\", \"channel\", \"evangelical\", \"meal\", \"forward\", \"chop\", \"never\", \"flavor\", \"emergency\", \"socialism\", \"thought\", \"worldwide\", \"aaa\", \"cruncher\", \"disgusting\", \"continuous\", \"wish\", \"acknowledge\", \"devote\", \"divert\", \"toxic\", \"talk_politic\", \"impact\", \"mixture\", \"restrict\", \"compute\", \"confused\", \"structure\", \"law\", \"wreck\", \"angry\", \"boring\", \"here\", \"designer\", \"taxis\", \"refund\", \"god\", \"countless\", \"processor\", \"drive\", \"thermal\", \"paperback\", \"ethernet\", \"antibiotic\", \"pinch\", \"amp\", \"major\", \"batter\", \"basketball\", \"however\", \"citizen\", \"independently\", \"space\", \"pace\", \"ruin\", \"satisfaction\", \"bill\", \"prototype\", \"busy\", \"nearly\", \"fanatic\", \"upload\", \"harassment\", \"package\", \"weak\", \"qualification\", \"maybe\", \"due\", \"characterize\", \"love\", \"tip\", \"index\", \"much\", \"deadly\", \"never\", \"comply\", \"differently\", \"forward\", \"orbit\", \"receipt\", \"witness\", \"basis\", \"dryden\", \"literature\", \"disclose\", \"evangelical\", \"freenet\", \"continuous\", \"ozone\", \"flavor\", \"aaa\", \"quite\", \"probe\", \"acknowledge\", \"garbage\", \"breathe\", \"descend\", \"impact\", \"urban\", \"german\", \"survey\", \"enact\", \"ironic\", \"bird\", \"legalize\", \"suspension\", \"mutual\", \"penalty\", \"valid\", \"clean\", \"divorce\", \"idiot\", \"outside\", \"considerably\", \"happy\", \"lucky\", \"bother\", \"investigation\", \"invent\", \"legislator\", \"perfect\", \"engineer\", \"astro\", \"emulate\", \"maximum\", \"barrier\", \"shadow\", \"entire\", \"be\", \"sake\", \"tradition\", \"sensitivity\", \"cannot_solve\", \"scanner\", \"guess\", \"printing\", \"storm\"], \"Freq\": [288.0, 213.0, 319.0, 206.0, 186.0, 167.0, 160.0, 169.0, 147.0, 160.0, 173.0, 159.0, 189.0, 134.0, 141.0, 108.0, 109.0, 105.0, 97.0, 102.0, 112.0, 104.0, 120.0, 112.0, 104.0, 100.0, 95.0, 101.0, 95.0, 90.0, 319.0476410304332, 127.09532854667547, 21.498897046529425, 90.10458038426033, 173.16715082338862, 65.55234115443703, 121.84325056634124, 189.6949207313227, 29.22751432795147, 86.19607352208405, 69.21226395568466, 56.70075165791697, 70.89924591097882, 48.5627020733209, 63.05037685504668, 56.28921304515791, 186.29869748477026, 104.95873849192502, 34.71736430049568, 66.76965126467806, 98.60320083555304, 45.0167192357963, 169.6496220592113, 21.63699983208004, 60.652454674451164, 33.553657228237284, 57.06756053003292, 34.85321396745104, 63.338331826868554, 51.028639425844425, 288.3337682631646, 213.55020254767697, 206.3892251045816, 167.0583471819178, 160.64032719443134, 159.947023889551, 160.0557281222041, 147.14390959539506, 141.07147046154685, 134.64478025053035, 120.60620257733737, 112.86157367373664, 112.83631637206923, 108.91935747718159, 109.27867805452274, 105.50100359095563, 104.91691761247986, 101.97245318040831, 101.22400714061278, 100.94299273816074, 97.51800360444014, 0.012152512984683237, 0.013373072979213764, 0.005962734999618093, 0.003249033500085173, 0.004325307915571559, 0.006496242906139299, 0.013110872581235703, 0.0027018157192988603, 0.005645744723978287, 0.01074407434544882, 0.005692515201198504, 0.0012083704408690512, 0.002194678363838267, 0.0015255964327623125, 0.0021038149339342766, 0.0009607826693598238, 0.0026738906625621067, 0.0027132775914718923, 0.0021774394412526613, 0.0019229278907264156, 0.004322420918343806, 0.0036213282178559104, 0.003218512383620039, 0.004079597060791247, 0.009915011755725327, 0.00899199262041271, 0.009111057335580926, 0.008907647399582682, 0.008450349913727919, 0.012736553174720121, 0.006694043194377087, 0.008609136509784081, 0.015857835030671195, 0.008214341905564327, 0.008050596881647758, 0.015106274293232325, 0.008651298356528817, 0.009808123806310822, 0.014515803215728514, 0.006023918528119348, 0.010804226922137977, 0.013611150648539612, 0.011549338114746064, 0.016231584878865904, 0.016716650599225516, 0.012934324497430812, 0.09117466709597459, 0.013116808267297346, 0.018275399969169354, 0.01636231479136731, 0.014224120030822776, 0.015594386086630567, 0.023322548045389267, 0.013060438130991702, 0.02839165337242488, 0.011973058163898391, 0.024311769249376777, 0.021716403197053775, 0.01617601582085503, 0.014141935907931825, 0.021638524564037347, 0.014555133181427052, 0.018388425919857253, 0.022881689357294198, 0.02119711941603954, 0.021156658092958445, 0.015064724445609011, 0.016522954649853636, 0.016382809794469242, 0.015731777793283386, 0.01734365364267528, 0.01678514004458212, 0.016038104534406135, 0.015970302980004302, 0.015209868332946226, 0.015251292934968479, 0.014627694205734527, 0.014142431174326836, 0.013836811105873504, 0.004742014767219471, 0.005274990636484493, 0.0072140431307528684, 0.0019068184091674612, 0.003508254683132132, 0.002318417787065448, 0.008812007274125145, 0.0016604473812297897, 0.0024244665963492054, 0.013023061720071056, 0.01108857877107575, 0.007982551275179179, 0.006323722646531823, 0.010760065161959587, 0.008176976098256357, 0.001790408345850141, 0.0009364829848021709, 0.003658181643021647, 0.001948744785838186, 0.002421252436398567, 0.00518882664536755, 0.006429747607374488, 0.009905113393790762, 0.005151162927938534, 0.00275521882081667, 0.006221032439759626, 0.004860315345927941, 0.0035695675672274747, 0.009609532362789696, 0.006647441801267033, 0.013619961112324346, 0.020284258478868, 0.007718912292383644, 0.009580869192442986, 0.011312982119381624, 0.011304637327525898, 0.006605399754657658, 0.0156408502981977, 0.008614342654647692, 0.013164419541257013, 0.014220577206523827, 0.012219596323927493, 0.01570310728936207, 0.01690011866319486, 0.014796343441920164, 0.013754586538633918, 0.01308094655489893, 0.01711565574072733, 0.011080812676415476, 0.01307437411807455, 0.010188959925354731, 0.016019774471976618, 0.012499494112167593, 0.013472615820666124, 0.016399249312444967, 0.018607545671934327, 0.01674366082782621, 0.015570595347178353, 0.013505721099233857, 0.015312333967003267, 0.014610087501428367, 0.018413006383002934, 0.018688642043908816, 0.01675831959891055, 0.01614489031134836, 0.013718824084036858, 0.014473814383938886, 0.014762988735295308, 0.014133455324631321, 0.014138290615545673, 0.013468973827515511, 0.013930461920004142, 0.0028383908994336323, 0.004574176988432513, 0.003446253789687527, 0.0038394432971598936, 0.010301420456682095, 0.015424499128245523, 0.002269288098342513, 0.004448402362634444, 0.007750824910283789, 0.007252540904030845, 0.00781354942813175, 0.004563676708148477, 0.006506720455580046, 0.006271180520777405, 0.004036797329298331, 0.005144771265840673, 0.005473660941187475, 0.003214438902477763, 0.0019286787092064569, 0.01145903960805007, 0.007513939098665407, 0.010106788043253143, 0.007912349667761396, 0.003308790992183321, 0.004371531232173752, 0.0011530843816954456, 0.003554638055792173, 0.004381182780486041, 0.0066794955324342535, 0.010343659280931712, 0.008569999868807842, 0.00810904082313423, 0.009453376201989216, 0.010043312761344925, 0.009512020406790046, 0.009932151623668272, 0.010326561886851392, 0.01075513325625713, 0.012982630619364484, 0.012057828555661718, 0.012077562059755475, 0.011662622342275003, 0.009657309050312646, 0.010845845490941506, 0.013053862560201971, 0.01280487128043894, 0.01197883668678346, 0.018555387516504245, 0.014843622674121282, 0.012212228981007371, 0.014338978662392657, 0.020507927245010923, 0.013248760010373915, 0.012139393878268234, 0.013168535931833075, 0.012932003201668615, 0.016794941806589664, 0.014441643610374517, 0.012955832838979442, 0.012621844121932197, 0.013663733309130973, 0.011129493659008319, 0.011038989633700301, 0.011195773629775354, 0.01087891689908755, 0.010900307197239834, 0.0017431087774292505, 0.0017325890902928848, 0.0015355894915280673, 0.001316618112931163, 0.0014397927848347279, 0.0012245926197415793, 0.0023276364143928977, 0.0003869202498698721, 0.0021493777743879015, 0.0006718359738822788, 0.0025728580072451965, 0.0020890719944581596, 0.0015207917806018625, 0.0033794178919070673, 0.0010488498209933665, 0.0012211361996063473, 0.0013901660586867163, 0.0011277357889843752, 0.00033093153771604386, 0.0018353168524675384, 0.003205377990404195, 0.002382636795921644, 0.0018205547822167083, 0.005419794558563703, 0.0031577862710090287, 0.0032243975677217333, 0.00109923024020003, 0.0009596542123783158, 0.0021265464723973526, 0.0006358748791682606, 0.0014808139171876796, 0.003418327804461193, 0.004519842890585164, 0.00223202889550135, 0.007358511547730003, 0.0020592993121943113, 0.002105877520488197, 0.004130619218703472, 0.003425143353384516, 0.002984521037776879, 0.005646266680894665, 0.0025756169671766866, 0.0027532812503175607, 0.004078783895309388, 0.0038297616235909568, 0.0037450686740763133, 0.004979879693420177, 0.006017878395864065, 0.004585198405272519, 0.007003681684720328, 0.00454127207374481, 0.0036536533789453696, 0.006046740826029524, 0.004191778711628577, 0.0035807934133591543, 0.005869557655123357, 0.004327189048893658, 0.004730404905518776, 0.0043178198996611135, 0.004818898854317967, 0.004608051256466614, 0.003287568364896069, 0.00458321265080949, 0.004887195363126993, 0.004326706086019925, 0.004312708837843241, 0.004826447094849104, 0.004147254534651613, 0.004972689759212759, 0.0038921247139694004, 0.003783919744873603, 0.0042282006130103175, 0.004071559207140742, 0.00405688666015918, 0.0016116586543114526, 0.0014076750111622156, 0.0014594545646943284, 0.00044688277041524376, 0.0015608716514122446, 0.003194519049530335, 0.000645589534814216, 0.0030696797545158245, 0.0008827592454871366, 0.0015679353313311306, 0.0016097486020236064, 0.0014875216497592639, 0.0005623291350956171, 0.0032494216904428467, 0.0006747072349597515, 0.00022871889544278488, 0.0008482080833276094, 0.0028544268347263932, 0.00044329013978417566, 0.0004276813097960548, 0.0010834548117666775, 0.00415200414108124, 0.0014381160115403374, 0.0017336665605044734, 0.0010067779485764814, 0.0005021780874247187, 0.0013866388999917215, 0.00076419150037241, 0.0012978736702379946, 0.0007666716909434906, 0.002498192699611417, 0.0016821829662375745, 0.0014510736499015607, 0.002546486190808927, 0.0023469324254046338, 0.0045017674136299, 0.003016249435644392, 0.0017044359658889053, 0.003017858911533042, 0.0027937804431712207, 0.004119696690714107, 0.0026024594676439926, 0.002464837193113126, 0.0028259717850554916, 0.0034480066823490882, 0.0029034428995577868, 0.004126469095323684, 0.002730279138093637, 0.004143021249275898, 0.0046724265598468645, 0.003985014390567502, 0.004122983152474372, 0.0041420994629660125, 0.004534828612689122, 0.004098495799337615, 0.0037132417051666472, 0.0036737928729088875, 0.0032679633913736414, 0.0027519192691746247, 0.003994314033031917, 0.0036284139002223377, 0.0032572284374887, 0.003113321751391368, 0.0034877871429338683, 0.0036480637579866452, 0.00341414007656053, 0.003093682350059572, 0.003835510996910427, 0.0031764171485074272, 0.003200501940357507, 0.003116464058221238, 0.003164591173710565, 0.0026299890119749923, 0.0014365556568590246, 0.0008054828585927426, 0.0013681470582176235, 0.003323231744144932, 0.0009677298848469045, 0.0010306897609154114, 0.0003827891503631388, 0.0023985541882596433, 0.0010000086060623148, 0.0013571520910335654, 0.001233465225100497, 0.001111385682321802, 0.00185692206314614, 0.000975086428059771, 0.001081434733720043, 0.001076680022235553, 0.0014558927908304977, 0.0005631963609612078, 0.0009708180460515228, 0.002024929685168178, 0.001534799501186773, 0.0007591348893642574, 0.001910468815204513, 0.0015693248572744161, 0.0024602750370271297, 0.001997690419865275, 0.0017562743284713403, 0.0002930859539086387, 0.0024096490805040004, 0.0026238303941509234, 0.002705478979629138, 0.0026187228606209105, 0.0034456011184029927, 0.004275759939896376, 0.0026927845770608936, 0.002336628953211078, 0.003906271063836135, 0.003922127085792726, 0.004432752093224679, 0.0033356181272958803, 0.0027881264097644187, 0.002300565151159626, 0.002010488706332749, 0.003420018440071317, 0.0033037402379032478, 0.003778031185920423, 0.0029829326420709825, 0.005003198991741602, 0.003715052392501522, 0.003403441285375076, 0.003112914271174615, 0.00473850980600437, 0.0030662837417685315, 0.0029605386411983357, 0.003395615397729682, 0.0040225353747663185, 0.0033744673886293305, 0.0034544434740618355, 0.0031942323101635723, 0.003051360086229137, 0.0032542638898922813, 0.0032104231959780697, 0.0029697049730810607, 0.0035748274715576476, 0.003182905500895718, 0.00326614313613428, 0.003225429849949599, 0.003158882430890929, 0.003117313820694631, 0.0033633539582985485, 0.003140834228519265, 0.0013301060242804157, 0.0007316210520877081, 0.0012715804133242741, 0.0009497123611051067, 0.002393487705763771, 0.0015367991142100912, 0.0026379442123629806, 0.0007652659291653995, 0.0012324768047163195, 0.0016969913829161269, 0.0013378206795296506, 0.0006999307003713798, 0.0006607429131287544, 0.0013668778396958533, 0.0017483381768805906, 0.0008818207159552971, 0.0004675878783007453, 0.0003620179290618986, 0.0023416406153869513, 0.00023005721858634362, 0.0006654064139202353, 0.0012738549678889927, 0.00112738056825707, 0.0014264185053760945, 0.0022920319982638274, 0.0016406594669495032, 0.0008474691002708508, 0.0015123405360067837, 0.0003632888622934045, 0.0007241735381248685, 0.0013877258219606038, 0.0027301462921312672, 0.0018302152372866452, 0.001536971283858877, 0.0025019879118384704, 0.002445464586951989, 0.002362740597529065, 0.00242638045775125, 0.0021685087183891554, 0.003032743906101329, 0.0029202590651405303, 0.0035804352116915014, 0.004046081623055615, 0.001994493927832847, 0.0037526437304182007, 0.0036596385331919947, 0.005107068872684118, 0.002790719758677468, 0.00322121820203151, 0.0034941758814165023, 0.003151775007497667, 0.003068170233006131, 0.003556299769494167, 0.003456576381553675, 0.0029908587279911043, 0.003470113276651856, 0.002970260906473297, 0.004415790210233948, 0.0027816296124575537, 0.0033373354275225546, 0.0036720937458983817, 0.0034411024156906934, 0.0035912969924145515, 0.0033492317236917635, 0.003567801682687185, 0.0033701446491277974, 0.0029477627715115817, 0.004192089076547383, 0.0034545281088352456, 0.003117840389479965, 0.0031407728817118567, 0.003167049311277154, 0.002960872626559375, 0.0030802623519675582, 0.0021909531385190485, 0.0008873776110727542, 0.0012283518926475123, 0.0005084084514474827, 0.0008910795720657368, 0.0008712540856764692, 0.00038560923757461366, 0.001061069320572952, 0.001372883235028482, 0.0014917748932375412, 0.0013559247519142094, 0.0018508852721574663, 0.0013184229132607395, 0.0010871159009829326, 0.002921006970293196, 0.0013922719314187035, 0.001720476211865332, 0.0009793676042110047, 0.0009282836668714482, 0.0017677516071244533, 0.0024740370095087064, 0.001212814218380594, 0.0012769279151989396, 0.0005947053532649902, 0.0009337413512422168, 0.0009356550958710358, 0.0004937740849708172, 0.0009846719791353638, 0.0003155502401731094, 0.0019131480966948068, 0.0025878558250303193, 0.0013440300997391798, 0.0047953968266104445, 0.0018796424375685675, 0.0015640966359363802, 0.0015035045357490642, 0.0027565208517459053, 0.00219822663703485, 0.0024283571934558762, 0.0023097963866981403, 0.002063038034327427, 0.0027478761872633413, 0.0027560223279891574, 0.0031704698231058395, 0.001927381671167561, 0.0032845946244837785, 0.0029421345010316553, 0.002966027747223993, 0.002485562900489199, 0.0033274052225809457, 0.0043708036690186, 0.0031419075766153746, 0.004584453916780117, 0.0027872999656126537, 0.004179113881110104, 0.0037189459135647277, 0.0033928574753826777, 0.0026388725237706167, 0.0040161842701734165, 0.0041549006214689505, 0.0028008232495546413, 0.0025649279471390636, 0.0034450281275028413, 0.0034329384325353734, 0.0029655162459624592, 0.003027901279154393, 0.0029677005796131225, 0.0036026347927102004, 0.0030898847342467595, 0.0033442975115161844, 0.00359018370399887, 0.003183493976490965, 0.0032962396367272498, 0.003051421888294414, 0.003009498939796419, 0.0029770945893340998, 0.002962019816637463, 0.002951712315835091, 0.002942530726578267, 0.0010736554281611855, 0.0005050264553404487, 0.0008279689410272241, 0.0006385473129089203, 0.0022778872751177508, 0.0015036646276842965, 0.00038436313942496184, 0.000492897726138191, 0.0008859087355489637, 0.0006860401939231431, 0.0016939967344041709, 0.001123170841321076, 0.0005535031280472362, 0.0014047472292213479, 0.00038388513825260407, 0.0007680466560100185, 0.0007402415344316121, 0.0007056223598925472, 0.0003678057349578783, 0.0005874690446907033, 0.0011227009491646866, 0.0010643338585598996, 0.0009142799647066141, 0.00024601323418152216, 0.00047906684718549325, 0.0011670434856886698, 0.0008120122819391595, 0.0013949872544551758, 0.0005625529290378064, 0.0012374545283513642, 0.0014031260712475634, 0.0020629439506524663, 0.0025743154195124974, 0.0016402302486212125, 0.002725623022142213, 0.0023517963575788656, 0.0014138306641259713, 0.0017226140553182796, 0.001657809508480781, 0.0015081638238348708, 0.001910941651903281, 0.0015177257094973827, 0.001930581015291634, 0.0020040371957540533, 0.0021216384074174725, 0.0016113112163114727, 0.0030693327081424424, 0.0021360626939656313, 0.004065872193618616, 0.002438959324329002, 0.002628421379415925, 0.003308419583012238, 0.0021470533506809508, 0.002434252854187162, 0.002267483747287428, 0.0025850132030193467, 0.0021180546672860123, 0.002278860667656533, 0.002060170608340733, 0.0025100233370691795, 0.0024471865285986506, 0.0021859053569285056, 0.002172028523236364, 0.0021630480666846854, 0.0027059643510957115, 0.0022049239017622353, 0.002129666357266512, 0.002228310843911119, 0.0021378210709169826, 0.0021012552747980734, 0.0012945416999333118, 0.0008209591485437442, 0.001898114964042952, 0.0008982883782687809, 0.0016022771231361131, 0.0003482283475599105, 0.0002517995852626393, 0.0007580303060472518, 0.0005183045857299385, 0.0012815803152879128, 0.0007209115408555851, 0.0007047348878723593, 0.0003452939773432292, 0.00035921209290506225, 0.0008431680879187951, 0.00042052107743272054, 0.0012710420082084667, 0.0007383538119269751, 0.002328529168994181, 0.0010821500944552705, 0.0006548233877578517, 0.0009383953823935369, 0.001030078016181279, 0.00020483958184504847, 0.0004477939795201914, 0.0011286078866101622, 0.0007147236860917842, 0.0008655413608259653, 0.0004206940465576441, 0.0008744646800711774, 0.0010626666638433424, 0.001229247028112799, 0.0011295146311788844, 0.0009751599708462338, 0.0014931116133118098, 0.0012077039417539223, 0.0024634503708784727, 0.0015608727646862833, 0.003123469496346331, 0.0031696706974115555, 0.0015053034269729394, 0.0035925665955828237, 0.001665698340097963, 0.0014232093180085027, 0.0016771962219755264, 0.002454343109173855, 0.002108955827292552, 0.0025480123616851433, 0.0020388482438576223, 0.0016071116277187219, 0.0024924281551896212, 0.0022112651577690197, 0.002071410739136017, 0.0019260544865162671, 0.001733579432658904, 0.0016401711783322515, 0.002526664690832246, 0.0024892657405703724, 0.0018828088419378076, 0.0017499305726077015, 0.0027942297897992807, 0.0020715661136726745, 0.0024914267856896667, 0.002438938248799773, 0.0022950366101849124, 0.002089987247634506, 0.0022696848610558335, 0.0019282882511297104, 0.0022584238878501015, 0.0022581530523111877, 0.0023252937746978, 0.0020208971238745077, 0.0021230883047395795, 0.0022357277571059086, 0.0022157209558463036, 0.002115034544398743, 0.002116216029283534, 0.002065392524903983, 0.0020562936494196962, 0.0014277799509678682, 0.0008353085274900359, 0.000388572847709168, 0.0007511530445424582, 0.00015203621913737993, 0.00036020142526062103, 0.0004996837482966804, 0.0009872229441299082, 0.0009903766314505328, 0.0022313100922700104, 0.004065605956367349, 0.00045537813906112377, 0.0002155136843389535, 0.0002990578984238647, 0.0010880765729184495, 0.0022381305265977776, 0.00038516151878524444, 0.00042173681382185596, 0.0005899131328434999, 0.0003239010696822511, 0.000980332399075001, 0.0013885801231831748, 0.0001388375302632685, 0.0005345035833221999, 0.00117094926201859, 0.0008549818832447335, 0.001012826789211997, 0.00022097692256598948, 0.000992720050551953, 0.0007770407778693903, 0.0005851299755164762, 0.0016491785175079441, 0.0016917709562837388, 0.001748910448281344, 0.001571699694513451, 0.0012710884698120368, 0.0008634922654368017, 0.0011286691888922253, 0.001220474371310103, 0.0014806467287834847, 0.0013542422467579705, 0.001433572690813551, 0.0018077405903665243, 0.0014733643757591523, 0.001494606844028515, 0.002295196560257493, 0.0021329913896063805, 0.0015686585526597388, 0.0027314702185875944, 0.0020843841736640153, 0.0018047862379677632, 0.0015477663168160238, 0.0016056912236106756, 0.002126169175573718, 0.0014855558288634344, 0.001651407113946257, 0.0014630362923843806, 0.0018509954745402988, 0.0018442208445774812, 0.0018661230228814813, 0.0017388522364662803, 0.0017936489144531641, 0.0016817066600121797, 0.0016557704221292502, 0.0016138143456163147, 0.0017299266687858454, 0.0015976574959143477, 0.0015533530964251321, 0.0015477890021472185, 0.0015710108059425524, 0.0015538113093260704, 0.0011522849993393502, 0.0023565536482349388, 0.0013304950474001887, 0.00031077531661843395, 0.00048795777633005234, 0.0008168461716990076, 0.0006616371229445999, 0.000416418205839377, 0.0005712016704632407, 0.0025672384194164524, 0.0007569237518000323, 0.00027831961073370446, 0.0003664210896039009, 0.0002507761638151292, 0.00021852649752754146, 0.0004261068569420463, 0.0005755340983918201, 0.000742486941952542, 0.0012964248987905598, 0.0007689594955942429, 0.0011312746176818233, 0.001253447023975651, 0.00020110067604805508, 0.000609858882744058, 0.0003384489384097699, 0.00011294590149269496, 0.0007978780617849636, 0.00015099808695653258, 0.0006174455267739684, 0.001579438530284288, 0.001063634623404548, 0.0009463529730748876, 0.0017423087876991161, 0.0016933698197796009, 0.002031865698631964, 0.0023762534263667913, 0.0019215672619111222, 0.0010804387902426176, 0.0014652518608903142, 0.001456312043642138, 0.001803451709055165, 0.0015171534094218194, 0.0022659122499730498, 0.0019204775274131365, 0.0021885734754873375, 0.0013840085781134115, 0.0013312391120162527, 0.002072379666140088, 0.001954474355884314, 0.0016808044129649374, 0.0016953438819180841, 0.0019685041684431685, 0.0019688008757670163, 0.0018245988430902515, 0.0019615384290399018, 0.0014596974922507467, 0.001851436495826276, 0.0016181037351157203, 0.001578039814016281, 0.0020582582820759584, 0.0017781703729259218, 0.0019350268111408475, 0.0017589914012855145, 0.0015482946169076536, 0.0016026244370513573, 0.0015764384569719719, 0.0015584545619204543, 0.0006573656568417954, 0.0002911641461419278, 0.00032115281683583785, 0.0003830936911431542, 0.001876161962311796, 0.0006526559649054026, 0.0009589592971900854, 0.0005872824868252868, 0.0006911928215399686, 0.0007248688381060886, 0.0009191879749485358, 0.000297740443448074, 0.0009282483301895365, 0.0005211135117798573, 0.000681602568188354, 0.00022108873726114992, 0.00044040372858928495, 0.0003405125187736339, 0.0003150020191328612, 0.0003893887221677555, 0.0003148936130350071, 0.0008864473075716135, 0.0006453764494309512, 0.001193354066793887, 0.0006876259644928544, 0.00023634987753081018, 0.0005028286001934002, 0.00020823123164307814, 0.0004600509486481025, 0.0003369621178801516, 0.0006161215869431678, 0.001484438992321469, 0.0009597257583145106, 0.0016299671218758418, 0.0010502845193021179, 0.0012640971461335235, 0.0011475843572948045, 0.0015653240760270903, 0.0006570497461864175, 0.0019370215589063335, 0.0009217992152623383, 0.001294585769676281, 0.001244911436509983, 0.0010712910399871135, 0.0023765914375899586, 0.00187797063132318, 0.001688034872186302, 0.002237867498892097, 0.0015709371898332766, 0.0013197909918333194, 0.0013467525840557216, 0.001680367964063917, 0.002148624937263816, 0.0019580116124522356, 0.002339871128286376, 0.0019652945081281357, 0.00179019990483848, 0.0012163284905462033, 0.0014378790295963427, 0.0016437473325514632, 0.0016788452446071217, 0.0018806383352792154, 0.0018110110861698219, 0.0017663434657163484, 0.001588317362413319, 0.001636351664127654, 0.0016070427384528713, 0.0016096850756048432, 0.0017689248470271611, 0.0014941648018395278, 0.0016529672504326462, 0.0016687519320121, 0.0015224413882924566, 0.0015977584968914992, 0.001513252175466188, 0.00028853253854620094, 0.0009029236870370655, 0.000793503625952511, 0.0006332273727645419, 0.0002876715671739831, 0.0002847923749414051, 0.0006590013276286668, 0.0005107469000021907, 0.00025587486136896797, 0.0006927738450607079, 0.0009876050398215075, 0.0002845247761591937, 0.0005012729525715322, 0.0008063030359941263, 0.0012583207677018687, 0.0003736547826552067, 0.00031400980252916397, 0.000322087765466801, 0.000323619471365052, 0.0010207858647764596, 0.0007209899034650348, 0.0004388188729977831, 7.565055969872841e-05, 0.0007497801654273072, 0.00014704155643710596, 0.0001057938978964145, 0.00029749111519081315, 0.0007574994459278156, 0.0007866295504528029, 0.0003503450751547581, 0.0011844905094570237, 0.0015810613739752892, 0.0011885876130456833, 0.0011648513413130297, 0.00104545594160243, 0.0010764196443429387, 0.0007654463597097157, 0.001006369713325673, 0.0013187141229417652, 0.0012295093314841697, 0.001458210068975928, 0.001005806036909006, 0.0017234216381070949, 0.0013218806422627626, 0.0014929382134793098, 0.0009521706953313405, 0.0009505247105180697, 0.0012468946135029478, 0.001325742286147831, 0.0016238258927786097, 0.0017720433199438247, 0.0010374265431572955, 0.0015621318129204209, 0.001471037910218316, 0.00119487009454951, 0.0012582689755881095, 0.001394385879277136, 0.0014962716508667951, 0.0014601627531111053, 0.0015350148148753492, 0.001254156745988563, 0.0014271300080289672, 0.0014021972829285792, 0.0012868425547685018, 0.0012635862408058864, 0.0013120742508632365, 0.0012087677065356498, 0.0012359389032779123, 0.0012303320438359477, 0.001215912950138191, 0.000420715554571987, 0.0007318800618476715, 0.0005754819391171785, 0.0003500867587500145, 0.0007129648747075177, 0.0005546913702929107, 0.0009497401548715085, 0.00018610322619901353, 0.0005581635407577717, 0.00042816001460385504, 0.001045684996897066, 0.00037068335362130955, 0.00023317948524514184, 0.0011298297302357648, 0.0006700960653463638, 0.0005275839423135838, 0.0006204981289322865, 0.00036638084604566454, 0.0005169545793239876, 0.00035084475656041767, 0.0003175972340521214, 0.0004733550112875359, 0.0008232104156388291, 0.000288652153047373, 0.0002489162460729101, 0.00027524944096889284, 0.0004176028716104429, 0.0001353484262914947, 0.0002700730916432558, 0.0008136012135837697, 0.00040870236296510024, 0.0003173583068530743, 0.00043645706017085816, 0.0010636591306470865, 0.0005703291871144146, 0.0009078736635771346, 0.00047988452533885914, 0.000808365885509962, 0.0006751748971384816, 0.002001714219636143, 0.0013998674452587341, 0.0007938372689653396, 0.0008642740293335128, 0.0014919227339183615, 0.0013124435452933068, 0.0009023573116026654, 0.0010113657382932668, 0.0012119322881481561, 0.00128692914684646, 0.0014146696050174872, 0.0011133894711066953, 0.0015756454653270387, 0.0012862011123043282, 0.0014520103245802423, 0.0013541095243550744, 0.0010762827445781958, 0.0010821148324208418, 0.001391922888948132, 0.0011012721377307653, 0.0010528838101163899, 0.0012051452712242645, 0.001120054962218147, 0.001249240833477644, 0.001191527425074339, 0.0012319826802958376, 0.001083297972852566, 0.0011597564024323727, 0.0011057303044471854, 0.001089514884547596, 0.0011186544906952268, 0.0010609372374909586, 0.0008057458652824023, 0.00019915314357505482, 0.0007845637593000853, 0.0005448405902212431, 0.0001704023897000865, 0.00025909051332867206, 0.0002832454268320164, 0.00020242900196264975, 0.00019592154649667641, 0.0003604083824529231, 0.000344311914119989, 0.0002959960876664425, 0.0003632673336852058, 0.00019051061962323997, 0.00013578962037622862, 0.0006259067537243664, 0.0003338970758739804, 0.000537041148066907, 0.0004671473377663388, 0.00030402412269960787, 0.0002919245929870245, 0.00040183426557775846, 0.00020690998382866347, 0.0004205241581217713, 0.0003813499227809648, 0.00012825171054251837, 0.0005883565579491234, 0.0005592993667417452, 0.0007772017443412018, 0.00015595853818502865, 0.0003731414295929041, 0.001000500578627343, 0.000494224209295821, 0.0010073964407659964, 0.0006696176598323519, 0.0010208957683898105, 0.0007585519968815861, 0.0019225157576914073, 0.0008310723483853365, 0.0011737143587938809, 0.0009989919549437723, 0.0007940807742978202, 0.0008467483621559476, 0.0009053399398220536, 0.0008524899870537091, 0.0010808225188417044, 0.0011311099058584147, 0.0007966544429318361, 0.001018913384794436, 0.0006042809467751271, 0.0009681208139377748, 0.00125049713468744, 0.0012889612926689808, 0.0008969816300271829, 0.0008404228159063918, 0.0009422670977228628, 0.0012257172475949225, 0.0010795821515916188, 0.001173222828666001, 0.0012612496052671228, 0.0013111785836303763, 0.001287942745279884, 0.0012569354253902684, 0.001337637466564729, 0.00094980108667104, 0.0010483959163986323, 0.0013113461825729619, 0.001142140468993677, 0.001122309309124354, 0.0010426263374105039, 0.0010123546612315437, 0.0010840782733969629, 0.001161379709443531, 0.0012770379369198787, 0.0010695178192348335, 0.0011234368015354693, 0.0010591203768748503, 0.0010086430848920249, 0.0009953978041658546, 0.000530521836508222, 0.0007557217163936572, 0.00018474673665498794, 0.000639174237938886, 0.00024195245165230174, 0.00046656145477717213, 0.00043772483494389236, 0.0011392973108691204, 0.0002934886423256659, 0.0007394904844888696, 0.0007716180629060887, 0.00011832941192634789, 0.0010458411376638747, 7.033345289671563e-05, 0.00017259859497349795, 0.0007342904555404544, 0.0003215323632462875, 0.000295098794342408, 0.0002788313444019785, 0.00029932343319806693, 0.0013714670852054839, 0.0004978907713152089, 0.0005306500782022437, 0.0003244892721713093, 0.0016615178698223862, 0.0008135366665175478, 0.00039830232741859946, 0.0002705033865758893, 0.0004136123566007083, 0.0006185142326781923, 0.0005498866289652987, 0.0009056848735048076, 0.0011284453760106216, 0.0006418669947625132, 0.0007009124385940035, 0.0007331538581100647, 0.0009313623019956411, 0.0015969559437311112, 0.0007107501106375415, 0.0009959508313844368, 0.0008455854309005325, 0.0010801364308526435, 0.0011527503659382451, 0.0017249391546699127, 0.0011851781195824076, 0.0011453094953249973, 0.0013291753255563372, 0.0014618206855206632, 0.0009974724188301233, 0.001308923904766355, 0.001155236557191379, 0.0009433602353709707, 0.0012843759951851417, 0.0010520860101266535, 0.0012453917752657784, 0.0011028346629209798, 0.0011481736194703474, 0.0010511234000562114, 0.0010177941979114672, 0.0011956301265740681, 0.0012249369636115925, 0.0010728299303808387, 0.0011007337171346214, 0.0011789771461241116, 0.0010364965729454027, 0.0010304810318102068, 0.0010133442045028866, 0.000291616737723228, 0.00024644703795504146, 0.0006597354015901102, 0.00028012239451597376, 0.0002506014790633329, 0.00018032179707406227, 0.0005101853538700783, 8.706211540655065e-05, 0.00035220576393289466, 0.000945752226262317, 0.0005318992036968933, 0.0002856741175876077, 0.00030136032604485336, 0.0003365408692514918, 0.00039114709338706035, 0.0001114976658042128, 0.0002896110741826332, 0.00029350250320648875, 0.0002197184287884479, 0.00020775478198932712, 0.00023793050643192704, 0.00024143776079889852, 0.00012856363621648758, 9.019566834902746e-05, 0.0001728014256121003, 0.0003917528907263986, 0.00017114305387360692, 0.0004387330036272581, 0.00032256894645266593, 0.0004936706550691498, 0.0006016975754266753, 0.0005069360648090296, 0.0010789810505050898, 0.000576750240659072, 0.0006002315951232557, 0.0004171363810628241, 0.0008017881963900205, 0.0004935612932325947, 0.0008457707740219144, 0.0005348966321435233, 0.0012150298846150965, 0.0008571588573082616, 0.0007681679456985746, 0.001051597644942973, 0.0009809706218397002, 0.001226764692575643, 0.0006522216144883047, 0.0007305332407767922, 0.0007064089961376959, 0.0010956719555847323, 0.0007942799762735048, 0.0007637083208036101, 0.0010848007827851621, 0.001075219941958105, 0.0010528500233727709, 0.0012076057188702223, 0.0008788065063153216, 0.0008207895546339265, 0.0008863906846473627, 0.0008156059377703335, 0.0009778466983763818, 0.00109739469390131, 0.0008419786287075305, 0.0008452805953281327, 0.0008025409974601701, 0.0009055439926075109, 0.0008982034544176191, 0.0009255310585342685, 0.0008364247622536038, 0.0008442413191312435, 0.0008184694104160407, 0.0008425086595853976, 0.0008175100198896188, 0.0008381100227464402, 0.0008563530391967779, 0.00034732821972307713, 0.00028879595057024654, 0.0005001171469225285, 0.0003742091977689038, 0.0004851551457102578, 0.00018284116091448364, 0.000611319770900307, 0.00029633905460925745, 0.0007283227524513766, 0.00019753714527617907, 0.00015969713145652846, 0.0002262467634258937, 0.00017876595104950925, 0.0004168840659378238, 7.477212132726306e-05, 0.00032288747961721584, 0.00037560287334757015, 0.0007464764505055744, 0.00031962612477345767, 0.0002542323478332617, 0.000716589840883955, 0.0006057114950940377, 0.0003955097592623685, 0.00010973016033907537, 0.0002659186045413623, 0.0004970314721753718, 0.0007795072874130334, 0.0005013814011593093, 0.00014547856785100433, 0.0005625737346493647, 0.0004525154679140369, 0.00044080746606666436, 0.0007664375259081545, 0.00047544827332736585, 0.0009510192218029662, 0.0006419827378988244, 0.0006824711463607812, 0.0006425919854018419, 0.0006238641043455336, 0.0005609496949070734, 0.0009144180434589705, 0.0008456620641522771, 0.0009121676778219606, 0.0008835744913526818, 0.0007300028542686671, 0.0010163479225303918, 0.0008632547310373566, 0.0009794723716945847, 0.0009526125224092791, 0.0008959217134868093, 0.0010436887677051647, 0.000754027984667177, 0.0007553542882296771, 0.0007482735428610383, 0.0009493110295825866, 0.0007221669592996945, 0.0007435382291743382, 0.0007312371167679585, 0.0007303563432177937, 0.0007729019045539172, 0.0007317806252175694, 0.0007328544638480549, 0.000717817746427677], \"Total\": [288.0, 213.0, 319.0, 206.0, 186.0, 167.0, 160.0, 169.0, 147.0, 160.0, 173.0, 159.0, 189.0, 134.0, 141.0, 108.0, 109.0, 105.0, 97.0, 102.0, 112.0, 104.0, 120.0, 112.0, 104.0, 100.0, 95.0, 101.0, 95.0, 90.0, 319.0773953167877, 127.10788923702583, 21.50142298404962, 90.11581575416875, 173.18965597216845, 65.56232034671639, 121.86286590152312, 189.72577269483645, 29.23231160001881, 86.21067175340008, 69.22425471777088, 56.71097297783078, 70.91202838321253, 48.571565161153394, 63.06197916797242, 56.29985925533874, 186.33430950564122, 104.97880927169662, 34.72421456296315, 66.78289830006479, 98.62277589714665, 45.025963050912935, 169.6849319188568, 21.641543674657854, 60.66563333304503, 33.56095957434166, 57.080018889703034, 34.86097069209755, 63.35254250791623, 51.040089906547756, 288.40785244237503, 213.6794424542235, 206.44882338483262, 167.10414242635176, 160.68355081743502, 159.98992099794683, 160.10006872987017, 147.18231448620685, 141.1125734176144, 134.67723611116932, 120.63416567071677, 112.89237270055838, 112.87110797399066, 108.94961490595152, 109.32579488141197, 105.54187125925843, 104.96593379582906, 102.00741370354004, 101.25536957452431, 100.97475287568928, 97.54329375647542, 0.026045723003843925, 0.058106039312308795, 0.03551986388833022, 0.019450222641935085, 0.031142354719451128, 0.06245218295031719, 0.1297861134312831, 0.02955320351038355, 0.0662490883589757, 0.1285933296327456, 0.06833643945066925, 0.015757662357041218, 0.028934655318386238, 0.020158669986668723, 0.030298609076086752, 0.014085253089939936, 0.039410324423527425, 0.04055403488431105, 0.036049089367255316, 0.03208569776053704, 0.07493355748618633, 0.06462041245559551, 0.05983457095002045, 0.07669162443616784, 0.1888915226081022, 0.1727480302461063, 0.18392793226546414, 0.18028617667390875, 0.17778211295793922, 0.27629258798150447, 0.15822584410348728, 0.2373102989980805, 0.5482230203094908, 0.23610526281450875, 0.23123603506615792, 0.6799246165589932, 0.3105610842069566, 0.38401833364990523, 0.7567218130283121, 0.17473281160189555, 0.5233788342101078, 0.8370318256138153, 0.7343878047667685, 1.5977503642508208, 1.7334891390567408, 0.9647496684937977, 213.6794424542235, 1.167420152169504, 3.7762163910257454, 3.4676514924604334, 2.088826695296069, 3.0468412915231884, 20.537900411447296, 1.8851822332867674, 104.96593379582906, 1.330507446435482, 61.14764361065923, 36.28691973575083, 7.204087234859505, 3.497263130084653, 74.90876080460633, 5.637749284668056, 36.40050143949349, 288.40785244237503, 160.68355081743502, 206.44882338483262, 9.139030957308696, 37.35939718315556, 33.95662008649591, 21.21803226246867, 167.10414242635176, 160.10006872987017, 102.00741370354004, 109.32579488141197, 24.964779452197064, 105.54187125925843, 169.6849319188568, 0.05983457095002045, 0.07345195475701742, 0.030298609076086752, 0.03670103771192221, 0.05101073704220236, 0.014085253089939936, 0.028934655318386238, 0.020158669986668723, 0.08829977395981489, 0.019450222641935085, 0.03208569776053704, 0.17331224082991323, 0.14991392053995592, 0.11985048687794629, 0.09534122249262138, 0.16335107954738093, 0.12761781280165005, 0.029278158655730732, 0.015757662357041218, 0.06462041245559551, 0.036049089367255316, 0.04509143165230286, 0.10075516384400954, 0.1252702189979354, 0.19901808533642687, 0.10361160800701118, 0.05622150003775951, 0.1285933296327456, 0.1116431040235406, 0.08219799925585054, 0.27629258798150447, 0.1772559780730545, 0.5032736287265628, 0.8799198257598161, 0.2367547943823137, 0.3386665814073913, 0.4382057123965077, 0.4659122437852593, 0.19800368068348476, 1.173484450944854, 0.3921861668810095, 1.1437925110801088, 1.4420476274282361, 1.1043522870473754, 2.3487727366634683, 3.1089545464120025, 2.2819150636954584, 1.8797388299387776, 1.693117537053441, 4.767081764591178, 1.3282598849827516, 3.057651166070935, 0.9259936154902203, 9.139030957308696, 2.685192177863137, 4.053700150575578, 14.379013432215917, 39.53282960337418, 19.318489091010832, 14.695861261220125, 5.5069002045203606, 19.096815827219654, 12.135695444632978, 141.1125734176144, 288.40785244237503, 159.98992099794683, 206.44882338483262, 10.056526538085091, 36.4860151257268, 109.32579488141197, 74.90876080460633, 94.51217596313411, 9.763388942939386, 0.039410324423527425, 0.020158669986668723, 0.03551986388833022, 0.02955320351038355, 0.03670103771192221, 0.10136035865867904, 0.16532556101507664, 0.026045723003843925, 0.05488979269574438, 0.11215931987613387, 0.11265189157938188, 0.12206535769879208, 0.07430911094013565, 0.10732580097864297, 0.11677354935454848, 0.07669162443616784, 0.09813052180874061, 0.10612441481337077, 0.06568992239474908, 0.04044598684964895, 0.24488108041369125, 0.16335107954738093, 0.22482551830278114, 0.18392793226546414, 0.07874316888721387, 0.10606939529994838, 0.028934655318386238, 0.08933869657770187, 0.1128503683406975, 0.17421433667101266, 0.2763425315478582, 0.23824275553325358, 0.24616293870808947, 0.3105610842069566, 0.36618343111389307, 0.3823573417948391, 0.4288097350328202, 0.6782910757158965, 0.785620306217744, 1.34350039894074, 1.585704688153846, 1.6815761196868573, 1.7206552686434462, 0.968497545890009, 1.5372813510432184, 3.3013525944651825, 3.501334820974572, 2.7887642951775216, 27.24580358475389, 9.486558280609104, 4.1012483406347435, 12.581227596444927, 213.6794424542235, 10.236001149704924, 5.4200834679168235, 12.057268828989834, 16.51050410041276, 288.40785244237503, 74.10855273813141, 24.7178403310726, 28.5766016409842, 206.44882338483262, 3.9066184241040536, 4.658708468127325, 147.18231448620685, 10.42895675973832, 40.91807530827428, 0.029278158655730732, 0.02955320351038355, 0.03208569776053704, 0.03670103771192221, 0.04044598684964895, 0.03551986388833022, 0.08026251973935525, 0.014085253089939936, 0.08933869657770187, 0.028934655318386238, 0.1268849893901766, 0.10361160800701118, 0.07669162443616784, 0.17481114791947766, 0.05488979269574438, 0.0662490883589757, 0.07823775216162636, 0.06568992239474908, 0.019450222641935085, 0.11145022751676942, 0.19911906768868542, 0.15301623335166592, 0.1285933296327456, 0.4013592195704382, 0.23696426666663975, 0.24878065522472662, 0.0849177041133325, 0.07430911094013565, 0.16886082546179038, 0.05101073704220236, 0.11985048687794629, 0.308565724592885, 0.42320533123235654, 0.1963331046420032, 1.2129102031284136, 0.19746254742247504, 0.20753953121172508, 0.6822061403357857, 0.5034719099190438, 0.4288097350328202, 1.9653149465108213, 0.32938906688104796, 0.39710032059104444, 1.0374221807343758, 0.8964756698109335, 0.9390739993418642, 2.2300185024280137, 4.178748017700611, 1.8367198876278217, 7.065275704492472, 1.911246951064219, 0.9525281916058739, 4.874712526694541, 1.6136532151893108, 0.9331208820174586, 10.72523499914402, 2.5907039361220217, 4.7207367186515485, 3.373213497369701, 10.400573218956978, 7.996502630401727, 0.8163310694549489, 11.885894849096994, 26.843269224180336, 9.534629508224238, 11.33662000736258, 75.95226844746648, 8.880708073866384, 186.33430950564122, 4.7498876708851725, 3.0359532014179234, 319.0773953167877, 78.18900296618952, 160.10006872987017, 0.019450222641935085, 0.030298609076086752, 0.03208569776053704, 0.015757662357041218, 0.058106039312308795, 0.11892921730380598, 0.026045723003843925, 0.12761781280165005, 0.03670103771192221, 0.06568992239474908, 0.07430911094013565, 0.07345195475701742, 0.028934655318386238, 0.18392793226546414, 0.039410324423527425, 0.014085253089939936, 0.05488979269574438, 0.18524243023731157, 0.029278158655730732, 0.02955320351038355, 0.07493355748618633, 0.3105610842069566, 0.11032185596261485, 0.13715582140277532, 0.08026251973935525, 0.04055403488431105, 0.1128503683406975, 0.06245218295031719, 0.10612441481337077, 0.06462041245559551, 0.21574529004319437, 0.1451283761199411, 0.1252702189979354, 0.2706759602070316, 0.24488108041369125, 0.578772378662082, 0.4112091378209124, 0.179526156735756, 0.4618522039155309, 0.44259938909990604, 0.9911748633025177, 0.4250687686769299, 0.3888103133192743, 0.6203301104416713, 1.173484450944854, 0.7764661267400096, 2.048410839758994, 0.7163141705187349, 2.8299388406828654, 4.514338723664324, 2.6571190902399455, 3.9592980191339273, 4.038670698449163, 6.4549667214689865, 4.478301317107556, 3.5083862866173074, 3.417803737675967, 1.9837387168969955, 0.798465464991261, 12.485509347393393, 7.334159768679895, 3.8581278038499573, 2.4634011957545754, 8.655618245067338, 17.655371015891568, 8.615092573787294, 3.010349459891899, 288.40785244237503, 6.42392202899161, 11.632145386476754, 5.0241086872009975, 25.63564623395826, 0.031142354719451128, 0.020158669986668723, 0.014085253089939936, 0.026045723003843925, 0.10606939529994838, 0.03208569776053704, 0.03551986388833022, 0.015757662357041218, 0.10612441481337077, 0.04509143165230286, 0.06245218295031719, 0.05781847868045721, 0.06833643945066925, 0.11677354935454848, 0.06227736673705527, 0.07345195475701742, 0.07430911094013565, 0.10075516384400954, 0.039410324423527425, 0.07355328935527267, 0.15822584410348728, 0.12388464824673287, 0.06775353602887127, 0.179526156735756, 0.14975174120245016, 0.2373102989980805, 0.19746254742247504, 0.17421433667101266, 0.02955320351038355, 0.2472932365439726, 0.34563192645623686, 0.4084778657289477, 0.43838257510310047, 0.785620306217744, 1.315880411412239, 0.5459493874582961, 0.42569344697813327, 1.44000339418285, 1.5264288939724098, 2.324246985153598, 1.4652367495844203, 0.8964756698109335, 0.5023929858364814, 0.3399532450521337, 2.3033158396143096, 2.2281696506945927, 3.784625949988498, 1.5892345568991453, 14.459990325734791, 4.370146712436483, 3.301120776621749, 2.2756381647981434, 21.21803226246867, 2.1530270377171745, 1.7593120546579755, 4.009630272249019, 14.32770828512292, 4.722584476723813, 7.992087638347743, 4.3085776751768, 2.595838944013839, 7.120101409860999, 6.36072970049882, 2.171889150086144, 33.95662008649591, 6.003496136101233, 9.34261158949862, 8.072312920779927, 8.203867486756478, 6.4782806113623215, 159.98992099794683, 108.94961490595152, 0.014085253089939936, 0.015757662357041218, 0.030298609076086752, 0.029278158655730732, 0.07823775216162636, 0.053028539691888095, 0.09762304042548064, 0.03208569776053704, 0.058960240895989176, 0.0849177041133325, 0.06873948786786817, 0.03670103771192221, 0.04055403488431105, 0.08933869657770187, 0.12303290174596769, 0.06568992239474908, 0.036049089367255316, 0.02955320351038355, 0.19746254742247504, 0.019450222641935085, 0.05781847868045721, 0.11355634324652532, 0.10075516384400954, 0.1297861134312831, 0.2116766513125601, 0.15301623335166592, 0.08026251973935525, 0.14975174120245016, 0.04044598684964895, 0.08219799925585054, 0.16290661372294285, 0.35231968539886926, 0.22833590846698565, 0.19634439531859982, 0.40255032695085485, 0.3963578850410361, 0.38494063337173456, 0.423032788851224, 0.36616841801122973, 0.7360842431513414, 0.7851756821281229, 1.3698283437074459, 1.9797047139470123, 0.3977812727519322, 3.158847302251771, 3.147160354292146, 11.178249608863018, 1.4261057964853996, 2.459036134516372, 3.57008992964088, 2.498482734441931, 2.2885244573462744, 4.526860287240256, 4.104672427669186, 2.1645863799778424, 5.019055533602401, 2.320210934630968, 24.883369615324824, 1.6763483779176849, 6.036325289497162, 11.715507288278825, 8.062495062075705, 11.550499170470792, 6.835060793896687, 13.734634554002426, 8.096018334577957, 3.0840838965197834, 288.40785244237503, 34.96521874858987, 8.715375735049006, 19.86893583054363, 26.490724378117655, 3.535940463347522, 100.97475287568928, 0.04509143165230286, 0.020158669986668723, 0.03551986388833022, 0.015757662357041218, 0.029278158655730732, 0.031142354719451128, 0.014085253089939936, 0.039410324423527425, 0.053028539691888095, 0.0662490883589757, 0.07355328935527267, 0.10075516384400954, 0.07823775216162636, 0.06775353602887127, 0.18524243023731157, 0.08933869657770187, 0.11842706949367948, 0.06833643945066925, 0.07669162443616784, 0.15301623335166592, 0.225200914275582, 0.1128503683406975, 0.127954030977392, 0.06245218295031719, 0.10047576403503282, 0.10612441481337077, 0.05622150003775951, 0.11265189157938188, 0.03670103771192221, 0.22482551830278114, 0.30582799202209404, 0.16335107954738093, 0.6647330400403271, 0.2373102989980805, 0.19911906768868542, 0.19746254742247504, 0.47007585281012654, 0.3399532450521337, 0.4170047380480554, 0.38922674991468575, 0.3388450266589567, 0.6543876043003014, 0.8120863007910879, 1.3403643942956327, 0.3691324275490515, 2.0790740531214675, 1.4980544797545423, 1.5707541629588104, 0.8799198257598161, 2.446937069142193, 7.20237954165157, 2.131010277181859, 11.46112523047082, 1.44603545786924, 8.409981118700804, 5.280255673289924, 3.5083862866173074, 1.1539893227169926, 10.743656135392108, 13.244536892159326, 1.779308539083119, 1.1522450424319028, 7.593811181340757, 8.179638430410067, 3.3101841578926123, 3.885269004792582, 3.543537845057325, 21.028487197047056, 5.822665533317912, 14.182805028774588, 54.33373233191907, 9.81214557412165, 29.823556057136976, 12.034223009703732, 8.937140471380474, 6.8947666715148515, 7.199561489671816, 7.793624909448458, 32.33315364211106, 0.031142354719451128, 0.015757662357041218, 0.026045723003843925, 0.020158669986668723, 0.07493355748618633, 0.05101073704220236, 0.014085253089939936, 0.019450222641935085, 0.036049089367255316, 0.030298609076086752, 0.09974689928178788, 0.07355328935527267, 0.03670103771192221, 0.11677354935454848, 0.03208569776053704, 0.06568992239474908, 0.06462041245559551, 0.06227736673705527, 0.039410324423527425, 0.0662490883589757, 0.1268849893901766, 0.12303290174596769, 0.10612441481337077, 0.029278158655730732, 0.058106039312308795, 0.15367801820048543, 0.10732580097864297, 0.18825571770274893, 0.07669162443616784, 0.17473281160189555, 0.19901808533642687, 0.30582799202209404, 0.3992472132585108, 0.2472932365439726, 0.5617329706726092, 0.47069246166279227, 0.24488108041369125, 0.3410230306515636, 0.34563192645623686, 0.32059008778088877, 0.6478422917312978, 0.3888103133192743, 0.8027073541214842, 0.916786980410678, 1.1019110031119004, 0.518214552882642, 5.728039494521069, 1.5338319208393636, 20.442259411451886, 2.658353234710471, 4.214584671549246, 13.992483112958185, 1.9653149465108213, 3.9907640604519257, 2.853211302535734, 6.582799908592323, 2.3422013374838713, 3.9577580404587236, 2.1362787569973416, 8.096018334577957, 8.179638430410067, 4.000810408450406, 3.9306565062589147, 4.296539845165784, 57.90394651253328, 5.495164280771973, 4.337810900283134, 10.1128560775091, 6.12989497069254, 9.345375574254547, 0.020158669986668723, 0.019450222641935085, 0.053028539691888095, 0.03670103771192221, 0.0662490883589757, 0.015757662357041218, 0.014085253089939936, 0.04509143165230286, 0.04044598684964895, 0.10075516384400954, 0.058106039312308795, 0.058960240895989176, 0.029278158655730732, 0.031142354719451128, 0.07874316888721387, 0.04055403488431105, 0.12303290174596769, 0.07355328935527267, 0.24188074329096465, 0.1128503683406975, 0.06873948786786817, 0.10136035865867904, 0.12063179437186791, 0.026045723003843925, 0.06245218295031719, 0.17473281160189555, 0.11892921730380598, 0.14975174120245016, 0.07345195475701742, 0.15367801820048543, 0.1896756131566567, 0.22691338186377188, 0.20753953121172508, 0.17481114791947766, 0.3009845431165741, 0.2367547943823137, 0.6514838906064454, 0.34763951361647283, 1.0000104703306942, 1.0616163033696524, 0.39462287845777455, 2.6217193534836487, 0.5369480535915446, 0.39149539838488795, 0.5782956745119043, 2.171889150086144, 1.4007519073726435, 2.5062618026170096, 1.278735809938453, 0.7082159601600192, 3.577490051407256, 2.4634011957545754, 1.9456218817116127, 1.4547098713845428, 1.0038933118404645, 0.8221217366145994, 5.976538007096932, 5.680889070978379, 1.6105038137778005, 1.1274455270366195, 15.789454800306961, 3.3086638394871017, 11.48239060788482, 11.426422856590682, 7.660428020672151, 4.074551973132086, 8.606422648419521, 2.3060518010508697, 11.08411424403515, 11.11019749257107, 14.930468545315568, 3.7176621790594404, 7.045193866286377, 13.498225427522254, 21.421494411235017, 9.848845255971577, 17.945161026721657, 11.098611994403575, 8.565124207194158, 0.015757662357041218, 0.02955320351038355, 0.026045723003843925, 0.06227736673705527, 0.014085253089939936, 0.03670103771192221, 0.05101073704220236, 0.10136035865867904, 0.10612441481337077, 0.24616293870808947, 0.46201512247289145, 0.053028539691888095, 0.031142354719451128, 0.04509143165230286, 0.18028617667390875, 0.3780037637788802, 0.06775353602887127, 0.07430911094013565, 0.10732580097864297, 0.058960240895989176, 0.18825571770274893, 0.28480969088469466, 0.028934655318386238, 0.11215931987613387, 0.24674021663769663, 0.1959737485482004, 0.2503500258598843, 0.05488979269574438, 0.2472932365439726, 0.19839704279867787, 0.15367801820048543, 0.46843340179460297, 0.5034719099190438, 0.6203301104416713, 0.588975886346742, 0.44259938909990604, 0.24188074329096465, 0.3823573417948391, 0.47261020282211436, 0.7557902912840565, 0.7643659816471368, 0.900335974121102, 1.770384304003867, 1.1821420495215988, 1.2687355915035032, 4.7660633688086245, 3.9306565062589147, 1.5977503642508208, 13.782974672857067, 5.471924545385329, 3.5246744701719557, 1.6990189319030162, 2.0648393287255113, 14.743574513189932, 1.6164130531018617, 3.544591211517791, 1.5676559587675531, 9.669337607224499, 9.520928418169412, 10.527990893587038, 7.089609020438387, 13.138915700520766, 6.895937763837427, 7.642022326186237, 5.327557823640416, 21.51654903528418, 4.672932087213653, 3.645307379223889, 6.649366679709834, 51.203090918943715, 15.470538569679999, 0.019450222641935085, 0.06873948786786817, 0.06462041245559551, 0.015757662357041218, 0.031142354719451128, 0.05781847868045721, 0.05101073704220236, 0.03670103771192221, 0.058960240895989176, 0.2763425315478582, 0.08219799925585054, 0.030298609076086752, 0.04055403488431105, 0.028934655318386238, 0.026045723003843925, 0.053028539691888095, 0.07669162443616784, 0.10239063745329434, 0.179526156735756, 0.11677354935454848, 0.17421433667101266, 0.19634439531859982, 0.03208569776053704, 0.09813052180874061, 0.05983457095002045, 0.020158669986668723, 0.15301623335166592, 0.02955320351038355, 0.1252702189979354, 0.3231611145667791, 0.2224327312910684, 0.2019962460850798, 0.39462287845777455, 0.49253961690484743, 0.7360842431513414, 1.3282598849827516, 0.968497545890009, 0.3476213222824748, 0.8560585883763817, 0.9477584912147308, 1.979654110874759, 1.4109853814274478, 4.767081764591178, 2.9056011400366764, 4.3376767418413555, 1.1001293689736689, 1.0078015246634802, 5.476701376398334, 5.407850180007641, 2.9940544260723065, 3.6214402894003412, 8.267622446414086, 9.166515939761936, 6.069334782040214, 10.03039986265905, 1.7930440932345422, 9.002483439459217, 3.8319059461784066, 3.3304517492484824, 39.824462317517394, 10.457384098956142, 28.166577077701014, 35.02308879328884, 3.304426387710096, 10.142101617825897, 10.824192575712017, 19.73337322464671, 0.029278158655730732, 0.014085253089939936, 0.015757662357041218, 0.019450222641935085, 0.10361160800701118, 0.03670103771192221, 0.05781847868045721, 0.04055403488431105, 0.05488979269574438, 0.06873948786786817, 0.10136035865867904, 0.039410324423527425, 0.12303290174596769, 0.07430911094013565, 0.09762304042548064, 0.03551986388833022, 0.07874316888721387, 0.06227736673705527, 0.058960240895989176, 0.07669162443616784, 0.06568992239474908, 0.19911906768868542, 0.1451283761199411, 0.2871943456403464, 0.17331224082991323, 0.05983457095002045, 0.12761781280165005, 0.053028539691888095, 0.11892921730380598, 0.08829977395981489, 0.16335107954738093, 0.4036819356322523, 0.28480969088469466, 0.5739662721700556, 0.35231968539886926, 0.46325031456693233, 0.42449641179286157, 0.7294154565164095, 0.1963331046420032, 1.3602688282089013, 0.37664608447173686, 0.823854818010741, 0.7851756821281229, 0.5702893621454626, 3.8382410598207675, 2.255100277585765, 1.830026221077228, 3.8866538031383224, 1.673811762478414, 1.024975911789141, 1.1369497046336263, 2.238695481098965, 5.092020363980143, 5.405707854477734, 11.46112523047082, 5.904445608033684, 5.73782948310524, 0.845762954302813, 1.9565791203490064, 4.1012483406347435, 5.52488339635973, 10.931896906749506, 9.072623277505262, 10.087197387454218, 4.990406874138575, 6.536526471994369, 5.85827510454529, 6.579619061952423, 20.640460495646916, 3.543537845057325, 18.91887368464017, 27.214736644118144, 7.54527572890909, 36.4860151257268, 11.773927935749319, 0.014085253089939936, 0.04509143165230286, 0.05101073704220236, 0.058960240895989176, 0.029278158655730732, 0.031142354719451128, 0.07669162443616784, 0.06245218295031719, 0.03208569776053704, 0.08933869657770187, 0.127954030977392, 0.04055403488431105, 0.08219799925585054, 0.15301623335166592, 0.2440993026993239, 0.07430911094013565, 0.06462041245559551, 0.06833643945066925, 0.07345195475701742, 0.2373102989980805, 0.17331224082991323, 0.11032185596261485, 0.019450222641935085, 0.19839704279867787, 0.04044598684964895, 0.02955320351038355, 0.0849177041133325, 0.225200914275582, 0.24488108041369125, 0.11215931987613387, 0.3888103133192743, 0.578772378662082, 0.42449641179286157, 0.41808323374549705, 0.38900361988986104, 0.4288097350328202, 0.2871943456403464, 0.4798707828222199, 0.7651952583887505, 0.7730710933996598, 1.175738080698827, 0.5444238973221476, 1.744860436364945, 1.0307561597252783, 1.9519951277895897, 0.5755144698064293, 0.5730535141242336, 1.4502044769192834, 1.8428835137382718, 3.9439442280123114, 7.1951277099397775, 0.8914274894838538, 6.38835760213203, 6.653374712356949, 2.206161334559318, 3.1964382667249187, 9.149177480956432, 16.49037570145839, 14.865737861362993, 25.190686777585054, 4.778784242602944, 24.936466720649456, 22.728653639880015, 7.882046152004625, 6.4366515870506245, 26.726436310448264, 6.476307501849719, 19.096815827219654, 27.726038061887657, 8.954451747717306, 0.014085253089939936, 0.03551986388833022, 0.031142354719451128, 0.020158669986668723, 0.05488979269574438, 0.04509143165230286, 0.07823775216162636, 0.019450222641935085, 0.06873948786786817, 0.06227736673705527, 0.15367801820048543, 0.058106039312308795, 0.03670103771192221, 0.1888915226081022, 0.11355634324652532, 0.08971984738070934, 0.10612441481337077, 0.06568992239474908, 0.09974689928178788, 0.06775353602887127, 0.06462041245559551, 0.10606939529994838, 0.1896756131566567, 0.06833643945066925, 0.058960240895989176, 0.0662490883589757, 0.12063179437186791, 0.039410324423527425, 0.0849177041133325, 0.25641795023191055, 0.1297861134312831, 0.10047576403503282, 0.14991392053995592, 0.4659122437852593, 0.22482551830278114, 0.49675996076510576, 0.1727480302461063, 0.4417152769906769, 0.3386665814073913, 3.0159896856781647, 1.6304646415848847, 0.5381117158977136, 0.687384020042265, 2.66612543168148, 1.9629095399185703, 0.783203647719808, 1.1369497046336263, 2.975454743039622, 3.951450558449524, 6.516960393767822, 2.593400298938331, 12.435318986143072, 5.492586161669117, 10.353593933877077, 8.246051188802554, 2.4634011957545754, 2.894710415960373, 16.844701635583082, 4.05647501863569, 3.5323554956359007, 11.63915380489097, 7.364370564135219, 22.863698521564736, 15.728004822920077, 29.132656752785053, 6.069334782040214, 20.587871404678882, 10.585350032198155, 11.906304426106896, 75.95226844746648, 11.53783089611197, 0.015757662357041218, 0.014085253089939936, 0.058960240895989176, 0.05781847868045721, 0.020158669986668723, 0.031142354719451128, 0.04044598684964895, 0.02955320351038355, 0.030298609076086752, 0.05622150003775951, 0.058106039312308795, 0.053028539691888095, 0.06568992239474908, 0.036049089367255316, 0.026045723003843925, 0.12206535769879208, 0.0662490883589757, 0.1268849893901766, 0.1116431040235406, 0.07355328935527267, 0.07874316888721387, 0.11032185596261485, 0.05983457095002045, 0.1285933296327456, 0.11677354935454848, 0.039410324423527425, 0.18524243023731157, 0.1772559780730545, 0.25110045767820716, 0.05101073704220236, 0.12761781280165005, 0.39844309009082046, 0.179526156735756, 0.4303514475816652, 0.2626948814760615, 0.5023929858364814, 0.3410230306515636, 1.479504222263318, 0.4207951423065873, 0.7789480346030755, 0.7558685307739031, 0.4798707828222199, 0.5755144698064293, 0.7087800722553319, 0.625330626831761, 1.0954917190554851, 1.2413798125201287, 0.5482230203094908, 1.1274455270366195, 0.2871943456403464, 1.1043522870473754, 2.566991475258923, 2.9808248529835053, 1.042383721285565, 0.8560585883763817, 1.3481479285553724, 3.951450558449524, 2.403704362952835, 4.546965447896273, 6.726466210058247, 9.163011330582961, 12.219923490660854, 10.777323905866925, 18.584206892079628, 1.6842949379847112, 3.5913910542070764, 22.00660815921165, 7.334376521904736, 6.587487778605512, 3.5711390684009587, 2.7728149776120024, 7.108445360524094, 16.910084696904907, 102.00741370354004, 8.03748577656024, 26.471673159449242, 9.277935162594744, 3.577490051407256, 0.03551986388833022, 0.028934655318386238, 0.05488979269574438, 0.015757662357041218, 0.06227736673705527, 0.030298609076086752, 0.05983457095002045, 0.05781847868045721, 0.15301623335166592, 0.04055403488431105, 0.10361160800701118, 0.12206535769879208, 0.019450222641935085, 0.18825571770274893, 0.014085253089939936, 0.036049089367255316, 0.16290661372294285, 0.07345195475701742, 0.06873948786786817, 0.06568992239474908, 0.07430911094013565, 0.3467638256706125, 0.1285933296327456, 0.14667427986896736, 0.08971984738070934, 0.4618522039155309, 0.22691338186377188, 0.11215931987613387, 0.07669162443616784, 0.11842706949367948, 0.179526156735756, 0.1772559780730545, 0.3412115727162175, 0.5167591199884181, 0.23364484468544308, 0.29242230301870764, 0.36618343111389307, 0.7068487815406798, 2.6904064784304476, 0.4303514475816652, 0.989763703117921, 0.7294154565164095, 1.62787690286072, 1.98240793871391, 7.046928517786857, 2.4173788088770305, 2.1493784520314745, 3.651764366688133, 5.925087063047002, 1.479504222263318, 4.8598886628371, 2.990391791513037, 1.2340761457273333, 6.4832857489631595, 2.283160221737449, 5.862812416121779, 4.621337990498432, 6.525257009770432, 3.2439620981898774, 2.681911424341808, 17.5192760424197, 26.408267524123186, 5.495164280771973, 11.055739040111504, 38.12830047707396, 9.557312068440913, 10.516017263249157, 4.227725892604304, 0.030298609076086752, 0.026045723003843925, 0.07355328935527267, 0.039410324423527425, 0.04044598684964895, 0.031142354719451128, 0.08933869657770187, 0.015757662357041218, 0.06568992239474908, 0.19288817210811643, 0.11032185596261485, 0.0662490883589757, 0.07493355748618633, 0.0849177041133325, 0.10239063745329434, 0.029278158655730732, 0.07669162443616784, 0.07823775216162636, 0.05983457095002045, 0.05781847868045721, 0.06833643945066925, 0.07345195475701742, 0.04055403488431105, 0.02955320351038355, 0.06245218295031719, 0.14615380832931535, 0.06462041245559551, 0.1660478539748787, 0.1297861134312831, 0.19911906768868542, 0.2703522419795581, 0.24488108041369125, 0.6267835272024206, 0.30212938704523784, 0.36091630533103425, 0.2224327312910684, 0.8967557909264637, 0.3412115727162175, 1.1539893227169926, 0.42569344697813327, 2.764987841215518, 1.3384068229797692, 1.1080379862389014, 2.610966798718086, 2.4032386908009675, 4.643894630271866, 0.7567218130283121, 1.0954917190554851, 1.0374221807343758, 4.4673539415012815, 1.6763483779176849, 1.605482124036547, 7.087814527688, 7.133578904234544, 6.850697494146279, 13.3162477382206, 3.4499771280750955, 2.637961626709464, 4.624718013344712, 3.417803737675967, 10.039271230565408, 26.854932843293135, 4.574804283696089, 5.307033925446918, 3.6969649938099045, 11.279546797154014, 11.623586121736896, 28.633746281895252, 6.766329050361448, 12.2715049963174, 5.862812416121779, 12.97608156343339, 6.05210494501546, 60.56323080799734, 0.030298609076086752, 0.015757662357041218, 0.020158669986668723, 0.03551986388833022, 0.031142354719451128, 0.05101073704220236, 0.019450222641935085, 0.06873948786786817, 0.03670103771192221, 0.10136035865867904, 0.028934655318386238, 0.026045723003843925, 0.039410324423527425, 0.03208569776053704, 0.07669162443616784, 0.014085253089939936, 0.06568992239474908, 0.0849177041133325, 0.16886082546179038, 0.07430911094013565, 0.05983457095002045, 0.17721029131995306, 0.15432966039612145, 0.10612441481337077, 0.02955320351038355, 0.07874316888721387, 0.14991392053995592, 0.2706759602070316, 0.1772559780730545, 0.053028539691888095, 0.2331191754118426, 0.2367547943823137, 0.2379311280409516, 0.6799246165589932, 0.30685729921180643, 1.6533697561216405, 0.6475428121666226, 0.786487916719543, 0.7872102225775393, 0.7360842431513414, 0.5381117158977136, 3.792006066100671, 3.1357122024425523, 4.607353795587142, 4.470936077425028, 2.19966763884518, 11.567178452192618, 5.33364336402287, 10.389951011882905, 10.4715619338676, 7.816266925535293, 21.24629720566871, 2.985705960783785, 3.852990623048255, 3.683555184407052, 38.20323163357596, 3.0244819845486512, 6.2684283314443014, 5.1371708671516405, 5.975593041638543, 18.64553396255144, 9.345375574254547, 11.272124519453625, 8.043166144196936], \"Category\": [\"Default\", \"Default\", \"Default\", \"Default\", \"Default\", \"Default\", \"Default\", \"Default\", \"Default\", \"Default\", \"Default\", \"Default\", \"Default\", \"Default\", \"Default\", \"Default\", \"Default\", \"Default\", \"Default\", \"Default\", \"Default\", \"Default\", \"Default\", \"Default\", \"Default\", \"Default\", \"Default\", \"Default\", \"Default\", \"Default\", \"Topic1\", \"Topic1\", \"Topic1\", \"Topic1\", \"Topic1\", \"Topic1\", \"Topic1\", \"Topic1\", \"Topic1\", \"Topic1\", \"Topic1\", \"Topic1\", \"Topic1\", \"Topic1\", \"Topic1\", \"Topic1\", \"Topic1\", \"Topic1\", \"Topic1\", \"Topic1\", \"Topic1\", \"Topic1\", \"Topic1\", \"Topic1\", \"Topic1\", \"Topic1\", \"Topic1\", \"Topic1\", \"Topic1\", \"Topic1\", \"Topic1\", \"Topic1\", \"Topic1\", \"Topic1\", \"Topic1\", \"Topic1\", \"Topic1\", \"Topic1\", \"Topic1\", \"Topic1\", \"Topic1\", \"Topic1\", \"Topic1\", \"Topic1\", \"Topic1\", \"Topic1\", \"Topic1\", \"Topic1\", \"Topic1\", \"Topic1\", \"Topic1\", \"Topic2\", \"Topic2\", \"Topic2\", \"Topic2\", \"Topic2\", \"Topic2\", \"Topic2\", \"Topic2\", \"Topic2\", \"Topic2\", \"Topic2\", \"Topic2\", \"Topic2\", \"Topic2\", \"Topic2\", \"Topic2\", \"Topic2\", \"Topic2\", \"Topic2\", \"Topic2\", \"Topic2\", \"Topic2\", \"Topic2\", \"Topic2\", \"Topic2\", \"Topic2\", \"Topic2\", \"Topic2\", \"Topic2\", \"Topic2\", \"Topic2\", \"Topic2\", \"Topic2\", \"Topic2\", \"Topic2\", \"Topic2\", \"Topic2\", \"Topic2\", \"Topic2\", \"Topic2\", \"Topic2\", \"Topic2\", \"Topic2\", \"Topic2\", \"Topic2\", \"Topic2\", \"Topic2\", \"Topic2\", \"Topic2\", \"Topic2\", \"Topic2\", \"Topic2\", \"Topic2\", \"Topic2\", \"Topic2\", \"Topic2\", \"Topic2\", \"Topic2\", \"Topic2\", \"Topic2\", \"Topic2\", \"Topic2\", \"Topic2\", \"Topic2\", \"Topic2\", \"Topic2\", \"Topic2\", \"Topic2\", \"Topic2\", \"Topic2\", \"Topic2\", \"Topic2\", \"Topic2\", \"Topic2\", \"Topic2\", \"Topic2\", \"Topic2\", \"Topic3\", \"Topic3\", \"Topic3\", \"Topic3\", \"Topic3\", \"Topic3\", \"Topic3\", \"Topic3\", \"Topic3\", \"Topic3\", \"Topic3\", \"Topic3\", \"Topic3\", \"Topic3\", \"Topic3\", \"Topic3\", \"Topic3\", \"Topic3\", \"Topic3\", \"Topic3\", \"Topic3\", \"Topic3\", \"Topic3\", \"Topic3\", \"Topic3\", \"Topic3\", \"Topic3\", \"Topic3\", \"Topic3\", \"Topic3\", \"Topic3\", \"Topic3\", \"Topic3\", \"Topic3\", \"Topic3\", \"Topic3\", \"Topic3\", \"Topic3\", \"Topic3\", \"Topic3\", \"Topic3\", \"Topic3\", \"Topic3\", \"Topic3\", \"Topic3\", \"Topic3\", \"Topic3\", \"Topic3\", \"Topic3\", \"Topic3\", \"Topic3\", \"Topic3\", \"Topic3\", \"Topic3\", \"Topic3\", \"Topic3\", \"Topic3\", \"Topic3\", \"Topic3\", \"Topic3\", \"Topic3\", \"Topic3\", \"Topic3\", \"Topic3\", \"Topic3\", \"Topic3\", \"Topic3\", \"Topic3\", \"Topic3\", \"Topic3\", \"Topic3\", \"Topic3\", \"Topic3\", \"Topic4\", \"Topic4\", \"Topic4\", \"Topic4\", \"Topic4\", \"Topic4\", \"Topic4\", \"Topic4\", \"Topic4\", \"Topic4\", \"Topic4\", \"Topic4\", \"Topic4\", \"Topic4\", \"Topic4\", \"Topic4\", \"Topic4\", \"Topic4\", \"Topic4\", \"Topic4\", \"Topic4\", \"Topic4\", \"Topic4\", \"Topic4\", \"Topic4\", \"Topic4\", \"Topic4\", \"Topic4\", \"Topic4\", \"Topic4\", \"Topic4\", \"Topic4\", \"Topic4\", \"Topic4\", \"Topic4\", \"Topic4\", \"Topic4\", \"Topic4\", \"Topic4\", \"Topic4\", \"Topic4\", \"Topic4\", \"Topic4\", \"Topic4\", \"Topic4\", \"Topic4\", \"Topic4\", \"Topic4\", \"Topic4\", \"Topic4\", \"Topic4\", \"Topic4\", \"Topic4\", \"Topic4\", \"Topic4\", \"Topic4\", \"Topic4\", \"Topic4\", \"Topic4\", \"Topic4\", \"Topic4\", \"Topic4\", \"Topic4\", \"Topic4\", \"Topic4\", \"Topic4\", \"Topic4\", \"Topic5\", \"Topic5\", \"Topic5\", \"Topic5\", \"Topic5\", \"Topic5\", \"Topic5\", \"Topic5\", \"Topic5\", \"Topic5\", \"Topic5\", \"Topic5\", \"Topic5\", \"Topic5\", \"Topic5\", \"Topic5\", \"Topic5\", \"Topic5\", \"Topic5\", \"Topic5\", \"Topic5\", \"Topic5\", \"Topic5\", \"Topic5\", \"Topic5\", \"Topic5\", \"Topic5\", \"Topic5\", \"Topic5\", \"Topic5\", \"Topic5\", \"Topic5\", \"Topic5\", \"Topic5\", \"Topic5\", \"Topic5\", \"Topic5\", \"Topic5\", \"Topic5\", \"Topic5\", \"Topic5\", \"Topic5\", \"Topic5\", \"Topic5\", \"Topic5\", \"Topic5\", \"Topic5\", \"Topic5\", \"Topic5\", \"Topic5\", \"Topic5\", \"Topic5\", \"Topic5\", \"Topic5\", \"Topic5\", \"Topic5\", \"Topic5\", \"Topic5\", \"Topic5\", \"Topic5\", \"Topic5\", \"Topic5\", \"Topic5\", \"Topic5\", \"Topic5\", \"Topic5\", \"Topic5\", \"Topic5\", \"Topic5\", \"Topic5\", \"Topic5\", \"Topic5\", \"Topic5\", \"Topic5\", \"Topic6\", \"Topic6\", \"Topic6\", \"Topic6\", \"Topic6\", \"Topic6\", \"Topic6\", \"Topic6\", \"Topic6\", \"Topic6\", \"Topic6\", \"Topic6\", \"Topic6\", \"Topic6\", \"Topic6\", \"Topic6\", \"Topic6\", \"Topic6\", \"Topic6\", \"Topic6\", \"Topic6\", \"Topic6\", \"Topic6\", \"Topic6\", \"Topic6\", \"Topic6\", \"Topic6\", \"Topic6\", \"Topic6\", \"Topic6\", \"Topic6\", \"Topic6\", \"Topic6\", \"Topic6\", \"Topic6\", \"Topic6\", \"Topic6\", \"Topic6\", \"Topic6\", \"Topic6\", \"Topic6\", \"Topic6\", \"Topic6\", \"Topic6\", \"Topic6\", \"Topic6\", \"Topic6\", \"Topic6\", \"Topic6\", \"Topic6\", \"Topic6\", \"Topic6\", \"Topic6\", \"Topic6\", \"Topic6\", \"Topic6\", \"Topic6\", \"Topic6\", \"Topic6\", \"Topic6\", \"Topic6\", \"Topic6\", \"Topic6\", \"Topic6\", \"Topic6\", \"Topic6\", \"Topic6\", \"Topic6\", \"Topic6\", \"Topic6\", \"Topic6\", \"Topic6\", \"Topic7\", \"Topic7\", \"Topic7\", \"Topic7\", \"Topic7\", \"Topic7\", \"Topic7\", \"Topic7\", \"Topic7\", \"Topic7\", \"Topic7\", \"Topic7\", \"Topic7\", \"Topic7\", \"Topic7\", \"Topic7\", \"Topic7\", \"Topic7\", \"Topic7\", \"Topic7\", \"Topic7\", \"Topic7\", \"Topic7\", \"Topic7\", \"Topic7\", \"Topic7\", \"Topic7\", \"Topic7\", \"Topic7\", \"Topic7\", \"Topic7\", \"Topic7\", \"Topic7\", \"Topic7\", \"Topic7\", \"Topic7\", \"Topic7\", \"Topic7\", \"Topic7\", \"Topic7\", \"Topic7\", \"Topic7\", \"Topic7\", \"Topic7\", \"Topic7\", \"Topic7\", \"Topic7\", \"Topic7\", \"Topic7\", \"Topic7\", \"Topic7\", \"Topic7\", \"Topic7\", \"Topic7\", \"Topic7\", \"Topic7\", \"Topic7\", \"Topic7\", \"Topic7\", \"Topic7\", \"Topic7\", \"Topic7\", \"Topic7\", \"Topic7\", \"Topic7\", \"Topic7\", \"Topic7\", \"Topic7\", \"Topic7\", \"Topic7\", \"Topic7\", \"Topic7\", \"Topic8\", \"Topic8\", \"Topic8\", \"Topic8\", \"Topic8\", \"Topic8\", \"Topic8\", \"Topic8\", \"Topic8\", \"Topic8\", \"Topic8\", \"Topic8\", \"Topic8\", \"Topic8\", \"Topic8\", \"Topic8\", \"Topic8\", \"Topic8\", \"Topic8\", \"Topic8\", \"Topic8\", \"Topic8\", \"Topic8\", \"Topic8\", \"Topic8\", \"Topic8\", \"Topic8\", \"Topic8\", \"Topic8\", \"Topic8\", \"Topic8\", \"Topic8\", \"Topic8\", \"Topic8\", \"Topic8\", \"Topic8\", \"Topic8\", \"Topic8\", \"Topic8\", \"Topic8\", \"Topic8\", \"Topic8\", \"Topic8\", \"Topic8\", \"Topic8\", \"Topic8\", \"Topic8\", \"Topic8\", \"Topic8\", \"Topic8\", \"Topic8\", \"Topic8\", \"Topic8\", \"Topic8\", \"Topic8\", \"Topic8\", \"Topic8\", \"Topic8\", \"Topic8\", \"Topic8\", \"Topic8\", \"Topic8\", \"Topic8\", \"Topic8\", \"Topic8\", \"Topic8\", \"Topic8\", \"Topic8\", \"Topic8\", \"Topic8\", \"Topic8\", \"Topic8\", \"Topic8\", \"Topic8\", \"Topic9\", \"Topic9\", \"Topic9\", \"Topic9\", \"Topic9\", \"Topic9\", \"Topic9\", \"Topic9\", \"Topic9\", \"Topic9\", \"Topic9\", \"Topic9\", \"Topic9\", \"Topic9\", \"Topic9\", \"Topic9\", \"Topic9\", \"Topic9\", \"Topic9\", \"Topic9\", \"Topic9\", \"Topic9\", \"Topic9\", \"Topic9\", \"Topic9\", \"Topic9\", \"Topic9\", \"Topic9\", \"Topic9\", \"Topic9\", \"Topic9\", \"Topic9\", \"Topic9\", \"Topic9\", \"Topic9\", \"Topic9\", \"Topic9\", \"Topic9\", \"Topic9\", \"Topic9\", \"Topic9\", \"Topic9\", \"Topic9\", \"Topic9\", \"Topic9\", \"Topic9\", \"Topic9\", \"Topic9\", \"Topic9\", \"Topic9\", \"Topic9\", \"Topic9\", \"Topic9\", \"Topic9\", \"Topic9\", \"Topic9\", \"Topic9\", \"Topic9\", \"Topic9\", \"Topic9\", \"Topic9\", \"Topic9\", \"Topic9\", \"Topic9\", \"Topic9\", \"Topic9\", \"Topic9\", \"Topic9\", \"Topic9\", \"Topic9\", \"Topic9\", \"Topic9\", \"Topic9\", \"Topic9\", \"Topic9\", \"Topic9\", \"Topic9\", \"Topic9\", \"Topic9\", \"Topic10\", \"Topic10\", \"Topic10\", \"Topic10\", \"Topic10\", \"Topic10\", \"Topic10\", \"Topic10\", \"Topic10\", \"Topic10\", \"Topic10\", \"Topic10\", \"Topic10\", \"Topic10\", \"Topic10\", \"Topic10\", \"Topic10\", \"Topic10\", \"Topic10\", \"Topic10\", \"Topic10\", \"Topic10\", \"Topic10\", \"Topic10\", \"Topic10\", \"Topic10\", \"Topic10\", \"Topic10\", \"Topic10\", \"Topic10\", \"Topic10\", \"Topic10\", \"Topic10\", \"Topic10\", \"Topic10\", \"Topic10\", \"Topic10\", \"Topic10\", \"Topic10\", \"Topic10\", \"Topic10\", \"Topic10\", \"Topic10\", \"Topic10\", \"Topic10\", \"Topic10\", \"Topic10\", \"Topic10\", \"Topic10\", \"Topic10\", \"Topic10\", \"Topic10\", \"Topic10\", \"Topic10\", \"Topic10\", \"Topic10\", \"Topic10\", \"Topic10\", \"Topic10\", \"Topic10\", \"Topic10\", \"Topic10\", \"Topic10\", \"Topic10\", \"Topic10\", \"Topic10\", \"Topic10\", \"Topic10\", \"Topic10\", \"Topic10\", \"Topic11\", \"Topic11\", \"Topic11\", \"Topic11\", \"Topic11\", \"Topic11\", \"Topic11\", \"Topic11\", \"Topic11\", \"Topic11\", \"Topic11\", \"Topic11\", \"Topic11\", \"Topic11\", \"Topic11\", \"Topic11\", \"Topic11\", \"Topic11\", \"Topic11\", \"Topic11\", \"Topic11\", \"Topic11\", \"Topic11\", \"Topic11\", \"Topic11\", \"Topic11\", \"Topic11\", \"Topic11\", \"Topic11\", \"Topic11\", \"Topic11\", \"Topic11\", \"Topic11\", \"Topic11\", \"Topic11\", \"Topic11\", \"Topic11\", \"Topic11\", \"Topic11\", \"Topic11\", \"Topic11\", \"Topic11\", \"Topic11\", \"Topic11\", \"Topic11\", \"Topic11\", \"Topic11\", \"Topic11\", \"Topic11\", \"Topic11\", \"Topic11\", \"Topic11\", \"Topic11\", \"Topic11\", \"Topic11\", \"Topic11\", \"Topic11\", \"Topic11\", \"Topic11\", \"Topic11\", \"Topic11\", \"Topic11\", \"Topic11\", \"Topic11\", \"Topic11\", \"Topic11\", \"Topic11\", \"Topic11\", \"Topic11\", \"Topic11\", \"Topic11\", \"Topic11\", \"Topic11\", \"Topic11\", \"Topic11\", \"Topic11\", \"Topic11\", \"Topic11\", \"Topic11\", \"Topic12\", \"Topic12\", \"Topic12\", \"Topic12\", \"Topic12\", \"Topic12\", \"Topic12\", \"Topic12\", \"Topic12\", \"Topic12\", \"Topic12\", \"Topic12\", \"Topic12\", \"Topic12\", \"Topic12\", \"Topic12\", \"Topic12\", \"Topic12\", \"Topic12\", \"Topic12\", \"Topic12\", \"Topic12\", \"Topic12\", \"Topic12\", \"Topic12\", \"Topic12\", \"Topic12\", \"Topic12\", \"Topic12\", \"Topic12\", \"Topic12\", \"Topic12\", \"Topic12\", \"Topic12\", \"Topic12\", \"Topic12\", \"Topic12\", \"Topic12\", \"Topic12\", \"Topic12\", \"Topic12\", \"Topic12\", \"Topic12\", \"Topic12\", \"Topic12\", \"Topic12\", \"Topic12\", \"Topic12\", \"Topic12\", \"Topic12\", \"Topic12\", \"Topic12\", \"Topic12\", \"Topic12\", \"Topic12\", \"Topic12\", \"Topic12\", \"Topic12\", \"Topic12\", \"Topic12\", \"Topic12\", \"Topic12\", \"Topic12\", \"Topic12\", \"Topic12\", \"Topic12\", \"Topic12\", \"Topic12\", \"Topic12\", \"Topic12\", \"Topic12\", \"Topic13\", \"Topic13\", \"Topic13\", \"Topic13\", \"Topic13\", \"Topic13\", \"Topic13\", \"Topic13\", \"Topic13\", \"Topic13\", \"Topic13\", \"Topic13\", \"Topic13\", \"Topic13\", \"Topic13\", \"Topic13\", \"Topic13\", \"Topic13\", \"Topic13\", \"Topic13\", \"Topic13\", \"Topic13\", \"Topic13\", \"Topic13\", \"Topic13\", \"Topic13\", \"Topic13\", \"Topic13\", \"Topic13\", \"Topic13\", \"Topic13\", \"Topic13\", \"Topic13\", \"Topic13\", \"Topic13\", \"Topic13\", \"Topic13\", \"Topic13\", \"Topic13\", \"Topic13\", \"Topic13\", \"Topic13\", \"Topic13\", \"Topic13\", \"Topic13\", \"Topic13\", \"Topic13\", \"Topic13\", \"Topic13\", \"Topic13\", \"Topic13\", \"Topic13\", \"Topic13\", \"Topic13\", \"Topic13\", \"Topic13\", \"Topic13\", \"Topic13\", \"Topic13\", \"Topic13\", \"Topic13\", \"Topic13\", \"Topic13\", \"Topic13\", \"Topic13\", \"Topic13\", \"Topic13\", \"Topic14\", \"Topic14\", \"Topic14\", \"Topic14\", \"Topic14\", \"Topic14\", \"Topic14\", \"Topic14\", \"Topic14\", \"Topic14\", \"Topic14\", \"Topic14\", \"Topic14\", \"Topic14\", \"Topic14\", \"Topic14\", \"Topic14\", \"Topic14\", \"Topic14\", \"Topic14\", \"Topic14\", \"Topic14\", \"Topic14\", \"Topic14\", \"Topic14\", \"Topic14\", \"Topic14\", \"Topic14\", \"Topic14\", \"Topic14\", \"Topic14\", \"Topic14\", \"Topic14\", \"Topic14\", \"Topic14\", \"Topic14\", \"Topic14\", \"Topic14\", \"Topic14\", \"Topic14\", \"Topic14\", \"Topic14\", \"Topic14\", \"Topic14\", \"Topic14\", \"Topic14\", \"Topic14\", \"Topic14\", \"Topic14\", \"Topic14\", \"Topic14\", \"Topic14\", \"Topic14\", \"Topic14\", \"Topic14\", \"Topic14\", \"Topic14\", \"Topic14\", \"Topic14\", \"Topic14\", \"Topic14\", \"Topic14\", \"Topic14\", \"Topic14\", \"Topic14\", \"Topic14\", \"Topic14\", \"Topic14\", \"Topic14\", \"Topic14\", \"Topic14\", \"Topic14\", \"Topic14\", \"Topic14\", \"Topic14\", \"Topic15\", \"Topic15\", \"Topic15\", \"Topic15\", \"Topic15\", \"Topic15\", \"Topic15\", \"Topic15\", \"Topic15\", \"Topic15\", \"Topic15\", \"Topic15\", \"Topic15\", \"Topic15\", \"Topic15\", \"Topic15\", \"Topic15\", \"Topic15\", \"Topic15\", \"Topic15\", \"Topic15\", \"Topic15\", \"Topic15\", \"Topic15\", \"Topic15\", \"Topic15\", \"Topic15\", \"Topic15\", \"Topic15\", \"Topic15\", \"Topic15\", \"Topic15\", \"Topic15\", \"Topic15\", \"Topic15\", \"Topic15\", \"Topic15\", \"Topic15\", \"Topic15\", \"Topic15\", \"Topic15\", \"Topic15\", \"Topic15\", \"Topic15\", \"Topic15\", \"Topic15\", \"Topic15\", \"Topic15\", \"Topic15\", \"Topic15\", \"Topic15\", \"Topic15\", \"Topic15\", \"Topic15\", \"Topic15\", \"Topic15\", \"Topic15\", \"Topic15\", \"Topic15\", \"Topic15\", \"Topic15\", \"Topic15\", \"Topic15\", \"Topic15\", \"Topic15\", \"Topic15\", \"Topic15\", \"Topic15\", \"Topic15\", \"Topic15\", \"Topic16\", \"Topic16\", \"Topic16\", \"Topic16\", \"Topic16\", \"Topic16\", \"Topic16\", \"Topic16\", \"Topic16\", \"Topic16\", \"Topic16\", \"Topic16\", \"Topic16\", \"Topic16\", \"Topic16\", \"Topic16\", \"Topic16\", \"Topic16\", \"Topic16\", \"Topic16\", \"Topic16\", \"Topic16\", \"Topic16\", \"Topic16\", \"Topic16\", \"Topic16\", \"Topic16\", \"Topic16\", \"Topic16\", \"Topic16\", \"Topic16\", \"Topic16\", \"Topic16\", \"Topic16\", \"Topic16\", \"Topic16\", \"Topic16\", \"Topic16\", \"Topic16\", \"Topic16\", \"Topic16\", \"Topic16\", \"Topic16\", \"Topic16\", \"Topic16\", \"Topic16\", \"Topic16\", \"Topic16\", \"Topic16\", \"Topic16\", \"Topic16\", \"Topic16\", \"Topic16\", \"Topic16\", \"Topic16\", \"Topic16\", \"Topic16\", \"Topic16\", \"Topic16\", \"Topic16\", \"Topic16\", \"Topic16\", \"Topic16\", \"Topic16\", \"Topic16\", \"Topic16\", \"Topic16\", \"Topic16\", \"Topic16\", \"Topic16\", \"Topic16\", \"Topic17\", \"Topic17\", \"Topic17\", \"Topic17\", \"Topic17\", \"Topic17\", \"Topic17\", \"Topic17\", \"Topic17\", \"Topic17\", \"Topic17\", \"Topic17\", \"Topic17\", \"Topic17\", \"Topic17\", \"Topic17\", \"Topic17\", \"Topic17\", \"Topic17\", \"Topic17\", \"Topic17\", \"Topic17\", \"Topic17\", \"Topic17\", \"Topic17\", \"Topic17\", \"Topic17\", \"Topic17\", \"Topic17\", \"Topic17\", \"Topic17\", \"Topic17\", \"Topic17\", \"Topic17\", \"Topic17\", \"Topic17\", \"Topic17\", \"Topic17\", \"Topic17\", \"Topic17\", \"Topic17\", \"Topic17\", \"Topic17\", \"Topic17\", \"Topic17\", \"Topic17\", \"Topic17\", \"Topic17\", \"Topic17\", \"Topic17\", \"Topic17\", \"Topic17\", \"Topic17\", \"Topic17\", \"Topic17\", \"Topic17\", \"Topic17\", \"Topic17\", \"Topic17\", \"Topic17\", \"Topic17\", \"Topic17\", \"Topic17\", \"Topic17\", \"Topic17\", \"Topic17\", \"Topic17\", \"Topic17\", \"Topic17\", \"Topic17\", \"Topic17\", \"Topic17\", \"Topic17\", \"Topic17\", \"Topic17\", \"Topic17\", \"Topic17\", \"Topic17\", \"Topic18\", \"Topic18\", \"Topic18\", \"Topic18\", \"Topic18\", \"Topic18\", \"Topic18\", \"Topic18\", \"Topic18\", \"Topic18\", \"Topic18\", \"Topic18\", \"Topic18\", \"Topic18\", \"Topic18\", \"Topic18\", \"Topic18\", \"Topic18\", \"Topic18\", \"Topic18\", \"Topic18\", \"Topic18\", \"Topic18\", \"Topic18\", \"Topic18\", \"Topic18\", \"Topic18\", \"Topic18\", \"Topic18\", \"Topic18\", \"Topic18\", \"Topic18\", \"Topic18\", \"Topic18\", \"Topic18\", \"Topic18\", \"Topic18\", \"Topic18\", \"Topic18\", \"Topic18\", \"Topic18\", \"Topic18\", \"Topic18\", \"Topic18\", \"Topic18\", \"Topic18\", \"Topic18\", \"Topic18\", \"Topic18\", \"Topic18\", \"Topic18\", \"Topic18\", \"Topic18\", \"Topic18\", \"Topic18\", \"Topic18\", \"Topic18\", \"Topic18\", \"Topic18\", \"Topic18\", \"Topic18\", \"Topic18\", \"Topic18\", \"Topic18\", \"Topic18\", \"Topic18\", \"Topic18\", \"Topic18\", \"Topic19\", \"Topic19\", \"Topic19\", \"Topic19\", \"Topic19\", \"Topic19\", \"Topic19\", \"Topic19\", \"Topic19\", \"Topic19\", \"Topic19\", \"Topic19\", \"Topic19\", \"Topic19\", \"Topic19\", \"Topic19\", \"Topic19\", \"Topic19\", \"Topic19\", \"Topic19\", \"Topic19\", \"Topic19\", \"Topic19\", \"Topic19\", \"Topic19\", \"Topic19\", \"Topic19\", \"Topic19\", \"Topic19\", \"Topic19\", \"Topic19\", \"Topic19\", \"Topic19\", \"Topic19\", \"Topic19\", \"Topic19\", \"Topic19\", \"Topic19\", \"Topic19\", \"Topic19\", \"Topic19\", \"Topic19\", \"Topic19\", \"Topic19\", \"Topic19\", \"Topic19\", \"Topic19\", \"Topic19\", \"Topic19\", \"Topic19\", \"Topic19\", \"Topic19\", \"Topic19\", \"Topic19\", \"Topic19\", \"Topic19\", \"Topic19\", \"Topic19\", \"Topic19\", \"Topic19\", \"Topic19\", \"Topic19\", \"Topic19\", \"Topic19\", \"Topic19\", \"Topic19\", \"Topic19\", \"Topic19\", \"Topic19\", \"Topic19\", \"Topic19\", \"Topic19\", \"Topic19\", \"Topic19\", \"Topic20\", \"Topic20\", \"Topic20\", \"Topic20\", \"Topic20\", \"Topic20\", \"Topic20\", \"Topic20\", \"Topic20\", \"Topic20\", \"Topic20\", \"Topic20\", \"Topic20\", \"Topic20\", \"Topic20\", \"Topic20\", \"Topic20\", \"Topic20\", \"Topic20\", \"Topic20\", \"Topic20\", \"Topic20\", \"Topic20\", \"Topic20\", \"Topic20\", \"Topic20\", \"Topic20\", \"Topic20\", \"Topic20\", \"Topic20\", \"Topic20\", \"Topic20\", \"Topic20\", \"Topic20\", \"Topic20\", \"Topic20\", \"Topic20\", \"Topic20\", \"Topic20\", \"Topic20\", \"Topic20\", \"Topic20\", \"Topic20\", \"Topic20\", \"Topic20\", \"Topic20\", \"Topic20\", \"Topic20\", \"Topic20\", \"Topic20\", \"Topic20\", \"Topic20\", \"Topic20\", \"Topic20\", \"Topic20\", \"Topic20\", \"Topic20\", \"Topic20\", \"Topic20\", \"Topic20\", \"Topic20\", \"Topic20\", \"Topic20\", \"Topic20\"], \"logprob\": [30.0, 29.0, 28.0, 27.0, 26.0, 25.0, 24.0, 23.0, 22.0, 21.0, 20.0, 19.0, 18.0, 17.0, 16.0, 15.0, 14.0, 13.0, 12.0, 11.0, 10.0, 9.0, 8.0, 7.0, 6.0, 5.0, 4.0, 3.0, 2.0, 1.0, -5.0514, -5.9718, -7.7487, -6.3158, -5.6625, -6.6339, -6.014, -5.5713, -7.4416, -6.3601, -6.5796, -6.7789, -6.5555, -6.9339, -6.6728, -6.7862, -5.5894, -6.1632, -7.2695, -6.6155, -6.2256, -7.0097, -5.683, -7.7423, -6.7116, -7.3036, -6.7725, -7.2656, -6.6682, -6.8843, -5.1526, -5.4529, -5.487, -5.6984, -5.7376, -5.7419, -5.7412, -5.8253, -5.8675, -5.9141, -6.0242, -6.0906, -6.0908, -6.1261, -6.1228, -6.158, -6.1636, -6.192, -6.1994, -6.2022, -6.2367, -7.1025, -7.0068, -7.8145, -8.4217, -8.1356, -7.7288, -7.0266, -8.6061, -7.8691, -7.2257, -7.8609, -9.4108, -8.814, -9.1777, -8.8563, -9.6401, -8.6165, -8.6019, -8.8219, -8.9462, -8.1362, -8.3132, -8.4311, -8.1941, -7.306, -7.4037, -7.3906, -7.4131, -7.4658, -7.0556, -7.6988, -7.4472, -6.8364, -7.4942, -7.5143, -6.8849, -7.4423, -7.3168, -6.9248, -7.8043, -7.2201, -6.9892, -7.1534, -6.8131, -6.7836, -7.0402, -5.0873, -7.0262, -6.6945, -6.8051, -6.9451, -6.8531, -6.4506, -7.0305, -6.254, -7.1174, -6.4091, -6.522, -6.8165, -6.9509, -6.5256, -6.9221, -6.6883, -6.4697, -6.5462, -6.5481, -6.8877, -6.7953, -6.8038, -6.8444, -6.7468, -6.7796, -6.8251, -6.8293, -6.8781, -6.8754, -6.9171, -6.8735, -6.8954, -7.9663, -7.8597, -7.5467, -8.8773, -8.2676, -8.6818, -7.3466, -9.0156, -8.6371, -6.956, -7.1168, -7.4455, -7.6784, -7.1469, -7.4214, -8.9403, -9.5883, -8.2257, -8.8555, -8.6384, -7.8762, -7.6618, -7.2297, -7.8835, -8.5092, -7.6948, -7.9416, -8.2503, -7.26, -7.6285, -6.9112, -6.5129, -7.479, -7.2629, -7.0968, -7.0975, -7.6348, -6.7728, -7.3693, -6.9452, -6.868, -7.0197, -6.7689, -6.6954, -6.8283, -6.9013, -6.9516, -6.6827, -7.1175, -6.9521, -7.2014, -6.7489, -6.997, -6.9221, -6.7255, -6.5991, -6.7047, -6.7773, -6.9196, -6.7941, -6.841, -6.6097, -6.5948, -6.7038, -6.7411, -6.9039, -6.8504, -6.8306, -6.8742, -6.8738, -6.9223, -6.6788, -8.2697, -7.7925, -8.0756, -7.9676, -6.9806, -6.577, -8.4935, -7.8204, -7.2651, -7.3316, -7.2571, -7.7948, -7.4401, -7.477, -7.9175, -7.6749, -7.613, -8.1453, -8.6561, -6.8741, -7.2962, -6.9997, -7.2445, -8.1163, -7.8378, -9.1705, -8.0447, -7.8356, -7.4139, -6.9765, -7.1647, -7.2199, -7.0666, -7.006, -7.0604, -7.0171, -6.9782, -6.9375, -6.7493, -6.8232, -6.8216, -6.8565, -7.0452, -6.9291, -6.7438, -6.7631, -6.8298, -6.3922, -6.6154, -6.8105, -6.6499, -6.2921, -6.729, -6.8165, -6.7351, -6.7532, -6.4918, -6.6428, -6.7514, -6.7775, -6.6982, -6.9033, -6.9115, -6.8974, -6.9261, -6.9241, -7.7243, -7.7303, -7.851, -8.0049, -7.9154, -8.0773, -7.4351, -9.2295, -7.5148, -8.6777, -7.3349, -7.5432, -7.8607, -7.0622, -8.2322, -8.0802, -7.9505, -8.1597, -9.3858, -7.6727, -7.1151, -7.4117, -7.6808, -6.5899, -7.1301, -7.1092, -8.1853, -8.3211, -7.5254, -8.7327, -7.8874, -7.0508, -6.7715, -7.477, -6.2841, -7.5576, -7.5352, -6.8615, -7.0488, -7.1865, -6.5489, -7.3339, -7.2671, -6.8741, -6.9371, -6.9595, -6.6745, -6.4852, -6.7571, -6.3335, -6.7667, -6.9842, -6.4804, -6.8468, -7.0044, -6.5102, -6.815, -6.7259, -6.8172, -6.7074, -6.7521, -7.0898, -6.7575, -6.6933, -6.8151, -6.8184, -6.7058, -6.8575, -6.676, -6.921, -6.9492, -6.8382, -6.8759, -6.8795, -7.5832, -7.7185, -7.6824, -8.8659, -7.6152, -6.899, -8.4981, -6.9389, -8.1852, -7.6107, -7.5844, -7.6634, -8.6361, -6.882, -8.454, -9.5357, -8.2251, -7.0116, -8.874, -8.9099, -7.9803, -6.6369, -7.6971, -7.5102, -8.0537, -8.7493, -7.7336, -8.3294, -7.7998, -8.3262, -7.1449, -7.5404, -7.6882, -7.1258, -7.2074, -6.556, -6.9565, -7.5272, -6.9559, -7.0331, -6.6447, -7.104, -7.1584, -7.0216, -6.8227, -6.9946, -6.6431, -7.0561, -6.6391, -6.5188, -6.6779, -6.6439, -6.6393, -6.5487, -6.6499, -6.7486, -6.7593, -6.8763, -7.0482, -6.6756, -6.7717, -6.8796, -6.9248, -6.8112, -6.7663, -6.8326, -6.9311, -6.7162, -6.9047, -6.8972, -6.9238, -6.9085, -7.0727, -7.6774, -8.256, -7.7262, -6.8388, -8.0725, -8.0095, -9.0, -7.1648, -8.0397, -7.7343, -7.8299, -7.9341, -7.4208, -8.0649, -7.9614, -7.9658, -7.6641, -8.6138, -8.0693, -7.3342, -7.6113, -8.3153, -7.3923, -7.589, -7.1394, -7.3477, -7.4765, -9.267, -7.1602, -7.0751, -7.0444, -7.077, -6.8026, -6.5867, -7.0491, -7.191, -6.6771, -6.6731, -6.5507, -6.835, -7.0143, -7.2065, -7.3413, -6.81, -6.8446, -6.7105, -6.9468, -6.4296, -6.7273, -6.8149, -6.9041, -6.484, -6.9192, -6.9543, -6.8172, -6.6478, -6.8235, -6.8, -6.8783, -6.9241, -6.8597, -6.8733, -6.9512, -6.7658, -6.8819, -6.8561, -6.8686, -6.8895, -6.9027, -6.8268, -6.8952, -7.7158, -8.3136, -7.7608, -8.0527, -7.1283, -7.5714, -7.0311, -8.2686, -7.7921, -7.4722, -7.7101, -8.3579, -8.4155, -7.6886, -7.4424, -8.1269, -8.7613, -9.0172, -7.1502, -9.4705, -8.4085, -7.759, -7.8812, -7.6459, -7.1717, -7.506, -8.1666, -7.5874, -9.0137, -8.3238, -7.6734, -6.9967, -7.3967, -7.5713, -7.084, -7.1069, -7.1413, -7.1147, -7.2271, -6.8916, -6.9294, -6.7256, -6.6033, -7.3107, -6.6786, -6.7037, -6.3705, -6.9748, -6.8313, -6.75, -6.8531, -6.88, -6.7324, -6.7608, -6.9055, -6.7569, -6.9124, -6.5159, -6.9781, -6.7959, -6.7003, -6.7653, -6.7226, -6.7924, -6.7291, -6.7861, -6.92, -6.5679, -6.7614, -6.864, -6.8566, -6.8483, -6.9156, -6.8761, -7.1908, -8.0946, -7.7694, -8.6516, -8.0904, -8.1129, -8.928, -7.9158, -7.6582, -7.5751, -7.6706, -7.3594, -7.6987, -7.8916, -6.9032, -7.6442, -7.4325, -7.9959, -8.0495, -7.4054, -7.0692, -7.7822, -7.7306, -8.4948, -8.0437, -8.0416, -8.6808, -7.9905, -9.1285, -7.3263, -7.0243, -7.6794, -6.4074, -7.344, -7.5278, -7.5673, -6.9611, -7.1874, -7.0879, -7.1379, -7.2509, -6.9643, -6.9613, -6.8212, -7.3189, -6.7859, -6.896, -6.8879, -7.0646, -6.7729, -6.5001, -6.8303, -6.4524, -6.95, -6.545, -6.6617, -6.7534, -7.0047, -6.5848, -6.5508, -6.9452, -7.0332, -6.7382, -6.7417, -6.888, -6.8672, -6.8873, -6.6934, -6.847, -6.7678, -6.6969, -6.8171, -6.7823, -6.8595, -6.8733, -6.8841, -6.8892, -6.8927, -6.8958, -7.5935, -8.3477, -7.8533, -8.1131, -6.8413, -7.2566, -8.6207, -8.372, -7.7857, -8.0414, -7.1374, -7.5484, -8.256, -7.3247, -8.622, -7.9284, -7.9653, -8.0132, -8.6647, -8.1965, -7.5488, -7.6022, -7.7542, -9.0669, -8.4005, -7.5101, -7.8728, -7.3317, -8.2398, -7.4515, -7.3258, -6.9404, -6.719, -7.1697, -6.6618, -6.8094, -7.3182, -7.1207, -7.159, -7.2536, -7.0169, -7.2473, -7.0067, -6.9694, -6.9124, -7.1875, -6.5431, -6.9056, -6.2619, -6.773, -6.6982, -6.4681, -6.9004, -6.7749, -6.8459, -6.7148, -6.914, -6.8409, -6.9418, -6.7442, -6.7696, -6.8825, -6.8889, -6.893, -6.6691, -6.8738, -6.9086, -6.8633, -6.9048, -6.922, -7.3784, -7.8339, -6.9957, -7.7438, -7.1652, -8.6915, -9.0157, -7.9136, -8.2938, -7.3885, -7.9638, -7.9865, -8.6999, -8.6604, -7.8072, -8.5028, -7.3967, -7.9399, -6.7913, -7.5576, -8.06, -7.7002, -7.6069, -9.2221, -8.44, -7.5156, -7.9724, -7.781, -8.5024, -7.7707, -7.5758, -7.4302, -7.5148, -7.6617, -7.2357, -7.4479, -6.735, -7.1913, -6.4976, -6.483, -7.2276, -6.3577, -7.1263, -7.2837, -7.1195, -6.7387, -6.8904, -6.7013, -6.9242, -7.1621, -6.7233, -6.843, -6.9084, -6.9811, -7.0864, -7.1418, -6.7097, -6.7246, -7.0038, -7.077, -6.609, -6.9083, -6.7237, -6.745, -6.8058, -6.8994, -6.8169, -6.9799, -6.8219, -6.822, -6.7927, -6.933, -6.8837, -6.832, -6.841, -6.8875, -6.887, -6.9113, -6.9157, -7.0219, -7.5579, -8.3232, -7.6641, -9.2616, -8.3991, -8.0718, -7.3908, -7.3876, -6.5754, -5.9754, -8.1646, -8.9127, -8.5851, -7.2936, -6.5723, -8.3321, -8.2413, -7.9058, -8.5053, -7.3978, -7.0497, -9.3524, -8.0044, -7.2202, -7.5347, -7.3652, -8.8877, -7.3853, -7.6302, -7.9139, -6.8777, -6.8522, -6.819, -6.9258, -7.1381, -7.5247, -7.2569, -7.1787, -6.9855, -7.0747, -7.0178, -6.7859, -6.9904, -6.9761, -6.5472, -6.6204, -6.9278, -6.3731, -6.6435, -6.7875, -6.9412, -6.9044, -6.6237, -6.9822, -6.8763, -6.9975, -6.7623, -6.7659, -6.7541, -6.8248, -6.7937, -6.8582, -6.8737, -6.8994, -6.8299, -6.9094, -6.9376, -6.9411, -6.9263, -6.9373, -7.1823, -6.4668, -7.0385, -8.4927, -8.0416, -7.5263, -7.7371, -8.2001, -7.884, -6.3812, -7.6025, -8.603, -8.328, -8.7072, -8.8449, -8.1771, -7.8765, -7.6218, -7.0644, -7.5867, -7.2007, -7.0981, -8.928, -7.8186, -8.4074, -9.5049, -7.5498, -9.2145, -7.8062, -6.867, -7.2623, -7.3792, -6.7688, -6.7973, -6.6151, -6.4585, -6.6709, -7.2467, -6.942, -6.9481, -6.7343, -6.9072, -6.506, -6.6715, -6.5408, -6.999, -7.0379, -6.5953, -6.6539, -6.8048, -6.7961, -6.6468, -6.6466, -6.7227, -6.6503, -6.9458, -6.7081, -6.8428, -6.8678, -6.6022, -6.7484, -6.6639, -6.7593, -6.8869, -6.8524, -6.8689, -6.8803, -7.7384, -8.5527, -8.4547, -8.2783, -6.6896, -7.7455, -7.3608, -7.8511, -7.6882, -7.6406, -7.4031, -8.5304, -7.3933, -7.9706, -7.7022, -8.828, -8.1389, -8.3961, -8.474, -8.262, -8.4744, -7.4394, -7.7568, -7.1421, -7.6934, -8.7613, -8.0063, -8.8879, -8.0953, -8.4066, -7.8032, -6.9238, -7.36, -6.8303, -7.2698, -7.0845, -7.1812, -6.8708, -7.7388, -6.6577, -7.4003, -7.0607, -7.0998, -7.25, -6.4532, -6.6887, -6.7953, -6.5133, -6.8672, -7.0414, -7.0211, -6.7998, -6.554, -6.6469, -6.4687, -6.6432, -6.7365, -7.123, -6.9557, -6.8219, -6.8007, -6.6872, -6.725, -6.7499, -6.8562, -6.8264, -6.8444, -6.8428, -6.7485, -6.9173, -6.8163, -6.8068, -6.8985, -6.8502, -6.9046, -8.3244, -7.1836, -7.3128, -7.5384, -8.3274, -8.3375, -7.4985, -7.7534, -8.4445, -7.4485, -7.094, -8.3384, -7.7721, -7.2968, -6.8517, -8.0659, -8.2398, -8.2144, -8.2097, -7.0609, -7.4086, -7.9051, -9.6631, -7.3695, -8.9985, -9.3277, -8.2939, -7.3592, -7.3215, -8.1303, -6.9122, -6.6234, -6.9087, -6.9289, -7.037, -7.0078, -7.3488, -7.0751, -6.8048, -6.8749, -6.7043, -7.0757, -6.5372, -6.8024, -6.6807, -7.1305, -7.1322, -6.8608, -6.7995, -6.5967, -6.5093, -7.0447, -6.6354, -6.6955, -6.9034, -6.8517, -6.749, -6.6785, -6.7029, -6.6529, -6.855, -6.7258, -6.7434, -6.8293, -6.8475, -6.8099, -6.8919, -6.8696, -6.8742, -6.886, -7.8553, -7.3017, -7.5421, -8.0391, -7.3278, -7.5789, -7.0411, -8.671, -7.5726, -7.8378, -6.9448, -7.9819, -8.4455, -6.8674, -7.3898, -7.629, -7.4667, -7.9936, -7.6493, -8.0369, -8.1365, -7.7374, -7.1841, -8.232, -8.3802, -8.2796, -7.8627, -8.9894, -8.2986, -7.1958, -7.8843, -8.1372, -7.8186, -6.9278, -7.5511, -7.0862, -7.7237, -7.2023, -7.3823, -6.2955, -6.6531, -7.2204, -7.1354, -6.5894, -6.7176, -7.0923, -6.9782, -6.7973, -6.7373, -6.6426, -6.8821, -6.5348, -6.7378, -6.6166, -6.6864, -6.916, -6.9106, -6.6588, -6.893, -6.938, -6.8029, -6.8761, -6.767, -6.8143, -6.7809, -6.9095, -6.8413, -6.889, -6.9038, -6.8774, -6.9304, -7.1387, -8.5364, -7.1653, -7.5299, -8.6923, -8.2733, -8.1841, -8.52, -8.5527, -7.9432, -7.9889, -8.1401, -7.9353, -8.5807, -8.9193, -7.3912, -8.0196, -7.5444, -7.6838, -8.1133, -8.1539, -7.8344, -8.4981, -7.7889, -7.8867, -8.9764, -7.4531, -7.5037, -7.1747, -8.7808, -7.9085, -6.9222, -7.6274, -6.9153, -7.3237, -6.902, -7.199, -6.269, -7.1077, -6.7625, -6.9237, -7.1532, -7.089, -7.0221, -7.0823, -6.845, -6.7995, -7.15, -6.9039, -7.4264, -6.9551, -6.6991, -6.6688, -7.0314, -7.0965, -6.9821, -6.7192, -6.8461, -6.7629, -6.6906, -6.6518, -6.6696, -6.694, -6.6318, -6.9742, -6.8754, -6.6516, -6.7898, -6.8073, -6.8809, -6.9104, -6.8419, -6.7731, -6.6781, -6.8555, -6.8063, -6.8652, -6.9141, -6.9061, -7.5353, -7.1815, -8.5902, -7.349, -8.3205, -7.6638, -7.7276, -6.771, -8.1274, -7.2032, -7.1607, -9.0357, -6.8566, -9.556, -8.6582, -7.2103, -8.0361, -8.1219, -8.1786, -8.1077, -6.5856, -7.5988, -7.5351, -8.0269, -6.3937, -7.1078, -7.822, -8.2089, -7.7843, -7.3819, -7.4995, -7.0005, -6.7806, -7.3448, -7.2568, -7.2118, -6.9726, -6.4333, -7.2429, -6.9055, -7.0692, -6.8244, -6.7593, -6.3563, -6.7316, -6.7658, -6.6169, -6.5218, -6.904, -6.6322, -6.7571, -6.9598, -6.6512, -6.8507, -6.682, -6.8036, -6.7633, -6.8516, -6.8838, -6.7228, -6.6986, -6.8311, -6.8055, -6.7368, -6.8656, -6.8714, -6.8882, -7.947, -8.1153, -7.1306, -7.9873, -8.0986, -8.4277, -7.3877, -9.1559, -7.7583, -6.7705, -7.346, -7.9676, -7.9142, -7.8038, -7.6534, -8.9085, -7.9539, -7.9406, -8.2301, -8.2861, -8.1505, -8.1359, -8.7661, -9.1205, -8.4703, -7.6518, -8.48, -7.5386, -7.8462, -7.4206, -7.2227, -7.3941, -6.6387, -7.2651, -7.2252, -7.5891, -6.9356, -7.4208, -6.8822, -7.3404, -6.52, -6.8689, -6.9785, -6.6644, -6.7339, -6.5103, -7.1421, -7.0287, -7.0623, -6.6234, -6.945, -6.9843, -6.6333, -6.6422, -6.6632, -6.5261, -6.8439, -6.9122, -6.8353, -6.9185, -6.7371, -6.6218, -6.8867, -6.8828, -6.9347, -6.8139, -6.8221, -6.7921, -6.8933, -6.884, -6.915, -6.8861, -6.9162, -6.8913, -6.7337, -7.6361, -7.8207, -7.2715, -7.5616, -7.3019, -8.2778, -7.0708, -7.7949, -6.8956, -8.2005, -8.4131, -8.0648, -8.3003, -7.4536, -9.1719, -7.7091, -7.5579, -6.871, -7.7192, -7.9481, -6.9119, -7.08, -7.5062, -8.7884, -7.9032, -7.2777, -6.8277, -7.269, -8.5064, -7.1539, -7.3716, -7.3978, -6.8446, -7.3221, -6.6288, -7.0218, -6.9607, -7.0209, -7.0505, -7.1568, -6.6681, -6.7463, -6.6706, -6.7024, -6.8933, -6.5624, -6.7257, -6.5994, -6.6272, -6.6885, -6.5359, -6.861, -6.8592, -6.8686, -6.6306, -6.9041, -6.875, -6.8916, -6.8929, -6.8362, -6.8909, -6.8894, -6.9102], \"loglift\": [30.0, 29.0, 28.0, 27.0, 26.0, 25.0, 24.0, 23.0, 22.0, 21.0, 20.0, 19.0, 18.0, 17.0, 16.0, 15.0, 14.0, 13.0, 12.0, 11.0, 10.0, 9.0, 8.0, 7.0, 6.0, 5.0, 4.0, 3.0, 2.0, 1.0, 0.0013, 0.0013, 0.0013, 0.0013, 0.0013, 0.0013, 0.0012, 0.0012, 0.0012, 0.0012, 0.0012, 0.0012, 0.0012, 0.0012, 0.0012, 0.0012, 0.0012, 0.0012, 0.0012, 0.0012, 0.0012, 0.0012, 0.0012, 0.0012, 0.0012, 0.0012, 0.0012, 0.0012, 0.0012, 0.0012, 0.0012, 0.0008, 0.0011, 0.0011, 0.0011, 0.0011, 0.0011, 0.0011, 0.0011, 0.0012, 0.0012, 0.0011, 0.0011, 0.0011, 0.001, 0.001, 0.0009, 0.0011, 0.0011, 0.0011, 0.0011, 7.3635, 6.6568, 6.3413, 6.3363, 6.1518, 5.8627, 5.8334, 5.7336, 5.6633, 5.6435, 5.6406, 5.5578, 5.5468, 5.5446, 5.4585, 5.4407, 5.4354, 5.4214, 5.3191, 5.3113, 5.2731, 5.2442, 5.2032, 5.192, 5.1787, 5.1703, 5.1208, 5.1182, 5.0795, 5.0489, 4.963, 4.8093, 4.5828, 4.7674, 4.7682, 4.319, 4.5452, 4.4584, 4.1721, 4.7583, 4.2455, 4.0069, 3.9734, 3.5365, 3.4844, 3.8139, 0.3664, 3.6372, 2.7949, 2.7696, 3.1364, 2.8509, 1.3452, 3.1537, -0.0895, 3.4152, 0.2958, 0.7047, 2.027, 2.6153, -0.0237, 2.1665, 0.5352, -1.316, -0.8075, -1.06, 1.7179, 0.4023, 0.4892, 0.9189, -1.0473, -1.0372, -0.632, -0.7055, 0.7226, -0.7164, -1.2329, 6.7608, 6.5339, 6.3485, 6.2634, 6.2472, 6.2035, 6.0933, 6.0404, 5.8986, 5.7424, 5.6204, 5.6148, 5.599, 5.4942, 5.49, 5.4831, 5.4555, 5.4088, 5.3802, 5.3316, 5.2855, 5.2788, 5.237, 5.2336, 5.2028, 5.2018, 5.1874, 5.1745, 5.069, 5.0665, 4.8445, 4.9198, 4.5936, 4.4332, 4.7798, 4.6379, 4.5464, 4.4844, 4.8028, 3.8853, 4.3849, 3.7386, 3.584, 3.6992, 3.1954, 2.9885, 3.1648, 3.2857, 3.34, 2.5737, 3.4168, 2.7484, 3.6936, 1.8567, 2.8334, 2.4965, 1.4269, 0.5419, 1.1524, 1.3532, 2.1925, 1.0746, 1.481, -0.7411, -1.441, -0.9608, -1.253, 1.606, 0.3708, -0.7068, -0.3723, -0.6044, 1.6172, 7.373, 6.4526, 6.3633, 6.2641, 6.1555, 6.1266, 6.041, 5.9726, 5.9002, 5.7408, 5.67, 5.6643, 5.6229, 5.6099, 5.4887, 5.4686, 5.4647, 5.4483, 5.3957, 5.3698, 5.351, 5.3338, 5.3109, 5.2668, 5.2434, 5.224, 5.1904, 5.1888, 5.1642, 5.1517, 5.1277, 5.0879, 5.0, 4.921, 4.8167, 4.7192, 4.6477, 4.2281, 4.1219, 3.7735, 3.5339, 3.4768, 3.4189, 3.8049, 3.459, 2.88, 2.8019, 2.9628, 1.1211, 1.9529, 2.5964, 1.636, -0.8385, 1.7632, 2.3116, 1.5934, 1.2609, -1.3381, -0.1302, 0.8592, 0.6881, -1.2101, 2.5521, 2.3679, -1.0709, 1.5475, 0.1824, 6.6248, 6.6094, 6.4065, 6.1182, 6.1105, 6.0785, 5.9055, 5.8513, 5.7187, 5.6832, 5.5477, 5.542, 5.5254, 5.4999, 5.4883, 5.4523, 5.4156, 5.3812, 5.3722, 5.3396, 5.3169, 5.2836, 5.1884, 5.1412, 5.1279, 5.1001, 5.0989, 5.0965, 5.0714, 5.0612, 5.0523, 4.9432, 4.9066, 4.969, 4.341, 4.8828, 4.8554, 4.339, 4.4556, 4.4784, 3.5935, 4.5948, 4.4746, 3.9073, 3.9903, 3.9215, 3.3416, 2.9029, 3.453, 2.5294, 3.4036, 3.8826, 2.7537, 3.4928, 3.883, 1.9354, 3.0512, 2.5402, 2.7851, 1.7689, 1.987, 3.9313, 1.5852, 0.8348, 1.7481, 1.5717, -0.2178, 1.7768, -1.0854, 2.339, 2.7584, -1.7855, -0.4169, -1.1372, 7.1748, 6.5962, 6.5751, 6.1026, 6.0484, 6.0483, 5.968, 5.9379, 5.9379, 5.9302, 5.8333, 5.7659, 5.7247, 5.6293, 5.5979, 5.545, 5.4955, 5.4926, 5.475, 5.4298, 5.429, 5.3506, 5.3253, 5.2945, 5.2869, 5.274, 5.2662, 5.2621, 5.2615, 5.2312, 5.2069, 5.2079, 5.2072, 4.9992, 5.0177, 4.809, 4.7503, 5.0083, 4.6347, 4.6001, 4.1823, 4.5696, 4.6044, 4.274, 3.8355, 4.0766, 3.458, 4.0957, 3.1388, 2.7921, 3.163, 2.7982, 2.7829, 2.4046, 2.669, 2.8144, 2.8299, 3.2568, 3.995, 1.618, 2.0539, 2.5884, 2.9918, 1.8487, 1.1808, 1.8321, 2.785, -1.5624, 2.0534, 1.4672, 2.2801, 0.6657, 7.2146, 7.0448, 6.8248, 6.7398, 6.223, 6.185, 6.1463, 5.9686, 5.8965, 5.8775, 5.8572, 5.8387, 5.5674, 5.5449, 5.5294, 5.4679, 5.4519, 5.4491, 5.438, 5.3586, 5.3277, 5.2953, 5.1948, 5.1432, 5.1279, 5.1171, 5.0926, 5.0891, 5.0727, 5.0551, 4.8055, 4.669, 4.5658, 4.2568, 3.9569, 4.3743, 4.4812, 3.7764, 3.7222, 3.4241, 3.6011, 3.9131, 4.3, 4.5558, 3.1737, 3.1723, 2.7767, 3.4081, 1.7171, 2.616, 2.809, 3.0917, 1.2793, 3.132, 3.2989, 2.6122, 1.5082, 2.4423, 1.9397, 2.4792, 2.9401, 1.9955, 2.0947, 3.0913, 0.5273, 2.1439, 1.7275, 1.8611, 1.8241, 2.047, -1.0837, -0.7679, 7.3649, 6.655, 6.554, 6.2964, 6.2378, 6.1837, 6.1137, 5.9889, 5.857, 5.812, 5.7855, 5.7652, 5.6078, 5.5449, 5.471, 5.4141, 5.3797, 5.3225, 5.2901, 5.2875, 5.2601, 5.2345, 5.232, 5.2141, 5.1992, 5.1894, 5.174, 5.1295, 5.0123, 4.9929, 4.9593, 4.8646, 4.8984, 4.8747, 4.6441, 4.6367, 4.6315, 4.5637, 4.5957, 4.2329, 4.1306, 3.7778, 3.5318, 4.4293, 2.9893, 2.9679, 2.0337, 3.4884, 3.087, 2.7955, 3.0493, 3.1102, 2.5757, 2.6452, 3.1404, 2.448, 3.064, 1.088, 3.3235, 2.2244, 1.6569, 1.9656, 1.6488, 2.1037, 1.4691, 1.9406, 2.7718, -1.4141, 0.5024, 1.7891, 0.9724, 0.693, 2.6395, -0.6728, 6.7264, 6.6277, 6.3864, 6.317, 6.2586, 6.1744, 6.1527, 6.136, 6.0969, 5.9573, 5.7573, 5.7538, 5.6675, 5.6184, 5.6011, 5.5893, 5.5191, 5.5055, 5.3366, 5.29, 5.2397, 5.2177, 5.1436, 5.0967, 5.0723, 5.0197, 5.0158, 5.011, 4.9946, 4.9842, 4.9786, 4.9506, 4.8191, 4.9125, 4.9042, 4.873, 4.6119, 4.7096, 4.6049, 4.6238, 4.6494, 4.2779, 4.065, 3.704, 4.4958, 3.3004, 3.518, 3.4787, 3.8815, 3.1504, 2.3436, 3.2313, 1.9268, 3.4993, 2.1437, 2.4925, 2.8096, 3.6702, 1.8591, 1.6837, 3.2967, 3.6433, 2.0526, 1.9748, 2.7331, 2.5937, 2.6657, 1.0788, 2.2094, 1.3983, 0.1261, 1.7174, 0.6405, 1.4709, 1.7546, 2.0032, 1.9549, 1.8721, 0.4462, 6.6939, 6.6209, 6.6127, 6.6092, 6.568, 6.5372, 6.4601, 6.386, 6.3553, 6.2734, 5.9858, 5.8795, 5.8671, 5.641, 5.6355, 5.6125, 5.592, 5.5811, 5.3871, 5.336, 5.3338, 5.3112, 5.3071, 5.2821, 5.2632, 5.181, 5.1772, 5.1564, 5.1463, 5.1112, 5.1067, 5.0625, 5.0174, 5.0456, 4.733, 4.7623, 4.9069, 4.7732, 4.7215, 4.7021, 4.2353, 4.5155, 4.0312, 3.9356, 3.8087, 4.288, 2.5297, 3.4848, 1.5386, 3.0675, 2.6814, 1.7115, 3.242, 2.6593, 2.9238, 2.2189, 3.053, 2.6016, 3.1173, 1.9825, 1.9469, 2.5491, 2.5605, 2.4673, 0.0903, 2.2404, 2.4422, 1.641, 2.1002, 1.6612, 7.3438, 6.9242, 6.7593, 6.3792, 6.3673, 6.2771, 6.0651, 6.0036, 5.7322, 5.7247, 5.6998, 5.6625, 5.6491, 5.6269, 5.5525, 5.5204, 5.5167, 5.488, 5.4461, 5.4422, 5.4356, 5.407, 5.3262, 5.2439, 5.1515, 5.047, 4.9749, 4.9359, 4.9268, 4.9203, 4.9048, 4.8711, 4.8758, 4.9005, 4.7831, 4.811, 4.5116, 4.6834, 4.3205, 4.2754, 4.5204, 3.4966, 4.3137, 4.4723, 4.2463, 3.3038, 3.5907, 3.1981, 3.6481, 4.001, 2.8202, 3.0736, 3.2442, 3.4622, 3.7279, 3.8722, 2.3206, 2.3564, 3.3378, 3.6212, 1.4498, 2.7133, 1.6536, 1.6372, 1.9762, 2.514, 1.8487, 3.0027, 1.5907, 1.5882, 1.322, 2.572, 1.9821, 1.3836, 0.9127, 1.6433, 1.0439, 1.5001, 1.7548, 7.9467, 6.7818, 6.1428, 5.9302, 5.8192, 5.724, 5.7221, 5.7164, 5.6736, 5.6445, 5.6149, 5.5905, 5.3746, 5.3321, 5.2378, 5.2187, 5.1779, 5.1763, 5.1443, 5.1437, 5.0903, 5.0244, 5.0084, 5.0016, 4.9974, 4.9133, 4.8378, 4.8329, 4.83, 4.8054, 4.7771, 4.6988, 4.6522, 4.4767, 4.4217, 4.4951, 4.7127, 4.5226, 4.3889, 4.1126, 4.0121, 3.9053, 3.461, 3.6604, 3.604, 2.7095, 2.8289, 3.4218, 1.8216, 2.475, 2.7708, 3.3469, 3.1887, 1.5037, 3.3557, 2.6764, 3.3711, 1.7869, 1.7987, 1.71, 2.0348, 1.4488, 2.029, 1.9108, 2.2459, 0.9194, 2.3669, 2.5871, 1.9825, -0.0439, 1.1419, 7.5758, 7.0287, 6.5189, 6.4759, 6.2458, 6.1423, 6.0568, 5.923, 5.765, 5.7231, 5.7142, 5.7118, 5.6953, 5.6536, 5.6212, 5.578, 5.5096, 5.4753, 5.4712, 5.3789, 5.3649, 5.3479, 5.3295, 5.321, 5.2269, 5.2174, 5.1455, 5.1252, 5.0892, 5.0808, 5.0589, 5.0385, 4.9791, 4.729, 4.5095, 4.0758, 4.1793, 4.6281, 4.0316, 3.9237, 3.4009, 3.5667, 2.7504, 3.08, 2.81, 3.7237, 3.7725, 2.5223, 2.4764, 2.9168, 2.7351, 2.059, 1.956, 2.2922, 1.8622, 3.2884, 1.9126, 2.632, 2.7472, 0.5315, 1.7224, 0.8161, 0.5028, 2.736, 1.6491, 1.5675, 0.9555, 6.6107, 6.5281, 6.5139, 6.4797, 6.3956, 6.3775, 6.3078, 6.1722, 6.0324, 5.855, 5.7041, 5.5215, 5.5201, 5.447, 5.4426, 5.3278, 5.2208, 5.1981, 5.175, 5.1241, 5.0666, 4.9926, 4.9915, 4.9237, 4.8774, 4.873, 4.8705, 4.8671, 4.8521, 4.8385, 4.8268, 4.8015, 4.7141, 4.543, 4.5916, 4.5031, 4.4938, 4.2629, 4.7072, 3.8528, 4.3943, 3.9512, 3.9602, 4.1298, 3.0199, 3.3163, 3.4185, 2.9473, 3.4359, 3.7521, 3.6686, 3.2124, 2.6364, 2.4838, 1.9104, 2.3992, 2.3345, 3.8626, 3.1913, 2.585, 2.3081, 1.7392, 1.8879, 1.7569, 2.3545, 2.1144, 2.2058, 2.0914, 1.0424, 2.6357, 1.0617, 0.7076, 1.8987, 0.371, 1.4477, 6.7563, 6.7336, 6.4811, 6.1106, 6.0216, 5.9498, 5.8876, 5.8381, 5.8129, 5.7849, 5.7803, 5.6848, 5.5447, 5.3986, 5.3766, 5.3518, 5.3176, 5.287, 5.2196, 5.1956, 5.1622, 5.1173, 5.0949, 5.0662, 5.0274, 5.012, 4.9904, 4.9497, 4.9036, 4.8757, 4.8506, 4.7416, 4.7663, 4.7613, 4.7253, 4.657, 4.717, 4.4772, 4.2809, 4.2007, 3.952, 4.3505, 3.7243, 3.9854, 3.4686, 4.2401, 4.2427, 3.5856, 3.4073, 2.8493, 2.3354, 3.8883, 2.3282, 2.2275, 3.1234, 2.8044, 1.8554, 1.3369, 1.4161, 0.9387, 2.3989, 0.876, 0.9511, 1.9243, 2.1086, 0.7226, 2.0581, 0.999, 0.6216, 1.74, 7.2255, 6.8541, 6.7453, 6.6832, 6.3927, 6.3383, 6.3251, 6.0871, 5.923, 5.7565, 5.7462, 5.6817, 5.6776, 5.6173, 5.6037, 5.6002, 5.5945, 5.5474, 5.4739, 5.4731, 5.4209, 5.3244, 5.2965, 5.2694, 5.2689, 5.2529, 5.0704, 5.0624, 4.9856, 4.9833, 4.9757, 4.9787, 4.8973, 4.6541, 4.7595, 4.4316, 4.8503, 4.433, 4.5186, 3.4187, 3.6761, 4.2174, 4.0576, 3.2481, 3.4261, 3.9702, 3.7116, 2.9304, 2.7068, 2.3011, 2.9831, 1.7627, 2.3769, 1.8642, 2.022, 3.0006, 2.8447, 1.3353, 2.5248, 2.6182, 1.5609, 1.9453, 0.9216, 1.2484, 0.6654, 2.1054, 0.9521, 1.5697, 1.4373, -0.3894, 1.4421, 7.8299, 6.5444, 6.4837, 6.1386, 6.03, 6.0141, 5.8418, 5.8197, 5.7621, 5.7534, 5.6747, 5.615, 5.6057, 5.5603, 5.5467, 5.5301, 5.5129, 5.3383, 5.3268, 5.3146, 5.2058, 5.1881, 5.1362, 5.0803, 5.0789, 5.0754, 5.0511, 5.0445, 5.0253, 5.013, 4.9684, 4.8162, 4.9081, 4.746, 4.8312, 4.6045, 4.6949, 4.1574, 4.576, 4.3054, 4.1743, 4.3991, 4.2816, 4.1402, 4.2053, 3.882, 3.8024, 4.2692, 3.7942, 4.6393, 3.7638, 3.1763, 3.0571, 3.7452, 3.877, 3.5373, 2.7249, 3.095, 2.5408, 2.2215, 1.9512, 1.6454, 1.7467, 1.2641, 3.3226, 2.6642, 1.0752, 2.0358, 2.1257, 2.6643, 2.8879, 2.0149, 1.2172, -0.485, 1.8786, 0.7358, 1.7253, 2.6294, 7.2497, 6.8255, 6.539, 6.3784, 6.2453, 5.9943, 5.9705, 5.941, 5.9243, 5.8959, 5.882, 5.7606, 5.7223, 5.6315, 5.5248, 5.4828, 5.4224, 5.3932, 5.3737, 5.3624, 5.31, 5.2917, 5.2704, 5.2026, 5.2023, 5.1969, 5.1935, 5.184, 5.1772, 5.1673, 5.1537, 5.0488, 4.8929, 4.6977, 4.9273, 4.7909, 4.6109, 4.1925, 3.3951, 4.4184, 3.9229, 4.0645, 3.5065, 3.3745, 2.5093, 3.2039, 3.2872, 2.906, 2.5172, 3.5225, 2.6049, 2.9656, 3.6481, 2.2977, 3.1419, 2.3675, 2.4839, 2.1792, 2.7898, 2.9478, 1.2321, 0.8459, 2.2831, 1.6097, 0.4404, 1.6952, 1.5938, 2.4883, 6.3678, 6.3507, 6.2972, 6.0646, 5.9273, 5.8596, 5.8458, 5.8127, 5.7827, 5.6933, 5.6765, 5.5648, 5.4951, 5.4804, 5.4437, 5.4406, 5.4322, 5.4255, 5.4042, 5.3825, 5.3509, 5.2934, 5.2572, 5.2192, 5.1212, 5.0894, 5.0774, 5.075, 5.0138, 5.0114, 4.9034, 4.831, 4.6466, 4.75, 4.6121, 4.7322, 3.9915, 4.4726, 3.7927, 4.3318, 3.2811, 3.6578, 3.7371, 3.194, 3.2074, 2.7722, 3.9548, 3.6982, 3.7191, 2.698, 3.3565, 3.3604, 2.2264, 2.2111, 2.2306, 1.7031, 2.7359, 2.9359, 2.4514, 2.6706, 1.7745, 0.9059, 2.4108, 2.2663, 2.5759, 1.5812, 1.543, 0.6714, 2.0128, 1.4268, 2.1345, 1.3689, 2.1015, -0.1769, 7.5811, 7.3325, 6.9016, 6.8843, 6.7258, 6.4919, 6.4803, 6.4248, 6.3282, 6.2116, 6.1604, 6.0529, 5.9871, 5.9572, 5.9325, 5.9088, 5.8319, 5.7264, 5.7258, 5.6984, 5.6862, 5.6367, 5.6068, 5.5551, 5.5513, 5.4565, 5.4381, 5.2972, 5.2793, 5.2487, 5.1205, 4.8873, 4.8561, 4.3593, 4.6774, 3.6865, 4.2309, 4.0977, 4.0365, 4.0741, 4.2811, 2.8171, 2.929, 2.6199, 2.6181, 3.1365, 1.8076, 2.4184, 1.8779, 1.8423, 2.0734, 1.2261, 2.8633, 2.6101, 2.6456, 0.5446, 2.8073, 2.1076, 2.29, 2.1376, 1.0563, 1.6924, 1.5064, 1.8231]}, \"token.table\": {\"Topic\": [1, 1, 1, 1, 1, 1, 1, 1, 1, 1, 1, 1, 1, 1, 1, 1, 1, 1, 1, 1, 1, 1, 1, 1, 1, 1, 1, 1, 1, 1, 1, 1, 1, 1, 1, 1, 1, 1, 1, 1, 1, 1, 1, 1, 1, 1, 1, 1, 1, 1, 1, 1, 1, 1, 1, 1, 1, 1, 1, 1, 1, 1, 1, 1, 1, 1, 1, 1, 1, 1, 1, 1, 1, 1, 1, 1, 1, 1, 1, 1, 1, 1, 1, 1, 1, 1, 1, 1, 1, 1, 1, 1, 1, 1, 1, 1, 1, 1, 1, 1, 1, 1, 1, 1, 1, 1, 1, 1, 1, 1, 1, 1, 1, 1, 1, 1, 1, 1, 1, 1, 1, 1, 1, 1, 1, 1, 1, 1, 1, 1, 1, 1, 1, 1, 1, 1, 1, 1, 1, 1, 1, 1, 1, 1, 1, 1, 1, 1, 1, 1, 1, 1, 1, 1, 1, 1, 1, 1, 1, 1, 1, 1, 1, 1, 1, 1, 1, 1, 1, 1, 1, 1, 1, 1, 1, 1, 1, 1, 1, 1, 1, 1, 1, 1, 1, 1, 1, 1, 1, 1, 1, 1, 1, 1, 1, 1, 1, 1, 1, 1, 1, 1, 1, 1, 1, 1, 1, 1, 1, 1, 1, 1, 1, 1, 1, 1, 1, 1, 1, 1, 1, 1, 1, 1, 1, 1, 1, 1, 1, 1, 1, 1, 1, 1, 1, 1, 1, 1, 1, 1, 1, 1, 1, 1, 1, 1, 1, 1, 1, 1, 1, 1, 1, 1, 1, 1, 1, 1, 1, 1, 1, 1, 1, 1, 1, 1, 1, 1, 1, 1, 1, 1, 1, 1, 1, 1, 1, 1, 1, 1, 1, 1, 1, 1, 1, 1, 1, 1, 1, 1, 1, 1, 1, 1, 1, 1, 1, 1, 1, 1, 1, 1, 1, 1, 1, 1, 1, 1, 1, 1, 1, 1, 1, 1, 1, 1, 1, 1, 1, 1, 1, 1, 1, 1, 1, 1, 1, 1, 1, 1, 1, 1, 1, 1, 1, 1, 1, 1, 1, 1, 1, 1, 1, 1, 1, 1, 1, 1, 1, 1, 1, 1, 1, 1, 1, 1, 1, 1, 1, 1, 1, 1, 1, 1, 1, 1, 1, 1, 1, 1, 1, 1, 1, 1, 1, 1, 1, 1, 1, 1, 1, 1, 1, 1, 1, 1, 1, 1, 1, 1, 1, 1, 1, 1, 1, 1, 1, 1, 1, 1, 1, 1, 1, 1, 1, 1, 1, 1, 1, 1, 1, 1, 1, 1, 1, 1, 1, 1, 1, 1, 1, 1, 1, 1, 1, 1, 1, 1, 1, 1, 1, 1, 1, 1, 1, 1, 1, 1, 1, 1, 1, 1, 1, 1, 1, 1, 1, 1, 1, 1, 1, 1, 1, 1, 1, 1, 1, 1, 1, 1, 1, 1, 1, 1, 1, 1, 1, 1, 1, 1, 1, 1, 1, 1, 1, 1, 1, 1, 1, 1, 1, 1, 1, 1, 1, 1, 1, 1, 1, 1, 1, 1, 1, 1, 1, 1, 1, 1, 1, 1, 1, 1, 1, 1, 1, 1, 1, 1, 1, 1, 1, 1, 1, 1, 1, 1, 1, 1, 1, 1, 1, 1, 1, 1, 1, 1, 1, 1, 1, 1, 1, 1, 1, 1, 1, 1, 1, 1, 1, 1, 1, 1, 1, 1, 1, 1, 1, 1, 1, 1, 1, 1, 1, 1, 1, 1, 1, 1, 1, 1, 1, 1, 1, 1, 1, 1, 1, 1, 1, 1, 1, 1, 1, 1, 1, 1, 1, 1, 1, 1, 1, 1, 1, 1, 1, 1, 1, 1, 1, 1, 1, 1, 1, 1, 1, 1, 1, 1, 1, 1, 1, 1, 1, 1, 1, 1, 1, 1, 1, 1, 1, 1, 1, 1, 1, 1, 1, 1, 1, 1, 1, 1], \"Freq\": [1.003988107764709, 1.001985793536657, 1.0030325930241173, 1.0527318370575207, 0.9847441521986886, 1.3229813906608079, 0.9974779651133824, 0.9985352198346797, 0.9818343260562463, 1.0009533620107984, 1.0081972907845649, 1.0172936860169035, 1.0514468372299697, 1.2612688951109154, 0.981145276900564, 1.0498376938472478, 1.5281463056887237, 1.1823643905334316, 0.8683133965400508, 1.3214895920577696, 0.6915459745873165, 1.027948965212372, 1.0460233874322593, 0.9461351330741021, 0.9626809840715177, 0.8322103033941363, 0.9982058617839722, 0.7599474779982266, 0.9744992007246182, 0.6874222961367784, 0.9900814101059181, 0.9153010787067797, 0.9835137681052382, 0.9949302633436063, 1.0106732041497868, 1.0224998456168939, 1.1252283798620648, 1.0242345212757016, 1.0050964920365977, 0.9919953385824666, 0.9999895297789324, 0.9385163269018092, 0.6944428075931474, 1.0152627831366523, 1.1204199554722043, 0.9549673738411026, 1.0569076185751345, 0.7087245645226549, 0.9896962218471274, 0.8004858198256577, 1.0004373624020302, 0.9658481937638955, 1.935137593744669, 1.0050866600843882, 1.0591567159941555, 0.990761053464486, 1.0741203838977, 1.004787490598191, 0.8953846174668165, 1.599154042824517, 0.9639277225517916, 0.9946802502069656, 0.9695848617318219, 0.9751498318219326, 0.969080041571838, 1.7450377239693668, 1.1372417133080646, 1.0148162599715345, 1.000537208941482, 1.0098810344810474, 0.9763666356282855, 1.0133345452617493, 1.0241313444132925, 1.0102801003282333, 0.9992022438901935, 1.2732737223708033, 1.0520976651141085, 1.595447162536945, 1.5043633154436455, 1.0852216308608489, 0.9814756149694792, 1.3102477343672125, 1.0176485980278926, 1.1240321484831426, 1.0012180043350558, 1.0288301537099631, 1.0859957703276268, 1.0058387365007866, 1.411998678727959, 0.8777566619550645, 0.9989049232120484, 1.727794962005008, 1.0040844411912568, 0.9994176499789499, 1.0457306557740056, 1.0046870816323585, 0.9888403358414156, 0.8578136355234396, 0.9778751671943354, 1.1045182936379483, 1.3960354843683012, 0.9512506493279572, 1.0799210526636307, 1.0174191609934726, 1.2457317151383445, 1.1556957364085243, 1.136467176582246, 1.323118345832468, 1.1686832733627994, 1.5442994365949116, 0.9701615562176454, 1.128815374606304, 1.370960803018716, 1.0633773010270475, 0.9960336199378038, 1.1442872388357301, 1.3068559809239684, 0.9098909048989504, 1.2768071278924267, 0.8759788213540404, 1.8368040141490667, 0.8538975569660106, 0.9385446392724518, 1.0389161388521089, 1.8583501723833198, 1.0291629259004635, 1.1946977037183457, 1.0193208960132283, 1.031623969723668, 1.0928805155713663, 1.0592613308670766, 1.0044077853727957, 0.9952014001483657, 0.9728805772731155, 0.6895579319437302, 1.2249931889370373, 0.9700434247789015, 1.0206955368844182, 1.0088740873876356, 0.9961217872511504, 0.8665591442783588, 0.9703068456785213, 1.3082738164839494, 1.0023965734533211, 0.9845401625172782, 1.0016588418104788, 0.9469238441033089, 1.132388856371296, 1.0626205672417675, 0.7351488024001286, 0.8742844443488074, 1.005511632345769, 0.9965620403777737, 1.6978623797363408, 1.2313962186357008, 0.855093981937924, 0.7460657745429774, 1.0221922431857744, 1.1368079896370722, 0.9249482462982767, 0.9803237625189233, 1.0114152233831164, 0.8739255521521315, 0.9771276551279876, 0.9593396170526404, 1.2457840268505338, 1.0365383193769182, 0.7881862909000286, 0.6824835647096801, 1.0224687966422046, 1.0406653035040496, 0.9261716742366084, 0.9938577322485351, 1.0092194191251724, 1.009031649817125, 1.2714753510403825, 0.9944352271596333, 0.9630895609058066, 0.9867528064284792, 0.9945808467754049, 0.9955909420579996, 0.9505225109244614, 1.048859710596719, 0.9078731519508724, 1.0849957295584953, 1.0000629977312965, 1.0503177380176858, 1.034534375715303, 1.0324885816785343, 0.9562620924479767, 1.1537424463404935, 1.226644202511445, 1.0020021638629995, 1.0996344831063827, 1.019201074228105, 1.929702657784036, 0.9897241996914891, 1.1172384698317517, 1.0235064994856384, 1.0011419399377124, 0.9624684455742937, 0.9987613016764733, 1.004340729752803, 0.9103179909845187, 1.085907445321438, 1.4147297500044558, 0.996203362669565, 0.9239640508227132, 1.0727546806997368, 0.9847871226218454, 1.2285941255664579, 1.0363730974466734, 1.1489996737886208, 0.9783654339498241, 1.0126433478792587, 1.1217962333414364, 0.9221526264084836, 0.9881400547022152, 1.0002018571981373, 1.024592721327522, 0.9254566638466538, 0.991355637834284, 0.9935851493735829, 0.9922486697238838, 1.0054018811945418, 0.9836949844653317, 0.963328070934285, 1.2837826858495955, 0.7515929374758981, 0.9719010168124016, 1.0304558909776564, 1.0534894546308071, 1.0059162610429484, 0.8118856171080858, 0.9821819664889269, 0.9859889376797273, 1.0757452701139922, 0.9574753159292239, 0.9922588679689831, 0.9993551598035691, 0.9681887528710074, 0.9597661467615011, 0.9736412074442643, 0.8764568111317388, 0.9321616866867413, 0.9971561928280591, 1.0642544918265682, 1.008820692465337, 0.9129583039797161, 1.30099802397445, 0.9780383409439943, 0.9630431573872732, 0.9392085374177519, 1.0548506332199015, 0.9421458521350866, 1.001240573973037, 1.110696483028115, 1.0134327043678715, 1.2517600025319302, 1.000462462341808, 1.1930694277786975, 0.9264538470859082, 1.361678385056498, 1.1893603724418016, 0.97563268414226, 1.270308707025843, 1.0142127786721873, 0.856816086833127, 0.9975563146752563, 0.9007787008705204, 1.237307503897004, 1.534957371039723, 1.1771499201364781, 0.987610493002468, 0.991390607815158, 1.0066757804020512, 1.1290423568215346, 0.9753127993660893, 1.7375757734403163, 0.998585848343167, 0.9619666971444583, 1.043866957118098, 0.8651388429669971, 1.0468433169302729, 1.0032130266389279, 1.0587423104114886, 1.0709051711167048, 0.9939822180291765, 0.8678709503400615, 1.465832599377945, 0.9985981278342312, 0.9092282691625153, 0.8946672309177238, 1.0819329902003247, 1.157986429159731, 1.0526564724146872, 1.0551211192192136, 1.001922313371108, 1.0602660906544041, 0.9685983660697065, 0.9295167982887064, 0.8869608118703547, 0.9221241063640914, 1.2878861878991381, 0.9978259823549782, 1.0038249187312143, 1.0332854962160771, 0.8273424060207926, 1.1462234791491894, 1.0443280686681597, 0.9769440090663015, 1.037418074735878, 1.0400568450040095, 0.9997241384029287, 0.9089840051565196, 1.0907659264009688, 1.9106619042193729, 1.0153474585192386, 1.0397870776161966, 1.0173923553328716, 1.7422626528544842, 1.4108748808611518, 1.060905394017559, 1.0233996202063327, 0.9497135229871551, 0.9567204533831772, 0.8505295664197821, 0.9289247022743258, 0.9128320941231609, 0.9933405713328286, 0.9340088458299431, 0.7300184761059156, 1.0019693937615588, 1.0819377440646205, 0.9884075232834926, 0.9987148121203864, 1.0127909814698723, 0.994673889787561, 1.016563343665817, 1.0239034289399183, 0.9062939875556388, 1.004288115493138, 1.0157458990017825, 0.999376781300334, 0.9532402744933393, 0.9920529172240125, 0.9701613313852975, 1.0102356964607657, 1.8240751718807167, 0.9079518085139314, 1.0072117881786613, 1.470751279841676, 1.0256185529620478, 1.0014453877365657, 0.9960882389106249, 1.0025478059928166, 0.8521629742898001, 0.9970199632962617, 0.9819285161090331, 0.999757440301558, 0.9993749613559566, 1.0062297599246885, 1.2524023190044227, 1.032527138807607, 0.9490852152057094, 0.8672832063393365, 0.9676300595305775, 0.9087822600268792, 1.0200180284411267, 1.08525578805739, 1.0456915838413652, 0.9614854671445552, 1.1567824686486388, 1.0474788111602693, 1.0089037131834413, 0.9999273219144484, 1.0446782693181782, 0.9137552900316727, 1.3585401525765262, 1.0065964362950375, 0.99241127958597, 1.0759449910567158, 1.0217937671282808, 1.0819685895585944, 0.9911149255011978, 0.6934583719564181, 0.9024961349875531, 0.7012102485414994, 0.8320490784245598, 0.7820223632027097, 1.006432832508526, 0.9065520135223933, 1.2728795221884681, 0.9374455055856563, 0.9817030256028915, 1.0006284414344586, 1.0130818793987644, 0.938521987160422, 1.0766824827175905, 0.988818486319794, 1.1948774915039424, 0.9208573098312469, 0.9993407550823082, 1.0638913794384373, 1.118605175685941, 1.113774562453806, 1.1284799180798069, 1.4547908750315628, 1.1154792412948582, 0.8975977207913837, 0.9904248943930951, 0.8133268039159366, 0.9579886606928727, 1.0264799875474309, 0.9611141737285429, 0.9975854570684799, 0.9419599122827358, 1.0011253148977122, 1.0118172769648126, 1.0176417078497364, 0.975858630821192, 0.9975827423420242, 0.8459220280715757, 1.0274397159115658, 1.0561727090662347, 1.0102516733480542, 1.0257015101135438, 1.0490838272781615, 0.9846262778263152, 0.9940860020995277, 1.081146998708333, 0.6675324652838066, 0.8931958161724407, 0.9283806168902042, 1.0241922567522903, 1.032383627076947, 1.129698221723294, 1.0119385144592936, 1.046291220981461, 0.9766795442133487, 0.971670632488741, 0.994958361452882, 1.0059614798676035, 0.8860655446681166, 0.856589633253825, 1.241847416249545, 1.029529743002581, 0.9722814382573024, 0.8933774230956189, 0.7980012295250333, 1.0326577159268502, 1.1151307971670545, 1.8623775490220849, 1.0009900243854049, 0.8515085213570237, 1.0149648765968435, 0.9990171705869343, 0.7417583625793681, 0.9997974389266998, 0.8868785214913516, 1.0161834655291435, 1.0191450916070581, 1.8316716218980789, 0.9920930258660631, 0.9866794133573632, 1.0973011556714396, 0.9991511995229136, 1.0732588300400485, 1.0103421623260511, 1.2584674749977278, 1.0023143286368648, 1.001410809491443, 0.9762509871821551, 0.9889973647709436, 1.0600935811305727, 1.0046820875729785, 1.1312407664842712, 0.9919053958086959, 0.6759020927092853, 0.9055081532665864, 0.8695709822499146, 1.0190107742776628, 0.9924302668177063, 1.1623478778388814, 0.9247950220115063, 0.9840538890166053, 0.9894271564193642, 1.0082492456044898, 0.973298363885705, 1.0015001796246505, 1.104532915179541, 0.9909782956487495, 0.9544378934711915, 1.0079421648699005, 1.0381546158125452, 0.9881575244963817, 0.8795463826803515, 1.7534957977086236, 0.9992145408320957, 0.9903800058284238, 1.29354209274906, 0.9946983619492819, 1.1874404861615482, 0.9432880003578, 0.9967604603518642, 0.9788095927722128, 1.1348565757917652, 0.9943791190854, 1.0953609264848843, 1.0391720601152137, 1.4742933171346218, 0.9588686798094384, 0.991041858573919, 1.0003245453352247, 1.273600319981411, 1.003925682874468, 0.9953361315214317, 1.612044914743871, 0.7139022940012809, 1.2138060956110868, 0.9871107987169176, 1.001856782906887, 0.9996997193223126, 1.0012775097578497, 0.9812746300240331, 1.0421440283864782, 1.012286485894822, 0.9873605130861157, 1.0464372481464845, 1.5435855496985134, 1.1285181972164577, 1.0639775952626032, 1.0002500340292173, 0.9822098516850147, 1.0206615386229465, 0.9544096869166598, 0.9946331900369756, 0.9245818270788219, 1.0030559198213203, 0.9572245043387496, 0.907514306668965, 1.01421312491935, 0.9649933398067105, 0.92249501868312, 1.1150731400818532, 0.9831320647070189, 1.1200907955094204, 1.069992010729471, 1.0238600213351428, 1.0096000471442566, 0.8968535453057574, 0.9309817071755001, 0.908718446199776, 1.0070335169085483, 1.7292192282849503, 0.9966350328897795, 1.0888976666894261, 0.9649546029748987, 0.805555229684215, 0.7443243044724311, 1.0488084504357877, 1.010277496969534, 1.064878806889377, 1.0310027860408026, 0.7471569800979082, 0.9487107688355588, 0.7528647151856022, 0.9885762139459858, 1.0195197814760297, 1.0018432711330987, 1.00465701759281, 0.9571777298469243, 1.016242082082175, 1.780205279392124, 1.2163648708740902, 1.0507728530592206, 1.3039238346960036, 0.906710426183716, 0.9727361837936161, 1.0150903676521386, 0.997598214400048, 1.0242834309023736, 1.0341970056489127, 0.9921095453935045, 0.9954464588001446, 0.9820028749910806, 0.8103227693544188, 1.1681443461674983, 1.275790130362751, 1.0009947385617752, 1.0929429304373182, 0.9994233760001184, 0.9969692272416555, 0.9860778093353859, 1.0223734652942105, 1.2096507708544642, 1.0053172591803488, 0.9702629151490453, 1.003250857711502, 0.8604937482011319, 0.9986453044966993, 0.889359657293937, 1.0716725123951198, 1.0448337304984259, 1.1181023406135102, 0.930501558769099, 0.9815367729237788, 0.9362074090045772, 1.0463192923270634, 1.1154215379010128, 0.878874344321522, 0.9752164867807857, 1.0135114646805685, 1.0078694085536448, 0.8173483598011481, 1.2394236761492547, 0.8619905932466877, 1.1812528995952822, 0.8244633423156452, 1.0188956542964116, 0.995250265229872, 1.0367722904379868], \"Term\": [\"abuse\", \"accelerator\", \"access\", \"accommodate\", \"accumulate\", \"accurate\", \"active\", \"actually\", \"admit\", \"advance\", \"afraid\", \"afterwards\", \"age\", \"agent\", \"algorithm\", \"alleviate\", \"ally\", \"alt\", \"amendment\", \"amp\", \"analogous\", \"angel\", \"animate\", \"announce\", \"announcer\", \"antibiotic\", \"anymore\", \"apart\", \"apostle\", \"apparently\", \"approach\", \"approval\", \"approve\", \"architect\", \"architecture\", \"around\", \"arrangement\", \"art\", \"article\", \"artificial\", \"artillery\", \"asshole\", \"associate\", \"assume\", \"assumption\", \"astro\", \"astronaut\", \"atf\", \"atmospheric\", \"attack\", \"attendee\", \"attention\", \"author\", \"authorization\", \"awesome\", \"baku\", \"barely\", \"barrier\", \"basketball\", \"bat\", \"batter\", \"be\", \"become\", \"being\", \"belt\", \"big\", \"bill\", \"biological\", \"bis\", \"bit\", \"bitch\", \"bleed\", \"bmp\", \"boat\", \"body\", \"bombing\", \"boot\", \"boring\", \"borrow\", \"bother\", \"bow\", \"brainwash\", \"brake\", \"breaker\", \"bring\", \"bruise\", \"brute_force\", \"bumper\", \"business\", \"busy\", \"call\", \"canadien\", \"cannot_solve\", \"captain\", \"catch\", \"cbr\", \"cd\", \"chaos_intercon\", \"characterize\", \"chastity\", \"cheer\", \"chemistry\", \"choose\", \"chronicle\", \"citizen\", \"civil_war\", \"clarify\", \"classical\", \"clause\", \"clean\", \"clipper_chip\", \"close\", \"coffee\", \"coincidence\", \"come\", \"competent\", \"complicated\", \"composite\", \"compress\", \"concerned\", \"conclude\", \"configuration\", \"conform\", \"consciousness\", \"considerably\", \"considering\", \"consistent\", \"contend\", \"continuously\", \"controversial\", \"conversation\", \"conviction\", \"convincing\", \"cooperate\", \"coordinate\", \"copyright\", \"correction\", \"correctly\", \"corrupt\", \"counsel\", \"countless\", \"couple\", \"cousin\", \"cpu\", \"cream\", \"crew\", \"crisis\", \"crossposte\", \"cultural\", \"cycle\", \"cylinder\", \"death\", \"debt\", \"decent\", \"defend\", \"degree\", \"denial\", \"deploy\", \"deputy\", \"desire\", \"desk\", \"devise\", \"diagnosis\", \"dictator\", \"diet\", \"diff\", \"discharge\", \"disciple\", \"discussion\", \"dissolve\", \"distorted\", \"distress\", \"distribution_usa\", \"district\", \"division\", \"divorce\", \"do\", \"documentation\", \"donate\", \"door\", \"doubt\", \"downtown\", \"dpi\", \"dram\", \"drive\", \"drop\", \"dry\", \"due\", \"dump\", \"duo\", \"duplicate\", \"ease\", \"easily\", \"economically\", \"educational\", \"eff\", \"efficient\", \"employ\", \"emulate\", \"engine\", \"engineer\", \"engineering\", \"enlighten\", \"entail\", \"entire\", \"entirely\", \"entity\", \"envelope\", \"escalate\", \"escrowed_key\", \"establish\", \"eternal\", \"ethernet\", \"european\", \"exact\", \"example\", \"exempt\", \"expectation\", \"experience\", \"exploration\", \"express\", \"expression\", \"extended\", \"fabrication\", \"fanatic\", \"fancy\", \"fascist\", \"fashion\", \"federal\", \"finland\", \"firstly\", \"flaw\", \"floppy\", \"flow\", \"folk\", \"foreign\", \"forgiveness\", \"fulfill\", \"fulfillment\", \"functionality\", \"fuse\", \"gateway\", \"gather\", \"gem\", \"gently\", \"genuine\", \"glory\", \"governmental\", \"gray\", \"gross\", \"group\", \"guess\", \"guidance\", \"happy\", \"harassment\", \"have\", \"hawk\", \"home\", \"homicide\", \"host\", \"however\", \"husband\", \"hypothesis\", \"ide\", \"ideally\", \"idiot\", \"ignore\", \"importance\", \"impression\", \"improve\", \"inclusion\", \"incoming\", \"incorporate\", \"independently\", \"index\", \"individual\", \"individually\", \"infection\", \"inflict\", \"info\", \"inform\", \"initiative\", \"injection\", \"innocence\", \"intellectual\", \"intent\", \"interesting\", \"intermediate\", \"international\", \"intervention\", \"introduce\", \"invent\", \"investigation\", \"irrational\", \"islamic\", \"islander\", \"isolate\", \"isolation\", \"japanese\", \"jump\", \"justice\", \"kernel\", \"keyboard\", \"kid\", \"late\", \"launch\", \"lawyer\", \"lciii\", \"lean\", \"learning\", \"leather\", \"legislator\", \"lend\", \"level\", \"libertarian\", \"library\", \"liner\", \"linux\", \"lion\", \"loading\", \"login\", \"long\", \"lost\", \"love\", \"luck\", \"lucky\", \"mailer\", \"maintain\", \"major\", \"manifest\", \"manually\", \"march\", \"market\", \"mask\", \"maximum\", \"may\", \"maybe\", \"meaning\", \"meat\", \"mediocre\", \"merely\", \"methodology\", \"mine\", \"model\", \"moderate\", \"module\", \"mom\", \"moreover\", \"motto\", \"movement\", \"much\", \"mutual\", \"mvp\", \"name\", \"nearly\", \"neighborhood\", \"nervous\", \"network\", \"newly\", \"news\", \"next\", \"note\", \"noticeable\", \"nuke\", \"observation\", \"occasional\", \"occupation\", \"odd\", \"offence\", \"offender\", \"omissions_excepted\", \"operate\", \"opinions_expresse\", \"oracle\", \"originator\", \"oscillator\", \"outer\", \"output\", \"outside\", \"overall\", \"overlap\", \"oxygen\", \"pace\", \"package\", \"packet\", \"palestinian\", \"paperback\", \"participant\", \"partnership\", \"paste\", \"patrick\", \"paul\", \"payment\", \"perfect\", \"persecute\", \"person\", \"philosophy\", \"picture\", \"pinch\", \"piss\", \"pizza\", \"plug\", \"point\", \"polish\", \"pot\", \"potvin\", \"pound\", \"practical\", \"preach\", \"precedent\", \"predict\", \"preferable\", \"preparation\", \"prepare\", \"prescribe\", \"present\", \"preservation\", \"price\", \"pride\", \"principal\", \"printing\", \"probably\", \"problem\", \"proceeding\", \"programmer\", \"prohibit\", \"projection\", \"propaganda\", \"prophet\", \"proprietary\", \"prototype\", \"psychological\", \"punch\", \"punishment\", \"purely\", \"qualification\", \"quietly\", \"racism\", \"radical\", \"radioactive\", \"ram\", \"raytrace\", \"reactor\", \"realise\", \"recognition\", \"recording\", \"recover\", \"recovery\", \"rectangle\", \"rectangular\", \"reference\", \"refund\", \"regain\", \"region\", \"related\", \"relation\", \"relationship\", \"reliable\", \"remain\", \"repair\", \"reserve\", \"resist\", \"resistance\", \"rest\", \"restriction\", \"revolutionary\", \"right\", \"rigorous\", \"roman_catholic\", \"roster\", \"rotate\", \"row\", \"ruin\", \"rumor\", \"rumour\", \"s\", \"sadly\", \"sake\", \"sanction\", \"sarcasm\", \"satisfaction\", \"scanner\", \"schedule\", \"score\", \"scsi\", \"search\", \"secular\", \"segment\", \"sensitivity\", \"separate\", \"service\", \"severe\", \"sexual\", \"shade\", \"shadow\", \"shameful_surrender\", \"sharp\", \"ship\", \"shipping\", \"shotgun\", \"shower\", \"silence\", \"sincere\", \"sinus\", \"size\", \"skate\", \"slander\", \"slash\", \"sleep\", \"sleeve\", \"slide\", \"slip\", \"slmr\", \"small\", \"smuggle\", \"snake\", \"soft\", \"solid\", \"solve\", \"someone\", \"sometimes\", \"sorry\", \"sort\", \"soul\", \"space\", \"speaker\", \"specialist\", \"specification\", \"speculate\", \"spin\", \"squad\", \"standpoint\", \"start\", \"stat\", \"stem\", \"stock\", \"storm\", \"stress\", \"strict\", \"strive\", \"stroke\", \"style\", \"successfully\", \"suffice\", \"superior\", \"supply\", \"supporter\", \"sure\", \"surgeon\", \"surrounding\", \"swell\", \"sword\", \"sympathy\", \"sync\", \"systematic\", \"take\", \"talking\", \"target\", \"tea\", \"tear\", \"tech\", \"tend\", \"terminal\", \"therapy\", \"thermal\", \"throughput\", \"throw\", \"tight\", \"tile\", \"tip\", \"tooth\", \"tradition\", \"translate\", \"tray\", \"tree\", \"trend\", \"trident\", \"trip\", \"true\", \"tune\", \"turn\", \"ugly\", \"unauthorized\", \"undefined\", \"understanding\", \"unhappy\", \"union\", \"unworthy\", \"up\", \"upgrade\", \"upload\", \"use\", \"usenet\", \"utter\", \"vacation\", \"valid\", \"vastly\", \"verification\", \"verify\", \"vga\", \"violate\", \"void\", \"voltage\", \"wagon\", \"wallet\", \"want\", \"warp\", \"warranty\", \"wash\", \"waste\", \"watt\", \"weak\", \"weather\", \"wet\", \"widget\", \"win\", \"wording\", \"workaround\", \"wound\", \"xlib\", \"xwindow\", \"ysu\"]}, \"R\": 30, \"lambda.step\": 0.01, \"plot.opts\": {\"xlab\": \"PC1\", \"ylab\": \"PC2\"}, \"topic.order\": [1, 2, 3, 6, 5, 4, 14, 8, 10, 12, 11, 9, 7, 13, 18, 17, 19, 20, 16, 15]};\n",
       "\n",
       "function LDAvis_load_lib(url, callback){\n",
       "  var s = document.createElement('script');\n",
       "  s.src = url;\n",
       "  s.async = true;\n",
       "  s.onreadystatechange = s.onload = callback;\n",
       "  s.onerror = function(){console.warn(\"failed to load library \" + url);};\n",
       "  document.getElementsByTagName(\"head\")[0].appendChild(s);\n",
       "}\n",
       "\n",
       "if(typeof(LDAvis) !== \"undefined\"){\n",
       "   // already loaded: just create the visualization\n",
       "   !function(LDAvis){\n",
       "       new LDAvis(\"#\" + \"ldavis_el5156656731351848938688298\", ldavis_el5156656731351848938688298_data);\n",
       "   }(LDAvis);\n",
       "}else if(typeof define === \"function\" && define.amd){\n",
       "   // require.js is available: use it to load d3/LDAvis\n",
       "   require.config({paths: {d3: \"https://cdnjs.cloudflare.com/ajax/libs/d3/3.5.5/d3.min\"}});\n",
       "   require([\"d3\"], function(d3){\n",
       "      window.d3 = d3;\n",
       "      LDAvis_load_lib(\"https://cdn.rawgit.com/bmabey/pyLDAvis/files/ldavis.v1.0.0.js\", function(){\n",
       "        new LDAvis(\"#\" + \"ldavis_el5156656731351848938688298\", ldavis_el5156656731351848938688298_data);\n",
       "      });\n",
       "    });\n",
       "}else{\n",
       "    // require.js not available: dynamically load d3 & LDAvis\n",
       "    LDAvis_load_lib(\"https://cdnjs.cloudflare.com/ajax/libs/d3/3.5.5/d3.min.js\", function(){\n",
       "         LDAvis_load_lib(\"https://cdn.rawgit.com/bmabey/pyLDAvis/files/ldavis.v1.0.0.js\", function(){\n",
       "                 new LDAvis(\"#\" + \"ldavis_el5156656731351848938688298\", ldavis_el5156656731351848938688298_data);\n",
       "            })\n",
       "         });\n",
       "}\n",
       "</script>"
      ],
      "text/plain": [
       "<IPython.core.display.HTML object>"
      ]
     },
     "execution_count": 469,
     "metadata": {},
     "output_type": "execute_result"
    }
   ],
   "source": [
    "prep= pyLDAvis.gensim.prepare(hdp0, py_corpus, vocab)\n",
    "pyLDAvis.display(prep)\n"
   ]
  },
  {
   "cell_type": "code",
   "execution_count": null,
   "metadata": {},
   "outputs": [],
   "source": []
  },
  {
   "cell_type": "code",
   "execution_count": 982,
   "metadata": {},
   "outputs": [
    {
     "data": {
      "text/plain": [
       "0.5772121246135256"
      ]
     },
     "execution_count": 982,
     "metadata": {},
     "output_type": "execute_result"
    }
   ],
   "source": []
  },
  {
   "cell_type": "code",
   "execution_count": 745,
   "metadata": {},
   "outputs": [
    {
     "data": {
      "text/plain": [
       "array([0.04308227, 0.03457465, 0.00588713, 0.00139719, 0.00139242,\n",
       "       0.00140047, 0.00107401, 0.00112853, 0.0009715 , 0.00090148,\n",
       "       0.00089521, 0.00112445, 0.00092571, 0.00071058, 0.00076691,\n",
       "       0.00072714, 0.00074787, 0.00075055, 0.00084882, 0.00069311])"
      ]
     },
     "execution_count": 745,
     "metadata": {},
     "output_type": "execute_result"
    }
   ],
   "source": [
    "hdp0.lda_alpha"
   ]
  },
  {
   "cell_type": "code",
   "execution_count": 765,
   "metadata": {},
   "outputs": [
    {
     "data": {
      "text/plain": [
       "7.318042917346823"
      ]
     },
     "execution_count": 765,
     "metadata": {},
     "output_type": "execute_result"
    }
   ],
   "source": [
    "0.04308227/0.00588713"
   ]
  },
  {
   "cell_type": "code",
   "execution_count": 823,
   "metadata": {},
   "outputs": [
    {
     "data": {
      "text/plain": [
       "28.88810489446619"
      ]
     },
     "execution_count": 823,
     "metadata": {},
     "output_type": "execute_result"
    }
   ],
   "source": [
    "hdp0.lda_alpha[0] / hdp0.lda_alpha[2]"
   ]
  },
  {
   "cell_type": "code",
   "execution_count": 803,
   "metadata": {},
   "outputs": [
    {
     "data": {
      "text/plain": [
       "[<matplotlib.lines.Line2D at 0x1511f4d50>]"
      ]
     },
     "execution_count": 803,
     "metadata": {},
     "output_type": "execute_result"
    },
    {
     "data": {
      "image/png": "[encoded data removed]",
      "text/plain": [
       "<Figure size 432x288 with 1 Axes>"
      ]
     },
     "metadata": {
      "needs_background": "light"
     },
     "output_type": "display_data"
    }
   ],
   "source": [
    "plt.plot(hdp0.lda_alpha)"
   ]
  },
  {
   "cell_type": "code",
   "execution_count": 235,
   "metadata": {},
   "outputs": [],
   "source": [
    "hdp1 = HdpModel(corpus=corpus, id2word=vocab,alpha=0.1, gamma=1, T=150, K=8, chunksize=100, kappa=0.7, random_state=20)"
   ]
  },
  {
   "cell_type": "code",
   "execution_count": 236,
   "metadata": {},
   "outputs": [],
   "source": [
    "hdp2 = HdpModel(corpus=corpus, id2word=vocab, alpha=0.1, gamma=1, T=350, K=8, chunksize=100, kappa=0.8, random_state=20)"
   ]
  },
  {
   "cell_type": "code",
   "execution_count": null,
   "metadata": {},
   "outputs": [],
   "source": [
    "topic_info = hdp0.print_topics(num_topics=20)"
   ]
  },
  {
   "cell_type": "markdown",
   "metadata": {},
   "source": [
    "### SANITY CHECKS"
   ]
  },
  {
   "cell_type": "code",
   "execution_count": 820,
   "metadata": {},
   "outputs": [
    {
     "data": {
      "text/plain": [
       "[(0, 0.9986716552942675)]"
      ]
     },
     "execution_count": 820,
     "metadata": {},
     "output_type": "execute_result"
    }
   ],
   "source": [
    "hdp0[corpus[9]]"
   ]
  },
  {
   "cell_type": "code",
   "execution_count": 829,
   "metadata": {},
   "outputs": [],
   "source": [
    "from wordcloud import WordCloud"
   ]
  },
  {
   "cell_type": "code",
   "execution_count": 837,
   "metadata": {},
   "outputs": [
    {
     "data": {
      "text/plain": [
       "{'people': 0.008651010148616465,\n",
       " 'article': 0.008271872595382859,\n",
       " 'time': 0.006647194564747612,\n",
       " 'good': 0.0060194334075500235,\n",
       " 'system': 0.0049181439594451265,\n",
       " 'year': 0.00474702697323882,\n",
       " 'thing': 0.00458503464129745,\n",
       " 'problem': 0.004170014843185883,\n",
       " 'many': 0.004151126718903071,\n",
       " 'host': 0.0038422752023128913,\n",
       " 'organization': 0.0037475015832052873,\n",
       " 'way': 0.0036240219250101087,\n",
       " 'file': 0.003467648108722479,\n",
       " 'question': 0.0033536377784454366,\n",
       " 'new': 0.0033150541184389626,\n",
       " 'program': 0.003115232574769458,\n",
       " 'right': 0.00306570647358993,\n",
       " 'number': 0.0028649323928630187,\n",
       " 'point': 0.002819607616063096,\n",
       " 'window': 0.0027439518055468893}"
      ]
     },
     "execution_count": 837,
     "metadata": {},
     "output_type": "execute_result"
    }
   ],
   "source": [
    "dict(hdp0.show_topic(0))"
   ]
  },
  {
   "cell_type": "code",
   "execution_count": 838,
   "metadata": {},
   "outputs": [
    {
     "data": {
      "text/plain": [
       "<wordcloud.wordcloud.WordCloud at 0x150cbc690>"
      ]
     },
     "execution_count": 838,
     "metadata": {},
     "output_type": "execute_result"
    }
   ],
   "source": []
  },
  {
   "cell_type": "code",
   "execution_count": 861,
   "metadata": {},
   "outputs": [],
   "source": [
    "#for t in range(20):\n",
    "#    plt.figure()\n",
    "#    plt.imshow(WordCloud(background_color='white').fit_words(dict(hdp0.show_topic(t))))\n",
    "#    plt.axis(\"off\")\n",
    "#    plt.title(\"Topic #\" + str(t))\n",
    "#    plt.show()"
   ]
  },
  {
   "cell_type": "code",
   "execution_count": 824,
   "metadata": {},
   "outputs": [
    {
     "data": {
      "text/plain": [
       "[('article', 0.0015023591918481957),\n",
       " ('thing', 0.0011415265040784),\n",
       " ('true', 0.0010267792904915674),\n",
       " ('argument', 0.001003059405175015),\n",
       " ('people', 0.0009956434040023544),\n",
       " ('host', 0.0009642426815439876),\n",
       " ('car', 0.0009096803993349177),\n",
       " ('sure', 0.0009084376314981036),\n",
       " ('year', 0.0009050090509306608),\n",
       " ('many', 0.0008941289680427513),\n",
       " ('example', 0.0008510347594509191),\n",
       " ('good', 0.0008188344820505244),\n",
       " ('facility', 0.0008181364220688388),\n",
       " ('wrapper', 0.0008054187636716236),\n",
       " ('podein', 0.0007947583231067742),\n",
       " ('time', 0.0007272838470487488),\n",
       " ('organization', 0.0007165872752398088),\n",
       " ('sequent', 0.0006882349875407956),\n",
       " ('structured', 0.0006812483567647996),\n",
       " ('nature', 0.0006791348770595878)]"
      ]
     },
     "execution_count": 824,
     "metadata": {},
     "output_type": "execute_result"
    }
   ],
   "source": [
    "hdp0.show_topic(1)"
   ]
  },
  {
   "cell_type": "code",
   "execution_count": 654,
   "metadata": {},
   "outputs": [
    {
     "data": {
      "text/plain": [
       "array([[31239.99710122,  5232.55761048,  1544.72754684,   909.13695679,\n",
       "          800.77547481,  1002.44126763,   896.11121122,   768.52045221,\n",
       "          792.71744506,   646.65646797,   509.62249955,   641.40025302,\n",
       "          483.54994264,   507.91205438,   459.18241554,   663.34991416,\n",
       "          403.8892138 ,   619.96142661,   549.46151424],\n",
       "       [17862.60785117, 12631.05024068, 11087.32269384, 10179.18573705,\n",
       "         9379.41026224,  8377.96899461,  7482.85778339,  6715.33733118,\n",
       "         5923.61988611,  5277.96341814,  4769.34091859,  4128.94066557,\n",
       "         3646.39072293,  3139.47866855,  2681.29625301,  2018.94633885,\n",
       "         1616.05712504,   997.09569843,   448.63418419]])"
      ]
     },
     "execution_count": 654,
     "metadata": {},
     "output_type": "execute_result"
    }
   ],
   "source": [
    "hdp0.m_var_sticks"
   ]
  },
  {
   "cell_type": "code",
   "execution_count": 387,
   "metadata": {},
   "outputs": [
    {
     "data": {
      "text/html": [
       "<div>\n",
       "<style scoped>\n",
       "    .dataframe tbody tr th:only-of-type {\n",
       "        vertical-align: middle;\n",
       "    }\n",
       "\n",
       "    .dataframe tbody tr th {\n",
       "        vertical-align: top;\n",
       "    }\n",
       "\n",
       "    .dataframe thead th {\n",
       "        text-align: right;\n",
       "    }\n",
       "</style>\n",
       "<table border=\"1\" class=\"dataframe\">\n",
       "  <thead>\n",
       "    <tr style=\"text-align: right;\">\n",
       "      <th></th>\n",
       "      <th>topic_id</th>\n",
       "      <th>content</th>\n",
       "      <th>topic_name</th>\n",
       "    </tr>\n",
       "  </thead>\n",
       "  <tbody>\n",
       "    <tr>\n",
       "      <th>0</th>\n",
       "      <td>7</td>\n",
       "      <td>From: lerxst@wam.umd.edu (where's my thing)\\nS...</td>\n",
       "      <td>rec.autos</td>\n",
       "    </tr>\n",
       "    <tr>\n",
       "      <th>1</th>\n",
       "      <td>4</td>\n",
       "      <td>From: guykuo@carson.u.washington.edu (Guy Kuo)...</td>\n",
       "      <td>comp.sys.mac.hardware</td>\n",
       "    </tr>\n",
       "    <tr>\n",
       "      <th>2</th>\n",
       "      <td>4</td>\n",
       "      <td>From: twillis@ec.ecn.purdue.edu (Thomas E Will...</td>\n",
       "      <td>comp.sys.mac.hardware</td>\n",
       "    </tr>\n",
       "    <tr>\n",
       "      <th>3</th>\n",
       "      <td>1</td>\n",
       "      <td>From: jgreen@amber (Joe Green)\\nSubject: Re: W...</td>\n",
       "      <td>comp.graphics</td>\n",
       "    </tr>\n",
       "    <tr>\n",
       "      <th>4</th>\n",
       "      <td>14</td>\n",
       "      <td>From: jcm@head-cfa.harvard.edu (Jonathan McDow...</td>\n",
       "      <td>sci.space</td>\n",
       "    </tr>\n",
       "    <tr>\n",
       "      <th>5</th>\n",
       "      <td>16</td>\n",
       "      <td>From: dfo@vttoulu.tko.vtt.fi (Foxvog Douglas)\\...</td>\n",
       "      <td>talk.politics.guns</td>\n",
       "    </tr>\n",
       "    <tr>\n",
       "      <th>6</th>\n",
       "      <td>13</td>\n",
       "      <td>From: bmdelane@quads.uchicago.edu (brian manni...</td>\n",
       "      <td>sci.med</td>\n",
       "    </tr>\n",
       "    <tr>\n",
       "      <th>7</th>\n",
       "      <td>3</td>\n",
       "      <td>From: bgrubb@dante.nmsu.edu (GRUBB)\\nSubject: ...</td>\n",
       "      <td>comp.sys.ibm.pc.hardware</td>\n",
       "    </tr>\n",
       "    <tr>\n",
       "      <th>8</th>\n",
       "      <td>2</td>\n",
       "      <td>From: holmes7000@iscsvax.uni.edu\\nSubject: WIn...</td>\n",
       "      <td>comp.os.ms-windows.misc</td>\n",
       "    </tr>\n",
       "    <tr>\n",
       "      <th>9</th>\n",
       "      <td>4</td>\n",
       "      <td>From: kerr@ux1.cso.uiuc.edu (Stan Kerr)\\nSubje...</td>\n",
       "      <td>comp.sys.mac.hardware</td>\n",
       "    </tr>\n",
       "  </tbody>\n",
       "</table>\n",
       "</div>"
      ],
      "text/plain": [
       "   topic_id                                            content  \\\n",
       "0         7  From: lerxst@wam.umd.edu (where's my thing)\\nS...   \n",
       "1         4  From: guykuo@carson.u.washington.edu (Guy Kuo)...   \n",
       "2         4  From: twillis@ec.ecn.purdue.edu (Thomas E Will...   \n",
       "3         1  From: jgreen@amber (Joe Green)\\nSubject: Re: W...   \n",
       "4        14  From: jcm@head-cfa.harvard.edu (Jonathan McDow...   \n",
       "5        16  From: dfo@vttoulu.tko.vtt.fi (Foxvog Douglas)\\...   \n",
       "6        13  From: bmdelane@quads.uchicago.edu (brian manni...   \n",
       "7         3  From: bgrubb@dante.nmsu.edu (GRUBB)\\nSubject: ...   \n",
       "8         2  From: holmes7000@iscsvax.uni.edu\\nSubject: WIn...   \n",
       "9         4  From: kerr@ux1.cso.uiuc.edu (Stan Kerr)\\nSubje...   \n",
       "\n",
       "                 topic_name  \n",
       "0                 rec.autos  \n",
       "1     comp.sys.mac.hardware  \n",
       "2     comp.sys.mac.hardware  \n",
       "3             comp.graphics  \n",
       "4                 sci.space  \n",
       "5        talk.politics.guns  \n",
       "6                   sci.med  \n",
       "7  comp.sys.ibm.pc.hardware  \n",
       "8   comp.os.ms-windows.misc  \n",
       "9     comp.sys.mac.hardware  "
      ]
     },
     "execution_count": 387,
     "metadata": {},
     "output_type": "execute_result"
    }
   ],
   "source": [
    "news_df.topic"
   ]
  },
  {
   "cell_type": "code",
   "execution_count": 619,
   "metadata": {},
   "outputs": [
    {
     "data": {
      "text/plain": [
       "[('article', 0.0013179163450865502),\n",
       " ('wood_stove', 0.001135182492950929),\n",
       " ('thing', 0.001086118319931774),\n",
       " ('eavesdropping', 0.0008919078193118556),\n",
       " ('brutality', 0.0008692922997744474),\n",
       " ('wrap', 0.0008593717160128941),\n",
       " ('biochemistry', 0.0008473132553888815),\n",
       " ('weakling', 0.0008237121765479491),\n",
       " ('configure', 0.0008080060151357657),\n",
       " ('book', 0.0007786429728276201),\n",
       " ('egress', 0.0007532214939672576),\n",
       " ('people', 0.0007489291263493785),\n",
       " ('defence', 0.0007351214599643481),\n",
       " ('turkish_minority', 0.0007334206309015805),\n",
       " ('irvine', 0.0007278371840266935),\n",
       " ('floppy', 0.000714582900549028),\n",
       " ('director', 0.0007116625864314346),\n",
       " ('host', 0.0006880371141334753),\n",
       " ('way', 0.00068798648867575),\n",
       " ('allergic', 0.0006742179459968427)]"
      ]
     },
     "execution_count": 619,
     "metadata": {},
     "output_type": "execute_result"
    }
   ],
   "source": [
    "hdp0.show_topic(2)"
   ]
  },
  {
   "cell_type": "code",
   "execution_count": 781,
   "metadata": {},
   "outputs": [],
   "source": [
    "alpha0, beta0 = hdp0.hdp_to_lda()"
   ]
  },
  {
   "cell_type": "code",
   "execution_count": 782,
   "metadata": {},
   "outputs": [
    {
     "data": {
      "image/png": "[encoded data removed]",
      "text/plain": [
       "<Figure size 432x288 with 1 Axes>"
      ]
     },
     "metadata": {
      "needs_background": "light"
     },
     "output_type": "display_data"
    }
   ],
   "source": [
    "plt.plot(range(20),alpha0)\n",
    "pass"
   ]
  },
  {
   "cell_type": "code",
   "execution_count": 256,
   "metadata": {},
   "outputs": [],
   "source": [
    "alpha, beta = hdp1.hdp_to_lda()"
   ]
  },
  {
   "cell_type": "code",
   "execution_count": 257,
   "metadata": {},
   "outputs": [
    {
     "data": {
      "image/png": "[encoded data removed]",
      "text/plain": [
       "<Figure size 432x288 with 1 Axes>"
      ]
     },
     "metadata": {
      "needs_background": "light"
     },
     "output_type": "display_data"
    }
   ],
   "source": [
    "plt.plot(range(20),alpha[:20])\n",
    "pass"
   ]
  },
  {
   "cell_type": "code",
   "execution_count": 258,
   "metadata": {},
   "outputs": [],
   "source": [
    "alpha2, beta2 = hdp2.hdp_to_lda()"
   ]
  },
  {
   "cell_type": "code",
   "execution_count": 259,
   "metadata": {},
   "outputs": [
    {
     "data": {
      "image/png": "[encoded data removed]",
      "text/plain": [
       "<Figure size 432x288 with 1 Axes>"
      ]
     },
     "metadata": {
      "needs_background": "light"
     },
     "output_type": "display_data"
    }
   ],
   "source": [
    "plt.plot(range(20),alpha2[:20])\n",
    "pass"
   ]
  },
  {
   "cell_type": "code",
   "execution_count": 644,
   "metadata": {},
   "outputs": [
    {
     "data": {
      "image/png": "[encoded data removed]",
      "text/plain": [
       "<Figure size 432x288 with 1 Axes>"
      ]
     },
     "metadata": {
      "needs_background": "light"
     },
     "output_type": "display_data"
    }
   ],
   "source": [
    "#plt.plot(list(range(20)),beta[:,0])\n",
    "plt.plot(range(len(vocab)),beta0[17,:])\n",
    "pass"
   ]
  },
  {
   "cell_type": "code",
   "execution_count": null,
   "metadata": {},
   "outputs": [],
   "source": []
  },
  {
   "cell_type": "markdown",
   "metadata": {},
   "source": [
    "### Model Evaluation - Coherence"
   ]
  },
  {
   "cell_type": "code",
   "execution_count": null,
   "metadata": {},
   "outputs": [],
   "source": []
  },
  {
   "cell_type": "code",
   "execution_count": 74,
   "metadata": {},
   "outputs": [],
   "source": [
    "models = [hdp0, hdp1, hdp2]\n",
    "hdp_coherence_vals = []\n",
    "\n",
    "for m in models:\n",
    "    cm = CoherenceModel(model=m, dictionary=vocab, texts=word_list_lemmatized, coherence='c_v')\n",
    "    hdp_coherence_vals.append(cm.get_coherence())\n"
   ]
  },
  {
   "cell_type": "code",
   "execution_count": 169,
   "metadata": {},
   "outputs": [
    {
     "name": "stdout",
     "output_type": "stream",
     "text": [
      "HDP Model 0 Coherence score: 0.41402400063088507\n",
      "HDP Model 1 Coherence score: 0.4596102136731104\n",
      "HDP Model 2 Coherence score: 0.5565876982176636\n"
     ]
    }
   ],
   "source": [
    "for i in range(len(models)):\n",
    "    print(\"HDP Model \" + str(i) + \" Coherence score: \" + str(hdp_coherence_vals[i]))"
   ]
  },
  {
   "cell_type": "markdown",
   "metadata": {},
   "source": [
    "### Model Comparison"
   ]
  },
  {
   "cell_type": "code",
   "execution_count": null,
   "metadata": {},
   "outputs": [],
   "source": [
    "#! curl -O http://mallet.cs.umass.edu/dist/mallet-2.0.8.zip\n",
    "#! unzip mallet-2.0.8.zip\n",
    "#! rm mallet-2.0.8.zip"
   ]
  },
  {
   "cell_type": "code",
   "execution_count": 35,
   "metadata": {},
   "outputs": [],
   "source": [
    "mallet_path = \"mallet-2.0.8/bin/mallet\""
   ]
  },
  {
   "cell_type": "code",
   "execution_count": 36,
   "metadata": {},
   "outputs": [],
   "source": [
    "def lda_coherence_vals(corpus, vocab, txt, stop, start=2, step_size=6):\n",
    "    '''Computes LDA coherences values for a given range of topics'''\n",
    "    \n",
    "    c_scores = []\n",
    "\n",
    "    for n_topic in range(start, stop, step_size):\n",
    "        lda = LdaMallet(mallet_path, corpus=corpus, id2word=vocab, num_topics=n_topic)\n",
    "        coherence_lda = CoherenceModel(model=lda, dictionary=vocab, texts=txt, coherence='c_v')\n",
    "        c_scores.append(coherence_lda.get_coherence())\n",
    "        \n",
    "    return c_scores\n",
    "    "
   ]
  },
  {
   "cell_type": "code",
   "execution_count": 166,
   "metadata": {},
   "outputs": [],
   "source": [
    "steps = 6\n",
    "stop = 26\n",
    "coherence_vals = lda_coherence_vals(corpus, vocab, word_list_lemmatized, \n",
    "                                    stop=40, start=2, step_size=steps )\n"
   ]
  },
  {
   "cell_type": "code",
   "execution_count": 587,
   "metadata": {},
   "outputs": [
    {
     "data": {
      "text/plain": [
       "0.5698721197557204"
      ]
     },
     "execution_count": 587,
     "metadata": {},
     "output_type": "execute_result"
    }
   ],
   "source": [
    "best_lda = LdaMallet(mallet_path, corpus=corpus, id2word=vocab, num_topics=20)\n",
    "cmallet = CoherenceModel(model=best_lda, dictionary=vocab, texts=word_list_lemmatized, coherence='c_v')\n",
    "cmallet.get_coherence()"
   ]
  },
  {
   "cell_type": "code",
   "execution_count": 167,
   "metadata": {},
   "outputs": [
    {
     "name": "stderr",
     "output_type": "stream",
     "text": [
      "/usr/local/lib/python3.7/site-packages/plotnine/geoms/geom_path.py:75: PlotnineWarning: geom_path: Removed 3 rows containing missing values.\n",
      "  warn(msg.format(n1-n2), PlotnineWarning)\n"
     ]
    },
    {
     "data": {
      "image/png": "[encoded data removed]",
      "text/plain": [
       "<Figure size 640x480 with 1 Axes>"
      ]
     },
     "metadata": {},
     "output_type": "display_data"
    },
    {
     "data": {
      "text/plain": [
       "<ggplot: (367977333)>"
      ]
     },
     "execution_count": 167,
     "metadata": {},
     "output_type": "execute_result"
    }
   ],
   "source": [
    "\n",
    "topics = list(range(2,stop,steps))\n",
    "\n",
    "df = pd.DataFrame([topics, coherence_vals]).T\n",
    "for v in hdp_coherence_vals:\n",
    "    vals = pd.Series(np.repeat(v, len(topics)))\n",
    "    df = pd.concat([df, vals], axis=1)\n",
    "\n",
    "df.columns = [\"topics\", \"LDA\", \"HDP20\", \"HDP_default\", \"HDP350\"]\n",
    "df_melt = df.melt(id_vars=[\"topics\"], var_name=\"Model\")\n",
    "\n",
    "(ggplot(df_melt, aes(x='topics', y='value', color='Model')) +\n",
    " geom_line(size=1) +\n",
    " labs(x = 'Topics', y=\"Coherence Score\", title=\"Coherence values across Models\")+\n",
    " theme_bw() +\n",
    " scale_x_continuous(breaks = topics)\n",
    ")\n"
   ]
  },
  {
   "cell_type": "code",
   "execution_count": null,
   "metadata": {},
   "outputs": [],
   "source": []
  },
  {
   "cell_type": "code",
   "execution_count": 77,
   "metadata": {},
   "outputs": [],
   "source": [
    "cnts = np.zeros(len(corpus), dtype=int)\n",
    "for i, cp in enumerate(corpus):\n",
    "    cnts[i] = len(hdp2[cp])"
   ]
  },
  {
   "cell_type": "code",
   "execution_count": 98,
   "metadata": {},
   "outputs": [
    {
     "data": {
      "image/png": "[encoded data removed]",
      "text/plain": [
       "<Figure size 640x480 with 1 Axes>"
      ]
     },
     "metadata": {},
     "output_type": "display_data"
    },
    {
     "data": {
      "text/plain": [
       "<ggplot: (365926281)>"
      ]
     },
     "execution_count": 98,
     "metadata": {},
     "output_type": "execute_result"
    }
   ],
   "source": [
    "df_cnts = pd.DataFrame(cnts, columns=[\"num_topics\"])\n",
    "\n",
    "(ggplot(df_cnts, aes('num_topics')) +\n",
    " geom_histogram(fill='#F8766D', color='black', bins=8 ) +\n",
    " labs(x='Number of Topics', y=\"Document count\", \n",
    "      title=\"HDP characterizes most documents as having mixture of 1-3 topics\") +\n",
    " theme_bw()\n",
    ")"
   ]
  },
  {
   "cell_type": "markdown",
   "metadata": {},
   "source": [
    "### Topic importance"
   ]
  },
  {
   "cell_type": "code",
   "execution_count": 99,
   "metadata": {},
   "outputs": [
    {
     "data": {
      "text/plain": [
       "[(3, 0.3104252450183565), (6, 0.26490325356754646), (9, 0.42237553825062374)]"
      ]
     },
     "execution_count": 99,
     "metadata": {},
     "output_type": "execute_result"
    }
   ],
   "source": [
    "# The corpus as index in the model provides us with the (topic_id, proportion) tuple\n",
    "# for a specific document\n",
    "hdp2[corpus[0]]"
   ]
  },
  {
   "cell_type": "code",
   "execution_count": 100,
   "metadata": {},
   "outputs": [
    {
     "data": {
      "text/plain": [
       "[('thank', 0.00887603530673754),\n",
       " ('host', 0.008264678406600732),\n",
       " ('need', 0.00694089001301371),\n",
       " ('be', 0.006925108376371276),\n",
       " ('would', 0.0067389652358371185),\n",
       " ('mail', 0.005964637334251539),\n",
       " ('organization', 0.005563916085396642),\n",
       " ('use', 0.005440828156119138),\n",
       " ('phone', 0.005359562090845406),\n",
       " ('know', 0.004582300074565976),\n",
       " ('work', 0.004354385168906362),\n",
       " ('go', 0.004054810729006758),\n",
       " ('product', 0.003988054349554451),\n",
       " ('information', 0.003940811545411079),\n",
       " ('file', 0.003902000892619754),\n",
       " ('program', 0.003875884452016117),\n",
       " ('also', 0.003652000329662418),\n",
       " ('nntp_poste', 0.0036181500074814205),\n",
       " ('datum', 0.0035833289763548973),\n",
       " ('cheap', 0.0034168193210301553)]"
      ]
     },
     "execution_count": 100,
     "metadata": {},
     "output_type": "execute_result"
    }
   ],
   "source": [
    "# We can obtain all the topic key words related to a topic this way\n",
    "hdp2.show_topic(topic_id=9)"
   ]
  },
  {
   "cell_type": "code",
   "execution_count": null,
   "metadata": {},
   "outputs": [],
   "source": []
  },
  {
   "cell_type": "code",
   "execution_count": 80,
   "metadata": {},
   "outputs": [],
   "source": [
    "def topic_importance(model, corpus, txt):\n",
    "    ''''''\n",
    "    out_df = pd.DataFrame()\n",
    "    \n",
    "    for i, row in enumerate(model[corpus]):\n",
    "        sort_row = sorted(row, key=lambda x: (x[1]), reverse=True) # sort based on proportion\n",
    "        \n",
    "        for k, (topic, proportion) in enumerate(sort_row):\n",
    "            if k == 0:\n",
    "                word_prop = model.show_topic(topic)\n",
    "                k_words = \", \".join([w for w, p in word_prop])\n",
    "                out_df = out_df.append(pd.Series([int(topic), round(proportion,6), k_words]), ignore_index=True)\n",
    "            else:\n",
    "                break\n",
    "    \n",
    "    original_docs = pd.Series(txt)\n",
    "    out_df = pd.concat([out_df, original_docs], axis=1)\n",
    "    \n",
    "    return out_df\n",
    "                "
   ]
  },
  {
   "cell_type": "code",
   "execution_count": 101,
   "metadata": {},
   "outputs": [],
   "source": [
    "top_k = topic_importance(hdp2, corpus, doc_list)"
   ]
  },
  {
   "cell_type": "code",
   "execution_count": null,
   "metadata": {},
   "outputs": [],
   "source": [
    "top_dominant = top_k.reset_index()\n",
    "top_dominant.columns = ['Document_No', 'Dominant_Topic', 'Topic_Perc_Contrib', 'Keywords', 'Text']\n",
    "\n",
    "with option_context('display.max_colwidth', 100):\n",
    "    display(top_dominant.head(8))"
   ]
  },
  {
   "cell_type": "code",
   "execution_count": null,
   "metadata": {},
   "outputs": [],
   "source": []
  },
  {
   "cell_type": "markdown",
   "metadata": {},
   "source": [
    "### Document importance  topics"
   ]
  },
  {
   "cell_type": "code",
   "execution_count": null,
   "metadata": {},
   "outputs": [],
   "source": []
  },
  {
   "cell_type": "code",
   "execution_count": null,
   "metadata": {},
   "outputs": [],
   "source": [
    "top_doc_per_topic = pd.DataFrame()\n",
    "\n",
    "top_k.columns = ['Dominant_Topic', 'Perc_Contribution', 'Topic_Keywords', 'Text']\n",
    "\n",
    "top_k_grp = top_k.groupby('Dominant_Topic')\n",
    "\n",
    "for i, grp in top_k_grp:\n",
    "    top_doc_per_topic= pd.concat([top_doc_per_topic , \n",
    "                                     grp.sort_values(['Perc_Contribution'], ascending=False).head(1)], axis=0)\n",
    "\n",
    "# Reset Index    \n",
    "top_doc_per_topic.reset_index(drop=True, inplace=True)\n",
    "\n",
    "# Format\n",
    "top_doc_per_topic.columns = ['Topic_Num', \"Topic_Perc_Contrib\", \"Keywords\", \"Text\"]\n",
    "\n",
    "# Show\n",
    "with option_context('display.max_colwidth', 100):\n",
    "    display(top_doc_per_topic.head(8))"
   ]
  },
  {
   "cell_type": "code",
   "execution_count": null,
   "metadata": {},
   "outputs": [],
   "source": []
  },
  {
   "cell_type": "markdown",
   "metadata": {},
   "source": [
    "### Topic distribution across topics"
   ]
  },
  {
   "cell_type": "code",
   "execution_count": null,
   "metadata": {},
   "outputs": [],
   "source": [
    "# Number of Documents for Each Topic\n",
    "topic_cnts = top_k['Dominant_Topic'].value_counts()\n",
    "\n",
    "# Percentage of Documents for Each Topic\n",
    "topic_contribution = round(topic_cnts/topic_cnts.sum(), 4)\n",
    "\n",
    "# Topic Number and Keywords\n",
    "topic_num_keywords = top_k[['Dominant_Topic', 'Topic_Keywords']].drop_duplicates().set_index(\"Dominant_Topic\")\n",
    "\n",
    "# Concatenate Column wise\n",
    "df_dominant_topics = pd.concat([topic_num_keywords, topic_cnts, topic_contribution], axis=1)\n",
    "\n",
    "\n",
    "# Change Column names\n",
    "df_dominant_topics.reset_index(inplace=True)\n",
    "df_dominant_topics.columns = ['Dominant_Topic', 'Topic_Keywords', 'Num_Documents', 'Perc_Documents']\n",
    "\n",
    "\n",
    "# Show\n",
    "with option_context('display.max_colwidth', 100):\n",
    "    display(df_dominant_topics.head(10))\n"
   ]
  },
  {
   "cell_type": "code",
   "execution_count": null,
   "metadata": {},
   "outputs": [],
   "source": [
    "with option_context('display.max_colwidth', 200):\n",
    "    display(df_dominant_topics.sort_values(by=\"Perc_Documents\", ascending=False).head(30))"
   ]
  }
 ],
 "metadata": {
  "kernelspec": {
   "display_name": "Python 3",
   "language": "python",
   "name": "python3"
  },
  "language_info": {
   "codemirror_mode": {
    "name": "ipython",
    "version": 3
   },
   "file_extension": ".py",
   "mimetype": "text/x-python",
   "name": "python",
   "nbconvert_exporter": "python",
   "pygments_lexer": "ipython3",
   "version": "3.7.6"
  }
 },
 "nbformat": 4,
 "nbformat_minor": 4
}
